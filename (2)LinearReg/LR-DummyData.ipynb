{
 "cells": [
  {
   "cell_type": "code",
   "execution_count": 2,
   "id": "755f9443-a51a-4f0b-aca6-39fba1e6ec57",
   "metadata": {},
   "outputs": [],
   "source": [
    "import numpy as np\n",
    "import pandas as pd"
   ]
  },
  {
   "cell_type": "code",
   "execution_count": 3,
   "id": "cd71c9e9-dd4c-435f-a4fb-abf071c7c717",
   "metadata": {},
   "outputs": [
    {
     "name": "stdout",
     "output_type": "stream",
     "text": [
      "<class 'numpy.ndarray'>\n"
     ]
    }
   ],
   "source": [
    "#Load data into numpy from the belwo-function:\n",
    "data=np.loadtxt('data.csv',delimiter=\",\")#by-default for txt-files delimiter has blankSpace but for csv-files it needs a \",\"->comma\n",
    "# If the file is at different place, then you could include that path in the (\"\") with name itself\n",
    "print(type(data))\n"
   ]
  },
  {
   "cell_type": "code",
   "execution_count": 4,
   "id": "fa05fd92-01df-49ba-b77a-cca7a30b040a",
   "metadata": {},
   "outputs": [
    {
     "data": {
      "text/plain": [
       "(100, 2)"
      ]
     },
     "execution_count": 4,
     "metadata": {},
     "output_type": "execute_result"
    }
   ],
   "source": [
    "data.shape \n",
    "#(rows,col):100 rows with 2coloumns in which one of them is y and rest other means 1 is x means one feature-input only"
   ]
  },
  {
   "cell_type": "markdown",
   "id": "7fb59a55-1cf1-42da-9856-dae30442ce69",
   "metadata": {},
   "source": [
    "## Input-feature should\n",
    "* be atleast 2D is needed,bcz the rowNo. behaves as serial number for which row is only generated\n",
    "* when there is more than one-feature or coloumn else not means in 1-feature it would store them in serial order\n",
    "* in a single row,that's not accepted in ML, for which X-data should have rows in any case"
   ]
  },
  {
   "cell_type": "code",
   "execution_count": 5,
   "id": "d666b019-4024-49ce-9b1d-09c9d309e111",
   "metadata": {},
   "outputs": [
    {
     "name": "stdout",
     "output_type": "stream",
     "text": [
      "[32.50234527 53.42680403 61.53035803 47.47563963 59.81320787 55.14218841\n",
      " 52.21179669 39.29956669 48.10504169 52.55001444 45.41973014 54.35163488\n",
      " 44.1640495  58.16847072 56.72720806 48.95588857 44.68719623 60.29732685\n",
      " 45.61864377 38.81681754 66.18981661 65.41605175 47.48120861 41.57564262\n",
      " 51.84518691 59.37082201 57.31000344 63.61556125 46.73761941 50.55676015\n",
      " 52.22399609 35.56783005 42.43647694 58.16454011 57.50444762 45.44053073\n",
      " 61.89622268 33.09383174 36.43600951 37.67565486 44.55560838 43.31828263\n",
      " 50.07314563 43.87061265 62.99748075 32.66904376 40.16689901 53.57507753\n",
      " 33.86421497 64.70713867 38.11982403 44.50253806 40.59953838 41.72067636\n",
      " 51.08863468 55.0780959  41.37772653 62.49469743 49.20388754 41.10268519\n",
      " 41.18201611 50.18638949 52.37844622 50.13548549 33.64470601 39.55790122\n",
      " 56.13038882 57.36205213 60.26921439 35.67809389 31.588117   53.66093226\n",
      " 46.68222865 43.10782022 70.34607562 44.49285588 57.5045333  36.93007661\n",
      " 55.80573336 38.95476907 56.9012147  56.86890066 34.3331247  59.04974121\n",
      " 57.78822399 54.28232871 51.0887199  50.28283635 44.21174175 38.00548801\n",
      " 32.94047994 53.69163957 68.76573427 46.2309665  68.31936082 50.03017434\n",
      " 49.23976534 50.03957594 48.14985889 25.12848465]\n",
      "[[32.50234527]\n",
      " [53.42680403]\n",
      " [61.53035803]\n",
      " [47.47563963]\n",
      " [59.81320787]\n",
      " [55.14218841]\n",
      " [52.21179669]\n",
      " [39.29956669]\n",
      " [48.10504169]\n",
      " [52.55001444]\n",
      " [45.41973014]\n",
      " [54.35163488]\n",
      " [44.1640495 ]\n",
      " [58.16847072]\n",
      " [56.72720806]\n",
      " [48.95588857]\n",
      " [44.68719623]\n",
      " [60.29732685]\n",
      " [45.61864377]\n",
      " [38.81681754]\n",
      " [66.18981661]\n",
      " [65.41605175]\n",
      " [47.48120861]\n",
      " [41.57564262]\n",
      " [51.84518691]\n",
      " [59.37082201]\n",
      " [57.31000344]\n",
      " [63.61556125]\n",
      " [46.73761941]\n",
      " [50.55676015]\n",
      " [52.22399609]\n",
      " [35.56783005]\n",
      " [42.43647694]\n",
      " [58.16454011]\n",
      " [57.50444762]\n",
      " [45.44053073]\n",
      " [61.89622268]\n",
      " [33.09383174]\n",
      " [36.43600951]\n",
      " [37.67565486]\n",
      " [44.55560838]\n",
      " [43.31828263]\n",
      " [50.07314563]\n",
      " [43.87061265]\n",
      " [62.99748075]\n",
      " [32.66904376]\n",
      " [40.16689901]\n",
      " [53.57507753]\n",
      " [33.86421497]\n",
      " [64.70713867]\n",
      " [38.11982403]\n",
      " [44.50253806]\n",
      " [40.59953838]\n",
      " [41.72067636]\n",
      " [51.08863468]\n",
      " [55.0780959 ]\n",
      " [41.37772653]\n",
      " [62.49469743]\n",
      " [49.20388754]\n",
      " [41.10268519]\n",
      " [41.18201611]\n",
      " [50.18638949]\n",
      " [52.37844622]\n",
      " [50.13548549]\n",
      " [33.64470601]\n",
      " [39.55790122]\n",
      " [56.13038882]\n",
      " [57.36205213]\n",
      " [60.26921439]\n",
      " [35.67809389]\n",
      " [31.588117  ]\n",
      " [53.66093226]\n",
      " [46.68222865]\n",
      " [43.10782022]\n",
      " [70.34607562]\n",
      " [44.49285588]\n",
      " [57.5045333 ]\n",
      " [36.93007661]\n",
      " [55.80573336]\n",
      " [38.95476907]\n",
      " [56.9012147 ]\n",
      " [56.86890066]\n",
      " [34.3331247 ]\n",
      " [59.04974121]\n",
      " [57.78822399]\n",
      " [54.28232871]\n",
      " [51.0887199 ]\n",
      " [50.28283635]\n",
      " [44.21174175]\n",
      " [38.00548801]\n",
      " [32.94047994]\n",
      " [53.69163957]\n",
      " [68.76573427]\n",
      " [46.2309665 ]\n",
      " [68.31936082]\n",
      " [50.03017434]\n",
      " [49.23976534]\n",
      " [50.03957594]\n",
      " [48.14985889]\n",
      " [25.12848465]]\n"
     ]
    }
   ],
   "source": [
    "#Split this 2coloumned-data into x and y\n",
    "x=data[:,0]#All the rows of first coloumn are for x,but it would make x as 1D-array, Input-feature should\n",
    "#be atleast 2D is needed,bcz the rowNo. behaves as serial number for which row is only generated\n",
    "#when there is more than one-feature or coloumn else not means in 1-feature it would store them in serial order\n",
    "#in a single row,that's not accepted in ML, for which X-data should have rows in any case\n",
    "# 1D->array is: [1,2,3,4]\n",
    "# 2D->array is: \n",
    "# [[12]\n",
    "# [23],\n",
    "# [34],\n",
    "# [45]]\n",
    "print(x)\n",
    "x=x.reshape(-1,1) #This would convert the singled-row array into mutli-row of 2D(RowXColumn) array , in which \"-1\" is written in left part, thats for row, always in reshape where the -1 is written means there items would be as it is, where 1 is written means there one Dimension is added \n",
    "print(x)\n",
    "y=data[:,1]#All the rows of 2nd column are for y\n",
    "#Both are for 100 data-points"
   ]
  },
  {
   "cell_type": "code",
   "execution_count": 6,
   "id": "9c031c91-0b2a-424b-b7ae-c08319565817",
   "metadata": {},
   "outputs": [
    {
     "name": "stdout",
     "output_type": "stream",
     "text": [
      "(100, 1)\n",
      "(100,)\n"
     ]
    }
   ],
   "source": [
    "print(x.shape)#Now x has rows and 1column means 2d array\n",
    "print(y.shape)"
   ]
  },
  {
   "cell_type": "code",
   "execution_count": 7,
   "id": "b5287a72-3815-48da-ad7f-7d191c3e9204",
   "metadata": {},
   "outputs": [
    {
     "name": "stdout",
     "output_type": "stream",
     "text": [
      "(75, 1)\n",
      "(25, 1)\n",
      "(75,)\n",
      "(25,)\n"
     ]
    }
   ],
   "source": [
    "#Now divide them into training and testing from sklearn model:\n",
    "from sklearn import model_selection #By-default(75%training,25%testing) from anywhere randomely from the dataSet\n",
    "x_train,x_test,y_train,y_test=model_selection.train_test_split(x,y,test_size=0.25)\n",
    "#test_size argumnet contains percentage of testSize in decimal, bydefault it is 0.25, means test_size is 25%\n",
    "print(x_train.shape)\n",
    "print(x_test.shape)\n",
    "print(y_train.shape)\n",
    "print(y_test.shape)"
   ]
  },
  {
   "cell_type": "code",
   "execution_count": 8,
   "id": "fe3dbf24-3861-4625-956d-736b65f1187e",
   "metadata": {},
   "outputs": [
    {
     "data": {
      "text/html": [
       "<style>#sk-container-id-1 {color: black;background-color: white;}#sk-container-id-1 pre{padding: 0;}#sk-container-id-1 div.sk-toggleable {background-color: white;}#sk-container-id-1 label.sk-toggleable__label {cursor: pointer;display: block;width: 100%;margin-bottom: 0;padding: 0.3em;box-sizing: border-box;text-align: center;}#sk-container-id-1 label.sk-toggleable__label-arrow:before {content: \"▸\";float: left;margin-right: 0.25em;color: #696969;}#sk-container-id-1 label.sk-toggleable__label-arrow:hover:before {color: black;}#sk-container-id-1 div.sk-estimator:hover label.sk-toggleable__label-arrow:before {color: black;}#sk-container-id-1 div.sk-toggleable__content {max-height: 0;max-width: 0;overflow: hidden;text-align: left;background-color: #f0f8ff;}#sk-container-id-1 div.sk-toggleable__content pre {margin: 0.2em;color: black;border-radius: 0.25em;background-color: #f0f8ff;}#sk-container-id-1 input.sk-toggleable__control:checked~div.sk-toggleable__content {max-height: 200px;max-width: 100%;overflow: auto;}#sk-container-id-1 input.sk-toggleable__control:checked~label.sk-toggleable__label-arrow:before {content: \"▾\";}#sk-container-id-1 div.sk-estimator input.sk-toggleable__control:checked~label.sk-toggleable__label {background-color: #d4ebff;}#sk-container-id-1 div.sk-label input.sk-toggleable__control:checked~label.sk-toggleable__label {background-color: #d4ebff;}#sk-container-id-1 input.sk-hidden--visually {border: 0;clip: rect(1px 1px 1px 1px);clip: rect(1px, 1px, 1px, 1px);height: 1px;margin: -1px;overflow: hidden;padding: 0;position: absolute;width: 1px;}#sk-container-id-1 div.sk-estimator {font-family: monospace;background-color: #f0f8ff;border: 1px dotted black;border-radius: 0.25em;box-sizing: border-box;margin-bottom: 0.5em;}#sk-container-id-1 div.sk-estimator:hover {background-color: #d4ebff;}#sk-container-id-1 div.sk-parallel-item::after {content: \"\";width: 100%;border-bottom: 1px solid gray;flex-grow: 1;}#sk-container-id-1 div.sk-label:hover label.sk-toggleable__label {background-color: #d4ebff;}#sk-container-id-1 div.sk-serial::before {content: \"\";position: absolute;border-left: 1px solid gray;box-sizing: border-box;top: 0;bottom: 0;left: 50%;z-index: 0;}#sk-container-id-1 div.sk-serial {display: flex;flex-direction: column;align-items: center;background-color: white;padding-right: 0.2em;padding-left: 0.2em;position: relative;}#sk-container-id-1 div.sk-item {position: relative;z-index: 1;}#sk-container-id-1 div.sk-parallel {display: flex;align-items: stretch;justify-content: center;background-color: white;position: relative;}#sk-container-id-1 div.sk-item::before, #sk-container-id-1 div.sk-parallel-item::before {content: \"\";position: absolute;border-left: 1px solid gray;box-sizing: border-box;top: 0;bottom: 0;left: 50%;z-index: -1;}#sk-container-id-1 div.sk-parallel-item {display: flex;flex-direction: column;z-index: 1;position: relative;background-color: white;}#sk-container-id-1 div.sk-parallel-item:first-child::after {align-self: flex-end;width: 50%;}#sk-container-id-1 div.sk-parallel-item:last-child::after {align-self: flex-start;width: 50%;}#sk-container-id-1 div.sk-parallel-item:only-child::after {width: 0;}#sk-container-id-1 div.sk-dashed-wrapped {border: 1px dashed gray;margin: 0 0.4em 0.5em 0.4em;box-sizing: border-box;padding-bottom: 0.4em;background-color: white;}#sk-container-id-1 div.sk-label label {font-family: monospace;font-weight: bold;display: inline-block;line-height: 1.2em;}#sk-container-id-1 div.sk-label-container {text-align: center;}#sk-container-id-1 div.sk-container {/* jupyter's `normalize.less` sets `[hidden] { display: none; }` but bootstrap.min.css set `[hidden] { display: none !important; }` so we also need the `!important` here to be able to override the default hidden behavior on the sphinx rendered scikit-learn.org. See: https://github.com/scikit-learn/scikit-learn/issues/21755 */display: inline-block !important;position: relative;}#sk-container-id-1 div.sk-text-repr-fallback {display: none;}</style><div id=\"sk-container-id-1\" class=\"sk-top-container\"><div class=\"sk-text-repr-fallback\"><pre>LinearRegression()</pre><b>In a Jupyter environment, please rerun this cell to show the HTML representation or trust the notebook. <br />On GitHub, the HTML representation is unable to render, please try loading this page with nbviewer.org.</b></div><div class=\"sk-container\" hidden><div class=\"sk-item\"><div class=\"sk-estimator sk-toggleable\"><input class=\"sk-toggleable__control sk-hidden--visually\" id=\"sk-estimator-id-1\" type=\"checkbox\" checked><label for=\"sk-estimator-id-1\" class=\"sk-toggleable__label sk-toggleable__label-arrow\">LinearRegression</label><div class=\"sk-toggleable__content\"><pre>LinearRegression()</pre></div></div></div></div></div>"
      ],
      "text/plain": [
       "LinearRegression()"
      ]
     },
     "execution_count": 8,
     "metadata": {},
     "output_type": "execute_result"
    }
   ],
   "source": [
    "from sklearn.linear_model import LinearRegression\n",
    "alg1=LinearRegression()\n",
    "alg1.fit(x_train,y_train)#Now algo-fits the trainng data as now X-data is 2D means it has \n",
    "#rows and column\n",
    "#Now as the algo is trained from the training data, now it has figured out the bestFit-Line"
   ]
  },
  {
   "cell_type": "code",
   "execution_count": 9,
   "id": "2f7a04eb-2a1f-4c24-b480-04ca7617581f",
   "metadata": {},
   "outputs": [
    {
     "name": "stdout",
     "output_type": "stream",
     "text": [
      "[1.25715214]\n",
      "9.865528957861365\n"
     ]
    }
   ],
   "source": [
    "#As we have only one feature,means lineEquation would be y=mx+c :\n",
    "print(alg1.coef_)#By-default all-coeff are passed in a single array\n",
    "#m, as here is only one feature so only oneCoeff is there, that's why here is an array with one item ,\n",
    "print(alg1.intercept_) #c"
   ]
  },
  {
   "cell_type": "code",
   "execution_count": 10,
   "id": "885bb091-28ca-43a9-b4f1-c9d03d94421e",
   "metadata": {},
   "outputs": [],
   "source": [
    "y_pred=alg1.predict(x_test) #got the Y_prediction"
   ]
  },
  {
   "cell_type": "code",
   "execution_count": 15,
   "id": "2870cc9d-3dcf-4d1e-b784-e78d261946f2",
   "metadata": {},
   "outputs": [
    {
     "name": "stdout",
     "output_type": "stream",
     "text": [
      "[20 21 22 23 24 25 26 27 28 29 30 31 32 33 34 35 36 37 38 39 40 41 42 43\n",
      " 44 45 46 47 48 49 50 51 52 53 54 55 56 57 58 59 60 61 62 63 64 65 66 67\n",
      " 68 69]\n",
      "<class 'numpy.ndarray'>\n"
     ]
    },
    {
     "data": {
      "image/png": "[encoded data removed]",
      "text/plain": [
       "<Figure size 640x480 with 1 Axes>"
      ]
     },
     "metadata": {},
     "output_type": "display_data"
    }
   ],
   "source": [
    "#Lets analysis with the graph along with BestFitLine with training data\n",
    "import matplotlib.pyplot as plt\n",
    "m=alg1.coef_[0] #select the 0th indexedItem\n",
    "c=alg1.intercept_\n",
    "\n",
    "#Getting the bestFit-lone\n",
    "x_line=np.arange(20,70)#Arranged x-inputs\n",
    "print(x_line)\n",
    "print(type(x_line))\n",
    "\n",
    "y_line=m*x_line+c #Got values of Y corresponding to above x-inputs w.r.t the lineEquation\n",
    "plt.plot(x_line,y_line,'r')\n",
    "\n",
    "#Getting X_train and Y_train points, so that we could compare how bestFit line is Good\n",
    "Xtrain=x_train.reshape(75)#Converted X-train back to its original 1D-Array\n",
    "plt.scatter(Xtrain,y_train)\n",
    "\n",
    "plt.title(\"y_train vs x_train\")\n",
    "\n",
    "plt.show()\n"
   ]
  },
  {
   "cell_type": "code",
   "execution_count": 12,
   "id": "b6472a10-5f64-45bb-9e11-1a280a06232d",
   "metadata": {},
   "outputs": [
    {
     "data": {
      "image/png": "[encoded data removed]",
      "text/plain": [
       "<Figure size 640x480 with 1 Axes>"
      ]
     },
     "metadata": {},
     "output_type": "display_data"
    }
   ],
   "source": [
    "#Lets analysis with the graph along with BestFitLine with testing_data\n",
    "import matplotlib.pyplot as plt\n",
    "m=alg1.coef_[0] #select the 0th indexedItem\n",
    "c=alg1.intercept_\n",
    "\n",
    "#Getting the bestFit-line,which carries Y_pred corresponding to respective x-test\n",
    "x_line=np.arange(20,70,0.1)#Arranged x-inputs\n",
    "y_line=m*x_line+c #Got values of Y corresponding to above x-inputs w.r.t the lineEquation\n",
    "plt.plot(x_line,y_line,'r')\n",
    "\n",
    "#Getting x-test and y_test points, so that we could compare how bestFit-line or Y_pred\n",
    "Xtest=x_test.reshape(25)#Converted X-test back to its original 1D-Array\n",
    "plt.scatter(Xtest,y_test)\n",
    "\n",
    "\n",
    "plt.title(\"y_test vs x_test\")\n",
    "\n",
    "plt.show()\n"
   ]
  },
  {
   "cell_type": "markdown",
   "id": "c3905073-60bd-49ae-ae87-46d2aa1cf6ae",
   "metadata": {},
   "source": [
    "# Coefficient of Determination"
   ]
  },
  {
   "cell_type": "markdown",
   "id": "d63552f8-eed5-4a93-ac17-f90010b4c20b",
   "metadata": {},
   "source": [
    "## Now we would calculate the CoD: Coefficient of Determination\n",
    "* Basically CoD determined how accurate or Good a model is , by giving score b/w 0(Worse) and 1(acurate) {Elaborately written in note-book}\n",
    "* Scikit-learn provides a function for getting CoD called score()"
   ]
  },
  {
   "cell_type": "code",
   "execution_count": 13,
   "id": "6e38a826-553d-4fbf-a8ce-97767d663dc0",
   "metadata": {},
   "outputs": [
    {
     "name": "stdout",
     "output_type": "stream",
     "text": [
      "0.5256754612980175\n",
      "0.6036852892221418\n"
     ]
    }
   ],
   "source": [
    "#As the alg1 is already trained by the training data,now by passing x,y in score\n",
    "#score() would calculate y-pred from alg1 and compare with y_test thorugh CoD and based upon that generated the score\n",
    "score_test=alg1.score(x_test,y_test)\n",
    "score_train=alg1.score(x_train,y_train)\n",
    "print(score_test)\n",
    "print(score_train)"
   ]
  }
 ],
 "metadata": {
  "kernelspec": {
   "display_name": "Python 3 (ipykernel)",
   "language": "python",
   "name": "python3"
  },
  "language_info": {
   "codemirror_mode": {
    "name": "ipython",
    "version": 3
   },
   "file_extension": ".py",
   "mimetype": "text/x-python",
   "name": "python",
   "nbconvert_exporter": "python",
   "pygments_lexer": "ipython3",
   "version": "3.10.9"
  }
 },
 "nbformat": 4,
 "nbformat_minor": 5
}
