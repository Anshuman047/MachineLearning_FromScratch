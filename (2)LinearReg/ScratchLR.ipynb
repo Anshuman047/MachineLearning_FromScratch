{
 "cells": [
  {
   "cell_type": "markdown",
   "id": "50ed3d3a-a289-4764-9aa6-16be167d8c90",
   "metadata": {},
   "source": [
    "# Writing the Linear Regression algorithm from scratch on same dataset as of LR-Dummy, where we used all sklearn functions, now we are building all of them from scratch"
   ]
  },
  {
   "cell_type": "code",
   "execution_count": 170,
   "id": "c6d71a5e-9548-4151-a64d-76735e61d3f0",
   "metadata": {},
   "outputs": [],
   "source": [
    "import numpy as np"
   ]
  },
  {
   "cell_type": "code",
   "execution_count": 171,
   "id": "b8a64ff9-b8a4-436e-8d8a-8d89f2d9f605",
   "metadata": {},
   "outputs": [],
   "source": [
    "data=np.loadtxt('data.csv',delimiter=\",\")"
   ]
  },
  {
   "cell_type": "code",
   "execution_count": 172,
   "id": "00b4c9d1-4dca-48b7-a418-571e53e5d4e2",
   "metadata": {},
   "outputs": [
    {
     "name": "stdout",
     "output_type": "stream",
     "text": [
      "(100,)\n",
      "(100,)\n",
      "<class 'numpy.ndarray'> <class 'numpy.ndarray'>\n"
     ]
    }
   ],
   "source": [
    "x=data[:,0]\n",
    "y=data[:,1]\n",
    "print(x.shape)\n",
    "\n",
    "print(y.shape)\n",
    "print(type(x),type(y))"
   ]
  },
  {
   "cell_type": "code",
   "execution_count": 173,
   "id": "48cf56d8-0970-4e7f-ab02-4eb227d0b462",
   "metadata": {},
   "outputs": [
    {
     "name": "stdout",
     "output_type": "stream",
     "text": [
      "(75,)\n",
      "(25,)\n",
      "(75,)\n",
      "(25,)\n"
     ]
    }
   ],
   "source": [
    "#We would be doing the code of LR for 1-dimension features\n",
    "from sklearn import model_selection\n",
    "x_train,x_test,y_train,y_test=model_selection.train_test_split(x,y,test_size=0.25)\n",
    "print(x_train.shape)\n",
    "print(x_test.shape)\n",
    "print(y_train.shape)\n",
    "print(y_test.shape)"
   ]
  },
  {
   "cell_type": "markdown",
   "id": "3518878e-8f63-4665-a476-551f799ff38f",
   "metadata": {},
   "source": [
    "# (1) Now we are going to make a fit function, which will take the training data and specefies the value of m and c"
   ]
  },
  {
   "cell_type": "code",
   "execution_count": 174,
   "id": "1c82bd9a-091c-4477-9648-02b1038bc598",
   "metadata": {},
   "outputs": [],
   "source": [
    "#The formula for deriving the m and c is written in copy\n",
    "def fitFunction(x_train,y_train):\n",
    "#For loop is not required to multiply all the items of one array to another respective index\n",
    "#As in numpy Array bydefault respective index of both array are operated like here is product:\n",
    "#.mean() function used for getting means, summation leads to very big Entity, so we goes for average, summation/total=mean\n",
    "    num=(x_train*y_train).mean()-x_train.mean()*y_train.mean()\n",
    "    deno=((x_train)**2).mean() - x_train.mean()**2\n",
    "    M=num/deno\n",
    "    C=y_train.mean() - M*x.mean()\n",
    "    \n",
    "    return M,C\n"
   ]
  },
  {
   "cell_type": "code",
   "execution_count": 175,
   "id": "302677b1-0437-4279-80e9-2f077a143117",
   "metadata": {},
   "outputs": [
    {
     "name": "stdout",
     "output_type": "stream",
     "text": [
      "1.391182661351903 4.18617299127402\n"
     ]
    }
   ],
   "source": [
    "#Now will call the fit function to get the values of m and c\n",
    "m,c=fitFunction(x_train,y_train)\n",
    "print(m,c)"
   ]
  },
  {
   "cell_type": "code",
   "execution_count": 176,
   "id": "ed08a1e0-483d-4df4-906b-ae6d5fc26ff6",
   "metadata": {},
   "outputs": [
    {
     "data": {
      "text/html": [
       "<style>#sk-container-id-9 {color: black;background-color: white;}#sk-container-id-9 pre{padding: 0;}#sk-container-id-9 div.sk-toggleable {background-color: white;}#sk-container-id-9 label.sk-toggleable__label {cursor: pointer;display: block;width: 100%;margin-bottom: 0;padding: 0.3em;box-sizing: border-box;text-align: center;}#sk-container-id-9 label.sk-toggleable__label-arrow:before {content: \"▸\";float: left;margin-right: 0.25em;color: #696969;}#sk-container-id-9 label.sk-toggleable__label-arrow:hover:before {color: black;}#sk-container-id-9 div.sk-estimator:hover label.sk-toggleable__label-arrow:before {color: black;}#sk-container-id-9 div.sk-toggleable__content {max-height: 0;max-width: 0;overflow: hidden;text-align: left;background-color: #f0f8ff;}#sk-container-id-9 div.sk-toggleable__content pre {margin: 0.2em;color: black;border-radius: 0.25em;background-color: #f0f8ff;}#sk-container-id-9 input.sk-toggleable__control:checked~div.sk-toggleable__content {max-height: 200px;max-width: 100%;overflow: auto;}#sk-container-id-9 input.sk-toggleable__control:checked~label.sk-toggleable__label-arrow:before {content: \"▾\";}#sk-container-id-9 div.sk-estimator input.sk-toggleable__control:checked~label.sk-toggleable__label {background-color: #d4ebff;}#sk-container-id-9 div.sk-label input.sk-toggleable__control:checked~label.sk-toggleable__label {background-color: #d4ebff;}#sk-container-id-9 input.sk-hidden--visually {border: 0;clip: rect(1px 1px 1px 1px);clip: rect(1px, 1px, 1px, 1px);height: 1px;margin: -1px;overflow: hidden;padding: 0;position: absolute;width: 1px;}#sk-container-id-9 div.sk-estimator {font-family: monospace;background-color: #f0f8ff;border: 1px dotted black;border-radius: 0.25em;box-sizing: border-box;margin-bottom: 0.5em;}#sk-container-id-9 div.sk-estimator:hover {background-color: #d4ebff;}#sk-container-id-9 div.sk-parallel-item::after {content: \"\";width: 100%;border-bottom: 1px solid gray;flex-grow: 1;}#sk-container-id-9 div.sk-label:hover label.sk-toggleable__label {background-color: #d4ebff;}#sk-container-id-9 div.sk-serial::before {content: \"\";position: absolute;border-left: 1px solid gray;box-sizing: border-box;top: 0;bottom: 0;left: 50%;z-index: 0;}#sk-container-id-9 div.sk-serial {display: flex;flex-direction: column;align-items: center;background-color: white;padding-right: 0.2em;padding-left: 0.2em;position: relative;}#sk-container-id-9 div.sk-item {position: relative;z-index: 1;}#sk-container-id-9 div.sk-parallel {display: flex;align-items: stretch;justify-content: center;background-color: white;position: relative;}#sk-container-id-9 div.sk-item::before, #sk-container-id-9 div.sk-parallel-item::before {content: \"\";position: absolute;border-left: 1px solid gray;box-sizing: border-box;top: 0;bottom: 0;left: 50%;z-index: -1;}#sk-container-id-9 div.sk-parallel-item {display: flex;flex-direction: column;z-index: 1;position: relative;background-color: white;}#sk-container-id-9 div.sk-parallel-item:first-child::after {align-self: flex-end;width: 50%;}#sk-container-id-9 div.sk-parallel-item:last-child::after {align-self: flex-start;width: 50%;}#sk-container-id-9 div.sk-parallel-item:only-child::after {width: 0;}#sk-container-id-9 div.sk-dashed-wrapped {border: 1px dashed gray;margin: 0 0.4em 0.5em 0.4em;box-sizing: border-box;padding-bottom: 0.4em;background-color: white;}#sk-container-id-9 div.sk-label label {font-family: monospace;font-weight: bold;display: inline-block;line-height: 1.2em;}#sk-container-id-9 div.sk-label-container {text-align: center;}#sk-container-id-9 div.sk-container {/* jupyter's `normalize.less` sets `[hidden] { display: none; }` but bootstrap.min.css set `[hidden] { display: none !important; }` so we also need the `!important` here to be able to override the default hidden behavior on the sphinx rendered scikit-learn.org. See: https://github.com/scikit-learn/scikit-learn/issues/21755 */display: inline-block !important;position: relative;}#sk-container-id-9 div.sk-text-repr-fallback {display: none;}</style><div id=\"sk-container-id-9\" class=\"sk-top-container\"><div class=\"sk-text-repr-fallback\"><pre>LinearRegression()</pre><b>In a Jupyter environment, please rerun this cell to show the HTML representation or trust the notebook. <br />On GitHub, the HTML representation is unable to render, please try loading this page with nbviewer.org.</b></div><div class=\"sk-container\" hidden><div class=\"sk-item\"><div class=\"sk-estimator sk-toggleable\"><input class=\"sk-toggleable__control sk-hidden--visually\" id=\"sk-estimator-id-9\" type=\"checkbox\" checked><label for=\"sk-estimator-id-9\" class=\"sk-toggleable__label sk-toggleable__label-arrow\">LinearRegression</label><div class=\"sk-toggleable__content\"><pre>LinearRegression()</pre></div></div></div></div></div>"
      ],
      "text/plain": [
       "LinearRegression()"
      ]
     },
     "execution_count": 176,
     "metadata": {},
     "output_type": "execute_result"
    }
   ],
   "source": [
    "from sklearn.linear_model import LinearRegression # Along with using inBuilt function to cross-check also\n",
    "alg1=LinearRegression()\n",
    "X_train=x_train.reshape(-1,1)\n",
    "alg1.fit(X_train,y_train)#Now algo-fits the trainng data as now X-data is 2D means it has \n",
    "#rows and column\n",
    "#Now as the algo is trained from the training data, now it has figured out the bestFit-Line"
   ]
  },
  {
   "cell_type": "code",
   "execution_count": 177,
   "id": "1b4954cb-2a94-4ec1-b8fb-a9ec22951846",
   "metadata": {},
   "outputs": [
    {
     "name": "stdout",
     "output_type": "stream",
     "text": [
      "[1.39118266]\n",
      "4.4638747865065085\n"
     ]
    }
   ],
   "source": [
    "#As we have only one feature,means lineEquation would be y=mx+c :\n",
    "print(alg1.coef_)#By-default all-coeff are passed in a single array\n",
    "#m, as here is only one feature so only oneCoeff is there, that's why here is an array with one item ,\n",
    "print(alg1.intercept_) #c"
   ]
  },
  {
   "cell_type": "markdown",
   "id": "b4215d29-49db-4f83-a976-e96d91aba881",
   "metadata": {},
   "source": [
    "# (2) Now we are going to make a predict-function which will predict o/p as y_pred from x_test , m and c"
   ]
  },
  {
   "cell_type": "code",
   "execution_count": 178,
   "id": "7191b50d-15d4-43e8-bed6-c40f6b147d94",
   "metadata": {},
   "outputs": [],
   "source": [
    "def predictFunction(m,c,x):\n",
    "    y_pred=m*x+c #x is a numpy-array, which will multiply-m and add-c with each of its element \n",
    "    return y_pred"
   ]
  },
  {
   "cell_type": "code",
   "execution_count": 179,
   "id": "e0305003-fe24-4f55-b1ef-14d0603d6c32",
   "metadata": {},
   "outputs": [
    {
     "data": {
      "text/plain": [
       "(25,)"
      ]
     },
     "execution_count": 179,
     "metadata": {},
     "output_type": "execute_result"
    }
   ],
   "source": [
    "# Lets get our predictted output as y_pred from testing-data\n",
    "y_pred_test=predictFunction(m,c,x_test)\n",
    "y_pred_test.shape"
   ]
  },
  {
   "cell_type": "code",
   "execution_count": 180,
   "id": "6f98f6e9-93bb-4cc4-9b04-c75088f9306f",
   "metadata": {},
   "outputs": [
    {
     "data": {
      "text/plain": [
       "(75,)"
      ]
     },
     "execution_count": 180,
     "metadata": {},
     "output_type": "execute_result"
    }
   ],
   "source": [
    "# Lets get our predictted output as y_pred from traing-data\n",
    "y_pred_train=predictFunction(m,c,x_train)\n",
    "y_pred_train.shape"
   ]
  },
  {
   "cell_type": "markdown",
   "id": "db5ebba8-ede2-4032-b033-02b2271756c5",
   "metadata": {
    "tags": []
   },
   "source": [
    "# (3) Now we are going to make Coefficient of Determination {CoD} for getting the score of the model, that efficient it is"
   ]
  },
  {
   "cell_type": "code",
   "execution_count": 181,
   "id": "5d85a6a6-da4e-4714-908d-4ce198ea58d1",
   "metadata": {},
   "outputs": [],
   "source": [
    "def CoD(y_pred,y_truth):\n",
    "    num=(y_truth-y_pred)**2 #Here also Y are NumpyArray, which will do operation element-wise \n",
    "    u=np.sum(num) #Will get the summation of all the items in the array\n",
    "    deno=(y_truth-y_truth.mean())**2\n",
    "    v=np.sum(deno)\n",
    "    return (1-u/v)"
   ]
  },
  {
   "cell_type": "code",
   "execution_count": 182,
   "id": "eda8e207-a2f1-4383-aef0-80f80ffc082e",
   "metadata": {},
   "outputs": [
    {
     "name": "stdout",
     "output_type": "stream",
     "text": [
      "0.5664325066162068\n"
     ]
    }
   ],
   "source": [
    "# now we will get our score of testing data from our trained model\n",
    "score=CoD(y_pred_test,y_test)\n",
    "print(score)"
   ]
  },
  {
   "cell_type": "code",
   "execution_count": 183,
   "id": "621d7a20-45ad-4ec2-ad99-1d98fe8eccef",
   "metadata": {},
   "outputs": [
    {
     "name": "stdout",
     "output_type": "stream",
     "text": [
      "0.60267384742693\n"
     ]
    }
   ],
   "source": [
    "# now we will get our score of training data from our trained model\n",
    "score=CoD(y_pred_train,y_train)\n",
    "print(score)"
   ]
  },
  {
   "cell_type": "code",
   "execution_count": 184,
   "id": "14e69492-67ef-4240-9d4e-b425ebe43f0e",
   "metadata": {},
   "outputs": [
    {
     "name": "stdout",
     "output_type": "stream",
     "text": [
      "0.56843347036973\n",
      "0.6029370272029729\n"
     ]
    }
   ],
   "source": [
    "#As the alg1 is already trained by the training data,now by passing x,y in score\n",
    "#score() would calculate y-pred from alg1 and compare with y_test thorugh CoD and based upon that generated the score\n",
    "X_test=x_test.reshape(-1,1)\n",
    "score_test=alg1.score(X_test,y_test)\n",
    "score_train=alg1.score(X_train,y_train)\n",
    "print(score_test)\n",
    "print(score_train)"
   ]
  },
  {
   "cell_type": "markdown",
   "id": "147bc7d3-5830-4d23-9f21-0736ee120476",
   "metadata": {},
   "source": [
    "# (4) Now we will calculate our Cost-function"
   ]
  },
  {
   "cell_type": "code",
   "execution_count": 185,
   "id": "12f824e3-2785-4d20-8e73-3d48bebcf6ed",
   "metadata": {},
   "outputs": [],
   "source": [
    "#Cost function\n",
    "def Cost1(y_pred,y_true):\n",
    "    ans=(y_true-y_pred)**2\n",
    "    Cost=ans.mean() # We want avg error per training data\n",
    "    return Cost"
   ]
  },
  {
   "cell_type": "code",
   "execution_count": 187,
   "id": "8b724d23-7a40-4cd1-a47e-a8c49a5c7a5a",
   "metadata": {},
   "outputs": [
    {
     "data": {
      "text/plain": [
       "94.29843096914031"
      ]
     },
     "execution_count": 187,
     "metadata": {},
     "output_type": "execute_result"
    }
   ],
   "source": [
    "# Getting our value of Cost-function\n",
    "Cost_test=Cost1(y_pred_test,y_test)\n",
    "Cost_test"
   ]
  },
  {
   "cell_type": "code",
   "execution_count": 188,
   "id": "2c5e42fc-7866-4bc1-84b9-66022037aa1b",
   "metadata": {},
   "outputs": [
    {
     "data": {
      "text/plain": [
       "116.42654598085686"
      ]
     },
     "execution_count": 188,
     "metadata": {},
     "output_type": "execute_result"
    }
   ],
   "source": [
    "# Getting our value of Cost-function from training data\n",
    "Cost_train=Cost1(y_pred_train,y_train)\n",
    "Cost_train"
   ]
  },
  {
   "cell_type": "code",
   "execution_count": 189,
   "id": "9f5d880f-ff36-4276-a5ba-d9b3d4627a0b",
   "metadata": {},
   "outputs": [
    {
     "data": {
      "image/png": "[encoded data removed]",
      "text/plain": [
       "<Figure size 640x480 with 1 Axes>"
      ]
     },
     "metadata": {},
     "output_type": "display_data"
    }
   ],
   "source": [
    "#Lets analysis with the graph along with BestFitLine with training data\n",
    "import matplotlib.pyplot as plt\n",
    "\n",
    "#Getting the bestFit-lone\n",
    "x_line=np.arange(20,75,0.1)#Arranged x-inputs\n",
    "y_line=m*x_line+c #Got values of Y corresponding to above x-inputs w.r.t the lineEquation\n",
    "plt.plot(x_line,y_line,'r')\n",
    "\n",
    "#Getting X_train and Y_train points, so that we could compare how bestFit line is Good\n",
    "plt.scatter(x_train,y_train)\n",
    "\n",
    "plt.title(\"y_train vs x_train\")\n",
    "\n",
    "plt.show()\n"
   ]
  },
  {
   "cell_type": "code",
   "execution_count": 190,
   "id": "cc20745b-9258-4986-a699-52547dee65e3",
   "metadata": {},
   "outputs": [
    {
     "data": {
      "image/png": "[encoded data removed]",
      "text/plain": [
       "<Figure size 640x480 with 1 Axes>"
      ]
     },
     "metadata": {},
     "output_type": "display_data"
    }
   ],
   "source": [
    "#Lets analysis with the graph along with BestFitLine with Testing-data\n",
    "import matplotlib.pyplot as plt\n",
    "\n",
    "#Getting the bestFit-lone\n",
    "x_line=np.arange(20,75,0.1)#Arranged x-inputs\n",
    "y_line=m*x_line+c #Got values of Y corresponding to above x-inputs w.r.t the lineEquation\n",
    "plt.plot(x_line,y_line,'r')\n",
    "\n",
    "#Getting X_test and Y_test points, so that we could compare how bestFit line is Good\n",
    "plt.scatter(x_test,y_test)\n",
    "\n",
    "plt.title(\"y_test vs x_test\")\n",
    "\n",
    "plt.show()\n"
   ]
  }
 ],
 "metadata": {
  "kernelspec": {
   "display_name": "Python 3 (ipykernel)",
   "language": "python",
   "name": "python3"
  },
  "language_info": {
   "codemirror_mode": {
    "name": "ipython",
    "version": 3
   },
   "file_extension": ".py",
   "mimetype": "text/x-python",
   "name": "python",
   "nbconvert_exporter": "python",
   "pygments_lexer": "ipython3",
   "version": "3.10.9"
  }
 },
 "nbformat": 4,
 "nbformat_minor": 5
}
