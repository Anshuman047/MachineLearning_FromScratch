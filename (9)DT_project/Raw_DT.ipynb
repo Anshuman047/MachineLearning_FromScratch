{
 "cells": [
  {
   "cell_type": "markdown",
   "id": "a74d2991-1a0a-4e9c-b12d-2c27225e2ab0",
   "metadata": {},
   "source": [
    "# Decision Tree Implimentation from Scratch\n",
    "### Uses Information Gain as measurment split and using StoppingEarly"
   ]
  },
  {
   "cell_type": "code",
   "execution_count": 601,
   "id": "2387ac48-8485-4628-9bb6-b1df058366d8",
   "metadata": {},
   "outputs": [],
   "source": [
    "# Importing all required libraries\n",
    "import numpy as np\n",
    "import pandas as pd\n",
    "from sklearn import datasets"
   ]
  },
  {
   "cell_type": "code",
   "execution_count": 602,
   "id": "8be79bc2-91a9-4667-b09f-772010dbaf3f",
   "metadata": {},
   "outputs": [],
   "source": [
    "# Loading datasets\n",
    "iris=datasets.load_iris()"
   ]
  },
  {
   "cell_type": "code",
   "execution_count": 603,
   "id": "0195a2e6-b4b7-45d1-9796-a83a4de98afe",
   "metadata": {},
   "outputs": [
    {
     "name": "stdout",
     "output_type": "stream",
     "text": [
      "     sepal length (cm)  sepal width (cm)  petal length (cm)  petal width (cm)  \\\n",
      "0                    5                 3                  1                 0   \n",
      "1                    4                 3                  1                 0   \n",
      "2                    4                 3                  1                 0   \n",
      "3                    4                 3                  1                 0   \n",
      "4                    5                 3                  1                 0   \n",
      "..                 ...               ...                ...               ...   \n",
      "145                  6                 3                  5                 2   \n",
      "146                  6                 2                  5                 1   \n",
      "147                  6                 3                  5                 2   \n",
      "148                  6                 3                  5                 2   \n",
      "149                  5                 3                  5                 1   \n",
      "\n",
      "     target  \n",
      "0         0  \n",
      "1         0  \n",
      "2         0  \n",
      "3         0  \n",
      "4         0  \n",
      "..      ...  \n",
      "145       2  \n",
      "146       2  \n",
      "147       2  \n",
      "148       2  \n",
      "149       2  \n",
      "\n",
      "[150 rows x 5 columns]\n"
     ]
    }
   ],
   "source": [
    "# Converting the bunch type into df for easy visualisation + all are in int\n",
    "iris_df=pd.DataFrame(data=np.array(iris.data,dtype=int),columns=iris.feature_names)\n",
    "iris_df['target']=iris.target #adding a new column named target to store the targetDatapoints \n",
    "print(iris_df)"
   ]
  },
  {
   "cell_type": "code",
   "execution_count": 604,
   "id": "c0473fe3-8e60-4a6f-b31e-e0a2d644e59a",
   "metadata": {},
   "outputs": [
    {
     "name": "stdout",
     "output_type": "stream",
     "text": [
      "     sepal length (cm)  sepal width (cm)  petal length (cm)  petal width (cm)  \\\n",
      "0                False             False              False             False   \n",
      "1                False             False              False             False   \n",
      "2                False             False              False             False   \n",
      "3                False             False              False             False   \n",
      "4                False             False              False             False   \n",
      "..                 ...               ...                ...               ...   \n",
      "145              False             False              False             False   \n",
      "146              False             False              False             False   \n",
      "147              False             False              False             False   \n",
      "148              False             False              False             False   \n",
      "149              False             False              False             False   \n",
      "\n",
      "     target  \n",
      "0     False  \n",
      "1     False  \n",
      "2     False  \n",
      "3     False  \n",
      "4     False  \n",
      "..      ...  \n",
      "145   False  \n",
      "146   False  \n",
      "147   False  \n",
      "148   False  \n",
      "149   False  \n",
      "\n",
      "[150 rows x 5 columns]\n",
      "sepal length (cm)    0\n",
      "sepal width (cm)     0\n",
      "petal length (cm)    0\n",
      "petal width (cm)     0\n",
      "target               0\n",
      "dtype: int64\n"
     ]
    }
   ],
   "source": [
    "# Checking if there is any empty or nan slot there in df\n",
    "print(iris_df.isna()) # will give false for nonempty slots\n",
    "print(iris_df.isna().sum()) # will give summation of all empty slots in each column"
   ]
  },
  {
   "cell_type": "code",
   "execution_count": 605,
   "id": "90c6c919-796f-47f2-9c62-7de2b494edff",
   "metadata": {},
   "outputs": [
    {
     "name": "stdout",
     "output_type": "stream",
     "text": [
      "['setosa' 'versicolor' 'virginica']\n"
     ]
    }
   ],
   "source": [
    "names=iris.target_names\n",
    "print(names)"
   ]
  },
  {
   "cell_type": "markdown",
   "id": "b408ca4a-f983-4ced-914e-86eaa2a18b8d",
   "metadata": {},
   "source": [
    "# Defining Entropy "
   ]
  },
  {
   "cell_type": "code",
   "execution_count": 606,
   "id": "48e2abce-5182-4a5e-a982-eb4cad5a2de2",
   "metadata": {},
   "outputs": [],
   "source": [
    "# Defniing Entropy\n",
    "def entropy(col):\n",
    "    counts = np.unique(col,return_counts=True) #Returns a tupple with unique digits array and another array for there frequency\n",
    "    N = float(col.shape[0]) #.shape returns tupple, for 1d: containing a shape-number and dimension else return (row x col)\n",
    "    ent = 0.0\n",
    "    \n",
    "    for i in counts[1]: # In counts tupple, 1st array would be required as it contained frequencies of their respective \"index\" for calculating the probability \n",
    "        p  = i/N\n",
    "        ent += (-1.0*p*np.log2(p)) #np.log2() used for calculating logbase2 of array and scalers\n",
    "        # summing up for getting the entropy    \n",
    "    return ent"
   ]
  },
  {
   "cell_type": "code",
   "execution_count": 607,
   "id": "911bc586-7d16-48f3-b331-a53423e52b8f",
   "metadata": {},
   "outputs": [
    {
     "name": "stdout",
     "output_type": "stream",
     "text": [
      "<class 'tuple'>\n",
      "(array([11, 12, 23, 34, 45]), array([2, 1, 2, 2, 1], dtype=int64))\n",
      "[2 1 2 2 1]\n",
      "\n",
      "(8,) 8\n",
      "<class 'tuple'>\n",
      "(2, 3)\n"
     ]
    }
   ],
   "source": [
    "# Above operations's example:\n",
    "\n",
    "col1d=np.array([11,12,11,34,45,34,23,23])\n",
    "\n",
    "# 1)\n",
    "count1=np.unique(col1d,return_counts=True)\n",
    "print(type(count1))\n",
    "print(count1)\n",
    "print(count[1])\n",
    "\n",
    "print()\n",
    "\n",
    "# 2)\n",
    "N = col1d.shape\n",
    "print(N, N[0]) #for array1d, returns tupple of 2 elements: no. of elements and comma empty space represents a 1d array\n",
    "print(type(N))\n",
    "col2d=np.array([[1,2,4],[5,6,7]])\n",
    "print(col2d.shape) #their product give the actual shape (rows x col)"
   ]
  },
  {
   "cell_type": "markdown",
   "id": "b21f5c56-a81d-4a50-9150-0e5992262f23",
   "metadata": {},
   "source": [
    "# Defining the code for division of node dataFrame into right and left node"
   ]
  },
  {
   "cell_type": "code",
   "execution_count": 608,
   "id": "0e38830d-7b9a-4898-9f13-d59b76d82f13",
   "metadata": {},
   "outputs": [],
   "source": [
    "# This Python function, divide_data, appears to be designed to split a Pandas DataFrame x_data into two separate DataFrames based on a specified key and a threshold value. The function takes three parameters:\n",
    "# x_data: The Pandas DataFrame that you want to split.\n",
    "# key: The column name in the DataFrame based on which the splitting will be performed.\n",
    "# val: The threshold value for the specified key column.\n",
    "def divide_data(x_data, key, val):\n",
    "    # Create empty DataFrames for the left and right subsets\n",
    "    x_right = pd.DataFrame([], columns=x_data.columns) #Represents Empty dataFrame\n",
    "    x_left = pd.DataFrame([], columns=x_data.columns)\n",
    "\n",
    "    # Iterate over each row in the original DataFrame\n",
    "    for i in range(x_data.shape[0]):\n",
    "        # Extract the value from the key column for the current row\n",
    "        val_ = x_data[key].loc[i]\n",
    "\n",
    "        # Compare the value with the specified threshold\n",
    "        if val_ > val:\n",
    "            # If the value is greater than the threshold, append the row to the right subset\n",
    "            # x_right = pd.concat([x_right, x_data.loc[i]])\n",
    "            x_right = x_right.append(x_data.loc[i], ignore_index=True)\n",
    "        else:\n",
    "            # If the value is less than or equal to the threshold, append the row to the left subset\n",
    "            # x_left = pd.concat([x_left, x_data.loc[i]])\n",
    "            x_left = x_left.append(x_data.loc[i], ignore_index=True)\n",
    "    # Return the two subsets\n",
    "    return x_left, x_right"
   ]
  },
  {
   "cell_type": "code",
   "execution_count": 609,
   "id": "b25ade21-28ea-40fa-8fb8-01e70a71633a",
   "metadata": {},
   "outputs": [
    {
     "data": {
      "text/html": [
       "<div>\n",
       "<style scoped>\n",
       "    .dataframe tbody tr th:only-of-type {\n",
       "        vertical-align: middle;\n",
       "    }\n",
       "\n",
       "    .dataframe tbody tr th {\n",
       "        vertical-align: top;\n",
       "    }\n",
       "\n",
       "    .dataframe thead th {\n",
       "        text-align: right;\n",
       "    }\n",
       "</style>\n",
       "<table border=\"1\" class=\"dataframe\">\n",
       "  <thead>\n",
       "    <tr style=\"text-align: right;\">\n",
       "      <th></th>\n",
       "      <th>A</th>\n",
       "      <th>B</th>\n",
       "      <th>C</th>\n",
       "    </tr>\n",
       "  </thead>\n",
       "  <tbody>\n",
       "    <tr>\n",
       "      <th>row1</th>\n",
       "      <td>1</td>\n",
       "      <td>4</td>\n",
       "      <td>7</td>\n",
       "    </tr>\n",
       "    <tr>\n",
       "      <th>row2</th>\n",
       "      <td>2</td>\n",
       "      <td>5</td>\n",
       "      <td>8</td>\n",
       "    </tr>\n",
       "    <tr>\n",
       "      <th>row3</th>\n",
       "      <td>3</td>\n",
       "      <td>6</td>\n",
       "      <td>9</td>\n",
       "    </tr>\n",
       "  </tbody>\n",
       "</table>\n",
       "</div>"
      ],
      "text/plain": [
       "      A  B  C\n",
       "row1  1  4  7\n",
       "row2  2  5  8\n",
       "row3  3  6  9"
      ]
     },
     "execution_count": 609,
     "metadata": {},
     "output_type": "execute_result"
    }
   ],
   "source": [
    "# Create a sample DataFrame with personalised column and row\n",
    "data1 = {'A': [1, 2, 3],\n",
    "        'B': [4, 5, 6],\n",
    "        'C': [7, 8, 9]}\n",
    "index_labels1 = ['row1', 'row2', 'row3'] \n",
    "df = pd.DataFrame(data, index=index_labels1) #index used for assining rows\n",
    "df"
   ]
  },
  {
   "cell_type": "markdown",
   "id": "52517cba-8151-4f5c-a5a0-71c3eb2fa994",
   "metadata": {},
   "source": [
    "# Defining Info Gain"
   ]
  },
  {
   "cell_type": "code",
   "execution_count": 610,
   "id": "c1dabfba-9489-4872-ba2a-76e780c97544",
   "metadata": {},
   "outputs": [],
   "source": [
    "def information_gain(x_data, key, val):\n",
    "    # Split the data into left and right subsets based on the key and threshold\n",
    "    left, right = divide_data(x_data, key, val)\n",
    "    \n",
    "    # Calculate the number of samples in Left and Right / total no. of samples\n",
    "    l = float(left.shape[0])/x_data.shape[0]\n",
    "    r = float(right.shape[0])/x_data.shape[0]\n",
    "    \n",
    "    # Check if all examples go to one side (no split)\n",
    "    if left.shape[0] == 0 or right.shape[0] == 0:\n",
    "        return -10000000  # Minimum Information Gain (a large negative value)\n",
    "    \n",
    "    # Calculate information gain using the entropy function\n",
    "    i_gain = entropy(x_data.target) - (l * entropy(left.target) + r * entropy(right.target))   \n",
    "    \n",
    "    # Return the calculated information gain\n",
    "    return i_gain\n"
   ]
  },
  {
   "cell_type": "markdown",
   "id": "42ece657-4e2e-4262-82ea-e257c6dee780",
   "metadata": {},
   "source": [
    "## Defining the function in which it would store the output of counts of labels of outputs"
   ]
  },
  {
   "cell_type": "code",
   "execution_count": 611,
   "id": "cc5b912b-b7da-4baf-9f78-e7ce57cfe0ac",
   "metadata": {},
   "outputs": [],
   "source": [
    "def find_count(X_train):\n",
    "    # Initialize an empty list to store counts of each output in correspoding indexs\n",
    "    count = []\n",
    "    \n",
    "    # Count occurrences of class label 0 and append to the list in 0th index\n",
    "    count.append(X_train[X_train.target == 0].shape[0])\n",
    "    \n",
    "    # Count occurrences of class label 1 and append to the list in 1st index\n",
    "    count.append(X_train[X_train.target == 1].shape[0])\n",
    "    \n",
    "    # Count occurrences of class label 2 and append to the list in 2nd index\n",
    "    count.append(X_train[X_train.target == 2].shape[0])\n",
    "    \n",
    "    # Return the list containing counts of each class\n",
    "    return count\n"
   ]
  },
  {
   "cell_type": "code",
   "execution_count": 612,
   "id": "c1b3db6e-4db7-4f03-85e7-d57fc1bcad1e",
   "metadata": {},
   "outputs": [],
   "source": [
    "#Classes and objects with constructor\n",
    "class MyClass:\n",
    "    def __init__(self, parameter1, parameter2):\n",
    "        self.attribute1 = parameter1\n",
    "        self.attribute2 = parameter2\n"
   ]
  },
  {
   "cell_type": "code",
   "execution_count": 613,
   "id": "325d5b6d-1df8-45eb-be49-896e72a31a90",
   "metadata": {},
   "outputs": [
    {
     "name": "stdout",
     "output_type": "stream",
     "text": [
      "value3\n",
      "value2\n"
     ]
    }
   ],
   "source": [
    "# Creating an instance of MyClass\n",
    "my_instance = MyClass(\"value3\", \"value2\")\n",
    "\n",
    "# Accessing attributes of the instance\n",
    "print(my_instance.attribute1)  # Output: value1\n",
    "print(my_instance.attribute2)  # Output: value2\n"
   ]
  },
  {
   "cell_type": "markdown",
   "id": "5663f624-9ca6-4e9a-aee1-fcd13c2c1520",
   "metadata": {},
   "source": [
    "## Now defining the \"Training-function\""
   ]
  },
  {
   "cell_type": "code",
   "execution_count": 614,
   "id": "2fb8d249-01a6-4923-8b1e-a7e4c8699b59",
   "metadata": {},
   "outputs": [],
   "source": [
    "class DecisionTree:\n",
    "    \n",
    "    #Constructor\n",
    "    def __init__(self,depth=0,max_depth=5): #self : indicates the object created from this class can access the attribute else will not able to\n",
    "        self.left = None\n",
    "        self.right = None\n",
    "        self.key = None\n",
    "        self.val = None\n",
    "        self.count = None\n",
    "        self.max_depth = max_depth #for avoiding overfitting and complex tree, intiliased maximun depth\n",
    "        self.depth = depth #done because by default building of tree should start from depth:0, represents the root node's level, goes till max_depth which is termination of the tree's growth for avoiding overfitting\n",
    "        self.target = None\n",
    "        #And its not compulsory to write all attributes of the object which are being used and altered as tree grows, to NONE at constructor as if not defined still thie default values would be NONE, but it shows the \"GOOD-PRACTISE\" as defined the intial stage of the attributes which are being used and altered\n",
    "        \n",
    "    def train(self, X_train, names):  # name represents the className or labelName\n",
    "        features = ['sepal length (cm)', 'sepal width (cm)', 'petal length (cm)', 'petal width (cm)']\n",
    "        info_gains = []\n",
    "        \n",
    "        # Calculate information gain for each feature\n",
    "        for i in features:\n",
    "            i_gain = information_gain(X_train, i, X_train[i].mean())  # Threshold value in infoGain is the mean of all datapoints of the respective features\n",
    "            info_gains.append(i_gain)\n",
    "        \n",
    "        # Determine the feature to split on based on maximum information gain\n",
    "        self.key = features[np.argmax(info_gains)]  # returns the maximum value index of the array list\n",
    "        self.val = X_train[self.key].mean()  # it would take the mean value of the feature having the maximum infoGain()\n",
    "        \n",
    "        # Print information about the current node\n",
    "        print(\"Level\", self.depth)\n",
    "        self.count = find_count(X_train)  # take the number of all respective output labels \n",
    "        cnt = 0  # Maintain to check if there is only 1 flower in this node, so that could get the leaf node\n",
    "        \n",
    "        # Display counts for each class in the current node\n",
    "        for i in range(len(self.count)):\n",
    "            if self.count[i]:\n",
    "                print(\"Count of\", names[i], \"=\", self.count[i])\n",
    "                cnt += 1\n",
    "        \n",
    "        print(\"Current entropy =\", entropy(X_train.target))\n",
    "        \n",
    "        # If there is more than one flower in the node, print information about splitting\n",
    "        if cnt != 1:\n",
    "            print(\"Splitting on Tree Features\", self.key, \"with information gain\", np.argmax(info_gains))\n",
    "        \n",
    "        # Split Data\n",
    "        data_left, data_right = divide_data(X_train, self.key, self.val)\n",
    "        data_left = data_left.reset_index(drop=True)\n",
    "        data_right = data_right.reset_index(drop=True)\n",
    "        # reset_index(drop=True), it again resets the row/index to 0 of the child/split DataFrame, in which it could be treated as an individual/separate DataFrame \n",
    "        \n",
    "        # If it's truly a leaf node, means that only one type of flower is there in the targetColumn\n",
    "        if cnt == 1:\n",
    "            # Assign the target class based on the mean of the \"target\" column\n",
    "            if X_train.target.mean() >= 1.5:\n",
    "                self.target = names[2]\n",
    "            elif X_train.target.mean() <= 0.5:\n",
    "                self.target = names[0]\n",
    "            else:\n",
    "                self.target = names[1]\n",
    "            print(\"Reached leaf Node\")\n",
    "            print()\n",
    "            print()\n",
    "            return # As leaf reached , return makes program counter to leave/exit the training of the current node\n",
    "        \n",
    "        # Stop early when the depth >= max depth\n",
    "        if self.depth >= self.max_depth:\n",
    "            # Assign the target class based on the mean of the \"Output\" column\n",
    "            if X_train.target.mean() >= 1.5:\n",
    "                self.target = names[2]\n",
    "            elif X_train.target.mean() <= 0.5:\n",
    "                self.target = names[0]\n",
    "            else:\n",
    "                self.target = names[1]\n",
    "            print(\"Max depth Reached\")\n",
    "            print()\n",
    "            print()\n",
    "            return # As max depth reached , return makes program counter to leave/exit the training of the current node\n",
    "        \n",
    "        print()\n",
    "        print()\n",
    "        \n",
    "        # Recursive Case: Train left and right child nodes\n",
    "        self.left = DecisionTree(depth=self.depth+1, max_depth=self.max_depth) # made the object/instance for the child\n",
    "        self.left.train(data_left, names) #called the object's function of the class\n",
    "        \n",
    "        self.right = DecisionTree(depth=self.depth+1, max_depth=self.max_depth)\n",
    "        self.right.train(data_right, names)\n",
    "        \n",
    "        # # Set the target at every node based on the mean of the \"Output\" column\n",
    "        # if X_train.target.mean() >= 1.5:\n",
    "        #     self.target = names[2]\n",
    "        # elif X_train.target.mean() <= 0.5:\n",
    "        #     self.target = names[0]\n",
    "        # else:\n",
    "        #     self.target = names[1]\n",
    "        \n",
    "        return"
   ]
  },
  {
   "cell_type": "code",
   "execution_count": 615,
   "id": "9e9d70b9-7caa-496a-a79e-caa7bf91d8ec",
   "metadata": {},
   "outputs": [],
   "source": [
    "# #About np.argmax() and np.max()\n",
    "# list=[1,2,3,4]\n",
    "# print(np.argmax(list)) #return the index having maxValue\n",
    "# np.max(list) #return the maxValue"
   ]
  },
  {
   "cell_type": "code",
   "execution_count": 616,
   "id": "4d75d255-8d32-4577-9e4e-2b6a32184ab7",
   "metadata": {},
   "outputs": [],
   "source": [
    "# # reset_index(drop=True), it again reset the row/index to 0 of the child/splitted dataFrame, in which it could treated as individual/separete DataFrame \n",
    "# data_df = pd.DataFrame({'A':[1,2,3,4],'B':[5,6,7,8]})\n",
    "# data_left = data_df[data_df['A'] < 3]\n",
    "# data_right = data_df[data_df['A'] >= 3]\n",
    "# print(data_left)\n",
    "# print()\n",
    "# print(data_right)\n",
    "# print()\n",
    "# data_left = data_left.reset_index(drop=True)  # Now, data_left has index/row [0, 1]\n",
    "# data_right = data_right.reset_index(drop=True)  # Now, data_right has index/row [0, 1]\n",
    "# print(data_left)\n",
    "# print()\n",
    "# print(data_right)"
   ]
  },
  {
   "cell_type": "code",
   "execution_count": 617,
   "id": "980fb1dc-338e-4673-aa9e-5ef461fc28a6",
   "metadata": {},
   "outputs": [],
   "source": [
    "# # Example data\n",
    "# output_list = [ 2, 2,2,2, 2, 2]\n",
    "\n",
    "# # Calculate mean of the output list\n",
    "# mean_output = np.mean(output_list)\n",
    "\n",
    "# # Assign target class based on mean\n",
    "# if mean_output < 1:\n",
    "#     target = 0\n",
    "# elif mean_output < 2:\n",
    "#      target = 1\n",
    "# else:\n",
    "#      target = 1\n",
    "\n",
    "# print(f\"Mean Output: {mean_output}, Target Class: {target}\")\n"
   ]
  },
  {
   "cell_type": "markdown",
   "id": "148b4085-ad8c-4600-833e-23272880188b",
   "metadata": {},
   "source": [
    "## Making the object/instance "
   ]
  },
  {
   "cell_type": "code",
   "execution_count": 618,
   "id": "13223727-244f-450a-bafa-51b973fb256f",
   "metadata": {},
   "outputs": [],
   "source": [
    "df=DecisionTree()"
   ]
  },
  {
   "cell_type": "code",
   "execution_count": 619,
   "id": "73b77b19-f593-4fde-9fe1-18d0138410f8",
   "metadata": {},
   "outputs": [
    {
     "name": "stderr",
     "output_type": "stream",
     "text": [
      "C:\\Users\\KIIT\\AppData\\Local\\Temp\\ipykernel_8024\\733337414.py:23: FutureWarning: The frame.append method is deprecated and will be removed from pandas in a future version. Use pandas.concat instead.\n",
      "  x_left = x_left.append(x_data.loc[i], ignore_index=True)\n",
      "C:\\Users\\KIIT\\AppData\\Local\\Temp\\ipykernel_8024\\733337414.py:19: FutureWarning: The frame.append method is deprecated and will be removed from pandas in a future version. Use pandas.concat instead.\n",
      "  x_right = x_right.append(x_data.loc[i], ignore_index=True)\n",
      "C:\\Users\\KIIT\\AppData\\Local\\Temp\\ipykernel_8024\\733337414.py:19: FutureWarning: The frame.append method is deprecated and will be removed from pandas in a future version. Use pandas.concat instead.\n",
      "  x_right = x_right.append(x_data.loc[i], ignore_index=True)\n",
      "C:\\Users\\KIIT\\AppData\\Local\\Temp\\ipykernel_8024\\733337414.py:23: FutureWarning: The frame.append method is deprecated and will be removed from pandas in a future version. Use pandas.concat instead.\n",
      "  x_left = x_left.append(x_data.loc[i], ignore_index=True)\n",
      "C:\\Users\\KIIT\\AppData\\Local\\Temp\\ipykernel_8024\\733337414.py:23: FutureWarning: The frame.append method is deprecated and will be removed from pandas in a future version. Use pandas.concat instead.\n",
      "  x_left = x_left.append(x_data.loc[i], ignore_index=True)\n",
      "C:\\Users\\KIIT\\AppData\\Local\\Temp\\ipykernel_8024\\733337414.py:19: FutureWarning: The frame.append method is deprecated and will be removed from pandas in a future version. Use pandas.concat instead.\n",
      "  x_right = x_right.append(x_data.loc[i], ignore_index=True)\n",
      "C:\\Users\\KIIT\\AppData\\Local\\Temp\\ipykernel_8024\\733337414.py:23: FutureWarning: The frame.append method is deprecated and will be removed from pandas in a future version. Use pandas.concat instead.\n",
      "  x_left = x_left.append(x_data.loc[i], ignore_index=True)\n",
      "C:\\Users\\KIIT\\AppData\\Local\\Temp\\ipykernel_8024\\733337414.py:19: FutureWarning: The frame.append method is deprecated and will be removed from pandas in a future version. Use pandas.concat instead.\n",
      "  x_right = x_right.append(x_data.loc[i], ignore_index=True)\n"
     ]
    },
    {
     "name": "stdout",
     "output_type": "stream",
     "text": [
      "Level 0\n",
      "Count of setosa = 50\n",
      "Count of versicolor = 50\n",
      "Count of virginica = 50\n",
      "Current entropy = 1.584962500721156\n",
      "Splitting on Tree Features petal width (cm) with information gain 3\n"
     ]
    },
    {
     "name": "stderr",
     "output_type": "stream",
     "text": [
      "C:\\Users\\KIIT\\AppData\\Local\\Temp\\ipykernel_8024\\733337414.py:23: FutureWarning: The frame.append method is deprecated and will be removed from pandas in a future version. Use pandas.concat instead.\n",
      "  x_left = x_left.append(x_data.loc[i], ignore_index=True)\n",
      "C:\\Users\\KIIT\\AppData\\Local\\Temp\\ipykernel_8024\\733337414.py:19: FutureWarning: The frame.append method is deprecated and will be removed from pandas in a future version. Use pandas.concat instead.\n",
      "  x_right = x_right.append(x_data.loc[i], ignore_index=True)\n"
     ]
    },
    {
     "name": "stdout",
     "output_type": "stream",
     "text": [
      "\n",
      "\n"
     ]
    },
    {
     "name": "stderr",
     "output_type": "stream",
     "text": [
      "C:\\Users\\KIIT\\AppData\\Local\\Temp\\ipykernel_8024\\733337414.py:19: FutureWarning: The frame.append method is deprecated and will be removed from pandas in a future version. Use pandas.concat instead.\n",
      "  x_right = x_right.append(x_data.loc[i], ignore_index=True)\n",
      "C:\\Users\\KIIT\\AppData\\Local\\Temp\\ipykernel_8024\\733337414.py:23: FutureWarning: The frame.append method is deprecated and will be removed from pandas in a future version. Use pandas.concat instead.\n",
      "  x_left = x_left.append(x_data.loc[i], ignore_index=True)\n",
      "C:\\Users\\KIIT\\AppData\\Local\\Temp\\ipykernel_8024\\733337414.py:23: FutureWarning: The frame.append method is deprecated and will be removed from pandas in a future version. Use pandas.concat instead.\n",
      "  x_left = x_left.append(x_data.loc[i], ignore_index=True)\n",
      "C:\\Users\\KIIT\\AppData\\Local\\Temp\\ipykernel_8024\\733337414.py:19: FutureWarning: The frame.append method is deprecated and will be removed from pandas in a future version. Use pandas.concat instead.\n",
      "  x_right = x_right.append(x_data.loc[i], ignore_index=True)\n",
      "C:\\Users\\KIIT\\AppData\\Local\\Temp\\ipykernel_8024\\733337414.py:23: FutureWarning: The frame.append method is deprecated and will be removed from pandas in a future version. Use pandas.concat instead.\n",
      "  x_left = x_left.append(x_data.loc[i], ignore_index=True)\n",
      "C:\\Users\\KIIT\\AppData\\Local\\Temp\\ipykernel_8024\\733337414.py:23: FutureWarning: The frame.append method is deprecated and will be removed from pandas in a future version. Use pandas.concat instead.\n",
      "  x_left = x_left.append(x_data.loc[i], ignore_index=True)\n",
      "C:\\Users\\KIIT\\AppData\\Local\\Temp\\ipykernel_8024\\733337414.py:19: FutureWarning: The frame.append method is deprecated and will be removed from pandas in a future version. Use pandas.concat instead.\n",
      "  x_right = x_right.append(x_data.loc[i], ignore_index=True)\n",
      "C:\\Users\\KIIT\\AppData\\Local\\Temp\\ipykernel_8024\\733337414.py:23: FutureWarning: The frame.append method is deprecated and will be removed from pandas in a future version. Use pandas.concat instead.\n",
      "  x_left = x_left.append(x_data.loc[i], ignore_index=True)\n"
     ]
    },
    {
     "name": "stdout",
     "output_type": "stream",
     "text": [
      "Level 1\n",
      "Count of setosa = 50\n",
      "Current entropy = 0.0\n",
      "Reached leaf Node\n",
      "\n",
      "\n"
     ]
    },
    {
     "name": "stderr",
     "output_type": "stream",
     "text": [
      "C:\\Users\\KIIT\\AppData\\Local\\Temp\\ipykernel_8024\\733337414.py:19: FutureWarning: The frame.append method is deprecated and will be removed from pandas in a future version. Use pandas.concat instead.\n",
      "  x_right = x_right.append(x_data.loc[i], ignore_index=True)\n",
      "C:\\Users\\KIIT\\AppData\\Local\\Temp\\ipykernel_8024\\733337414.py:23: FutureWarning: The frame.append method is deprecated and will be removed from pandas in a future version. Use pandas.concat instead.\n",
      "  x_left = x_left.append(x_data.loc[i], ignore_index=True)\n",
      "C:\\Users\\KIIT\\AppData\\Local\\Temp\\ipykernel_8024\\733337414.py:19: FutureWarning: The frame.append method is deprecated and will be removed from pandas in a future version. Use pandas.concat instead.\n",
      "  x_right = x_right.append(x_data.loc[i], ignore_index=True)\n",
      "C:\\Users\\KIIT\\AppData\\Local\\Temp\\ipykernel_8024\\733337414.py:23: FutureWarning: The frame.append method is deprecated and will be removed from pandas in a future version. Use pandas.concat instead.\n",
      "  x_left = x_left.append(x_data.loc[i], ignore_index=True)\n",
      "C:\\Users\\KIIT\\AppData\\Local\\Temp\\ipykernel_8024\\733337414.py:23: FutureWarning: The frame.append method is deprecated and will be removed from pandas in a future version. Use pandas.concat instead.\n",
      "  x_left = x_left.append(x_data.loc[i], ignore_index=True)\n",
      "C:\\Users\\KIIT\\AppData\\Local\\Temp\\ipykernel_8024\\733337414.py:19: FutureWarning: The frame.append method is deprecated and will be removed from pandas in a future version. Use pandas.concat instead.\n",
      "  x_right = x_right.append(x_data.loc[i], ignore_index=True)\n",
      "C:\\Users\\KIIT\\AppData\\Local\\Temp\\ipykernel_8024\\733337414.py:23: FutureWarning: The frame.append method is deprecated and will be removed from pandas in a future version. Use pandas.concat instead.\n",
      "  x_left = x_left.append(x_data.loc[i], ignore_index=True)\n",
      "C:\\Users\\KIIT\\AppData\\Local\\Temp\\ipykernel_8024\\733337414.py:19: FutureWarning: The frame.append method is deprecated and will be removed from pandas in a future version. Use pandas.concat instead.\n",
      "  x_right = x_right.append(x_data.loc[i], ignore_index=True)\n",
      "C:\\Users\\KIIT\\AppData\\Local\\Temp\\ipykernel_8024\\733337414.py:23: FutureWarning: The frame.append method is deprecated and will be removed from pandas in a future version. Use pandas.concat instead.\n",
      "  x_left = x_left.append(x_data.loc[i], ignore_index=True)\n"
     ]
    },
    {
     "name": "stdout",
     "output_type": "stream",
     "text": [
      "Level 1\n",
      "Count of versicolor = 50\n",
      "Count of virginica = 50\n",
      "Current entropy = 1.0\n",
      "Splitting on Tree Features petal length (cm) with information gain 2\n"
     ]
    },
    {
     "name": "stderr",
     "output_type": "stream",
     "text": [
      "C:\\Users\\KIIT\\AppData\\Local\\Temp\\ipykernel_8024\\733337414.py:19: FutureWarning: The frame.append method is deprecated and will be removed from pandas in a future version. Use pandas.concat instead.\n",
      "  x_right = x_right.append(x_data.loc[i], ignore_index=True)\n",
      "C:\\Users\\KIIT\\AppData\\Local\\Temp\\ipykernel_8024\\733337414.py:19: FutureWarning: The frame.append method is deprecated and will be removed from pandas in a future version. Use pandas.concat instead.\n",
      "  x_right = x_right.append(x_data.loc[i], ignore_index=True)\n",
      "C:\\Users\\KIIT\\AppData\\Local\\Temp\\ipykernel_8024\\733337414.py:23: FutureWarning: The frame.append method is deprecated and will be removed from pandas in a future version. Use pandas.concat instead.\n",
      "  x_left = x_left.append(x_data.loc[i], ignore_index=True)\n"
     ]
    },
    {
     "name": "stdout",
     "output_type": "stream",
     "text": [
      "\n",
      "\n"
     ]
    },
    {
     "name": "stderr",
     "output_type": "stream",
     "text": [
      "C:\\Users\\KIIT\\AppData\\Local\\Temp\\ipykernel_8024\\733337414.py:19: FutureWarning: The frame.append method is deprecated and will be removed from pandas in a future version. Use pandas.concat instead.\n",
      "  x_right = x_right.append(x_data.loc[i], ignore_index=True)\n",
      "C:\\Users\\KIIT\\AppData\\Local\\Temp\\ipykernel_8024\\733337414.py:23: FutureWarning: The frame.append method is deprecated and will be removed from pandas in a future version. Use pandas.concat instead.\n",
      "  x_left = x_left.append(x_data.loc[i], ignore_index=True)\n",
      "C:\\Users\\KIIT\\AppData\\Local\\Temp\\ipykernel_8024\\733337414.py:19: FutureWarning: The frame.append method is deprecated and will be removed from pandas in a future version. Use pandas.concat instead.\n",
      "  x_right = x_right.append(x_data.loc[i], ignore_index=True)\n",
      "C:\\Users\\KIIT\\AppData\\Local\\Temp\\ipykernel_8024\\733337414.py:23: FutureWarning: The frame.append method is deprecated and will be removed from pandas in a future version. Use pandas.concat instead.\n",
      "  x_left = x_left.append(x_data.loc[i], ignore_index=True)\n",
      "C:\\Users\\KIIT\\AppData\\Local\\Temp\\ipykernel_8024\\733337414.py:23: FutureWarning: The frame.append method is deprecated and will be removed from pandas in a future version. Use pandas.concat instead.\n",
      "  x_left = x_left.append(x_data.loc[i], ignore_index=True)\n",
      "C:\\Users\\KIIT\\AppData\\Local\\Temp\\ipykernel_8024\\733337414.py:19: FutureWarning: The frame.append method is deprecated and will be removed from pandas in a future version. Use pandas.concat instead.\n",
      "  x_right = x_right.append(x_data.loc[i], ignore_index=True)\n",
      "C:\\Users\\KIIT\\AppData\\Local\\Temp\\ipykernel_8024\\733337414.py:23: FutureWarning: The frame.append method is deprecated and will be removed from pandas in a future version. Use pandas.concat instead.\n",
      "  x_left = x_left.append(x_data.loc[i], ignore_index=True)\n"
     ]
    },
    {
     "name": "stdout",
     "output_type": "stream",
     "text": [
      "Level 2\n",
      "Count of versicolor = 48\n",
      "Count of virginica = 6\n",
      "Current entropy = 0.5032583347756457\n",
      "Splitting on Tree Features petal width (cm) with information gain 3\n",
      "\n",
      "\n"
     ]
    },
    {
     "name": "stderr",
     "output_type": "stream",
     "text": [
      "C:\\Users\\KIIT\\AppData\\Local\\Temp\\ipykernel_8024\\733337414.py:19: FutureWarning: The frame.append method is deprecated and will be removed from pandas in a future version. Use pandas.concat instead.\n",
      "  x_right = x_right.append(x_data.loc[i], ignore_index=True)\n",
      "C:\\Users\\KIIT\\AppData\\Local\\Temp\\ipykernel_8024\\733337414.py:19: FutureWarning: The frame.append method is deprecated and will be removed from pandas in a future version. Use pandas.concat instead.\n",
      "  x_right = x_right.append(x_data.loc[i], ignore_index=True)\n",
      "C:\\Users\\KIIT\\AppData\\Local\\Temp\\ipykernel_8024\\733337414.py:23: FutureWarning: The frame.append method is deprecated and will be removed from pandas in a future version. Use pandas.concat instead.\n",
      "  x_left = x_left.append(x_data.loc[i], ignore_index=True)\n",
      "C:\\Users\\KIIT\\AppData\\Local\\Temp\\ipykernel_8024\\733337414.py:19: FutureWarning: The frame.append method is deprecated and will be removed from pandas in a future version. Use pandas.concat instead.\n",
      "  x_right = x_right.append(x_data.loc[i], ignore_index=True)\n",
      "C:\\Users\\KIIT\\AppData\\Local\\Temp\\ipykernel_8024\\733337414.py:23: FutureWarning: The frame.append method is deprecated and will be removed from pandas in a future version. Use pandas.concat instead.\n",
      "  x_left = x_left.append(x_data.loc[i], ignore_index=True)\n",
      "C:\\Users\\KIIT\\AppData\\Local\\Temp\\ipykernel_8024\\733337414.py:19: FutureWarning: The frame.append method is deprecated and will be removed from pandas in a future version. Use pandas.concat instead.\n",
      "  x_right = x_right.append(x_data.loc[i], ignore_index=True)\n",
      "C:\\Users\\KIIT\\AppData\\Local\\Temp\\ipykernel_8024\\733337414.py:23: FutureWarning: The frame.append method is deprecated and will be removed from pandas in a future version. Use pandas.concat instead.\n",
      "  x_left = x_left.append(x_data.loc[i], ignore_index=True)\n",
      "C:\\Users\\KIIT\\AppData\\Local\\Temp\\ipykernel_8024\\733337414.py:23: FutureWarning: The frame.append method is deprecated and will be removed from pandas in a future version. Use pandas.concat instead.\n",
      "  x_left = x_left.append(x_data.loc[i], ignore_index=True)\n"
     ]
    },
    {
     "name": "stdout",
     "output_type": "stream",
     "text": [
      "Level 3\n",
      "Count of versicolor = 48\n",
      "Count of virginica = 5\n",
      "Current entropy = 0.45079138835466503\n",
      "Splitting on Tree Features petal length (cm) with information gain 2\n",
      "\n",
      "\n"
     ]
    },
    {
     "name": "stderr",
     "output_type": "stream",
     "text": [
      "C:\\Users\\KIIT\\AppData\\Local\\Temp\\ipykernel_8024\\733337414.py:19: FutureWarning: The frame.append method is deprecated and will be removed from pandas in a future version. Use pandas.concat instead.\n",
      "  x_right = x_right.append(x_data.loc[i], ignore_index=True)\n",
      "C:\\Users\\KIIT\\AppData\\Local\\Temp\\ipykernel_8024\\733337414.py:23: FutureWarning: The frame.append method is deprecated and will be removed from pandas in a future version. Use pandas.concat instead.\n",
      "  x_left = x_left.append(x_data.loc[i], ignore_index=True)\n",
      "C:\\Users\\KIIT\\AppData\\Local\\Temp\\ipykernel_8024\\733337414.py:23: FutureWarning: The frame.append method is deprecated and will be removed from pandas in a future version. Use pandas.concat instead.\n",
      "  x_left = x_left.append(x_data.loc[i], ignore_index=True)\n",
      "C:\\Users\\KIIT\\AppData\\Local\\Temp\\ipykernel_8024\\733337414.py:19: FutureWarning: The frame.append method is deprecated and will be removed from pandas in a future version. Use pandas.concat instead.\n",
      "  x_right = x_right.append(x_data.loc[i], ignore_index=True)\n",
      "C:\\Users\\KIIT\\AppData\\Local\\Temp\\ipykernel_8024\\733337414.py:23: FutureWarning: The frame.append method is deprecated and will be removed from pandas in a future version. Use pandas.concat instead.\n",
      "  x_left = x_left.append(x_data.loc[i], ignore_index=True)\n",
      "C:\\Users\\KIIT\\AppData\\Local\\Temp\\ipykernel_8024\\733337414.py:23: FutureWarning: The frame.append method is deprecated and will be removed from pandas in a future version. Use pandas.concat instead.\n",
      "  x_left = x_left.append(x_data.loc[i], ignore_index=True)\n",
      "C:\\Users\\KIIT\\AppData\\Local\\Temp\\ipykernel_8024\\733337414.py:23: FutureWarning: The frame.append method is deprecated and will be removed from pandas in a future version. Use pandas.concat instead.\n",
      "  x_left = x_left.append(x_data.loc[i], ignore_index=True)\n",
      "C:\\Users\\KIIT\\AppData\\Local\\Temp\\ipykernel_8024\\733337414.py:23: FutureWarning: The frame.append method is deprecated and will be removed from pandas in a future version. Use pandas.concat instead.\n",
      "  x_left = x_left.append(x_data.loc[i], ignore_index=True)\n",
      "C:\\Users\\KIIT\\AppData\\Local\\Temp\\ipykernel_8024\\733337414.py:19: FutureWarning: The frame.append method is deprecated and will be removed from pandas in a future version. Use pandas.concat instead.\n",
      "  x_right = x_right.append(x_data.loc[i], ignore_index=True)\n",
      "C:\\Users\\KIIT\\AppData\\Local\\Temp\\ipykernel_8024\\733337414.py:19: FutureWarning: The frame.append method is deprecated and will be removed from pandas in a future version. Use pandas.concat instead.\n",
      "  x_right = x_right.append(x_data.loc[i], ignore_index=True)\n",
      "C:\\Users\\KIIT\\AppData\\Local\\Temp\\ipykernel_8024\\733337414.py:23: FutureWarning: The frame.append method is deprecated and will be removed from pandas in a future version. Use pandas.concat instead.\n",
      "  x_left = x_left.append(x_data.loc[i], ignore_index=True)\n",
      "C:\\Users\\KIIT\\AppData\\Local\\Temp\\ipykernel_8024\\733337414.py:19: FutureWarning: The frame.append method is deprecated and will be removed from pandas in a future version. Use pandas.concat instead.\n",
      "  x_right = x_right.append(x_data.loc[i], ignore_index=True)\n",
      "C:\\Users\\KIIT\\AppData\\Local\\Temp\\ipykernel_8024\\733337414.py:23: FutureWarning: The frame.append method is deprecated and will be removed from pandas in a future version. Use pandas.concat instead.\n",
      "  x_left = x_left.append(x_data.loc[i], ignore_index=True)\n",
      "C:\\Users\\KIIT\\AppData\\Local\\Temp\\ipykernel_8024\\733337414.py:23: FutureWarning: The frame.append method is deprecated and will be removed from pandas in a future version. Use pandas.concat instead.\n",
      "  x_left = x_left.append(x_data.loc[i], ignore_index=True)\n"
     ]
    },
    {
     "name": "stdout",
     "output_type": "stream",
     "text": [
      "Level 4\n",
      "Count of versicolor = 11\n",
      "Current entropy = 0.0\n",
      "Reached leaf Node\n",
      "\n",
      "\n"
     ]
    },
    {
     "name": "stderr",
     "output_type": "stream",
     "text": [
      "C:\\Users\\KIIT\\AppData\\Local\\Temp\\ipykernel_8024\\733337414.py:23: FutureWarning: The frame.append method is deprecated and will be removed from pandas in a future version. Use pandas.concat instead.\n",
      "  x_left = x_left.append(x_data.loc[i], ignore_index=True)\n",
      "C:\\Users\\KIIT\\AppData\\Local\\Temp\\ipykernel_8024\\733337414.py:19: FutureWarning: The frame.append method is deprecated and will be removed from pandas in a future version. Use pandas.concat instead.\n",
      "  x_right = x_right.append(x_data.loc[i], ignore_index=True)\n",
      "C:\\Users\\KIIT\\AppData\\Local\\Temp\\ipykernel_8024\\733337414.py:23: FutureWarning: The frame.append method is deprecated and will be removed from pandas in a future version. Use pandas.concat instead.\n",
      "  x_left = x_left.append(x_data.loc[i], ignore_index=True)\n"
     ]
    },
    {
     "name": "stdout",
     "output_type": "stream",
     "text": [
      "Level 4\n",
      "Count of versicolor = 37\n",
      "Count of virginica = 5\n",
      "Current entropy = 0.5266170655714281\n",
      "Splitting on Tree Features sepal length (cm) with information gain 0\n",
      "\n",
      "\n"
     ]
    },
    {
     "name": "stderr",
     "output_type": "stream",
     "text": [
      "C:\\Users\\KIIT\\AppData\\Local\\Temp\\ipykernel_8024\\733337414.py:19: FutureWarning: The frame.append method is deprecated and will be removed from pandas in a future version. Use pandas.concat instead.\n",
      "  x_right = x_right.append(x_data.loc[i], ignore_index=True)\n",
      "C:\\Users\\KIIT\\AppData\\Local\\Temp\\ipykernel_8024\\733337414.py:23: FutureWarning: The frame.append method is deprecated and will be removed from pandas in a future version. Use pandas.concat instead.\n",
      "  x_left = x_left.append(x_data.loc[i], ignore_index=True)\n",
      "C:\\Users\\KIIT\\AppData\\Local\\Temp\\ipykernel_8024\\733337414.py:23: FutureWarning: The frame.append method is deprecated and will be removed from pandas in a future version. Use pandas.concat instead.\n",
      "  x_left = x_left.append(x_data.loc[i], ignore_index=True)\n",
      "C:\\Users\\KIIT\\AppData\\Local\\Temp\\ipykernel_8024\\733337414.py:19: FutureWarning: The frame.append method is deprecated and will be removed from pandas in a future version. Use pandas.concat instead.\n",
      "  x_right = x_right.append(x_data.loc[i], ignore_index=True)\n",
      "C:\\Users\\KIIT\\AppData\\Local\\Temp\\ipykernel_8024\\733337414.py:23: FutureWarning: The frame.append method is deprecated and will be removed from pandas in a future version. Use pandas.concat instead.\n",
      "  x_left = x_left.append(x_data.loc[i], ignore_index=True)\n",
      "C:\\Users\\KIIT\\AppData\\Local\\Temp\\ipykernel_8024\\733337414.py:23: FutureWarning: The frame.append method is deprecated and will be removed from pandas in a future version. Use pandas.concat instead.\n",
      "  x_left = x_left.append(x_data.loc[i], ignore_index=True)\n",
      "C:\\Users\\KIIT\\AppData\\Local\\Temp\\ipykernel_8024\\733337414.py:19: FutureWarning: The frame.append method is deprecated and will be removed from pandas in a future version. Use pandas.concat instead.\n",
      "  x_right = x_right.append(x_data.loc[i], ignore_index=True)\n",
      "C:\\Users\\KIIT\\AppData\\Local\\Temp\\ipykernel_8024\\733337414.py:23: FutureWarning: The frame.append method is deprecated and will be removed from pandas in a future version. Use pandas.concat instead.\n",
      "  x_left = x_left.append(x_data.loc[i], ignore_index=True)\n",
      "C:\\Users\\KIIT\\AppData\\Local\\Temp\\ipykernel_8024\\733337414.py:19: FutureWarning: The frame.append method is deprecated and will be removed from pandas in a future version. Use pandas.concat instead.\n",
      "  x_right = x_right.append(x_data.loc[i], ignore_index=True)\n",
      "C:\\Users\\KIIT\\AppData\\Local\\Temp\\ipykernel_8024\\733337414.py:23: FutureWarning: The frame.append method is deprecated and will be removed from pandas in a future version. Use pandas.concat instead.\n",
      "  x_left = x_left.append(x_data.loc[i], ignore_index=True)\n"
     ]
    },
    {
     "name": "stdout",
     "output_type": "stream",
     "text": [
      "Level 5\n",
      "Count of versicolor = 15\n",
      "Count of virginica = 1\n",
      "Current entropy = 0.3372900666170139\n",
      "Splitting on Tree Features sepal length (cm) with information gain 0\n",
      "Max depth Reached\n",
      "\n",
      "\n"
     ]
    },
    {
     "name": "stderr",
     "output_type": "stream",
     "text": [
      "C:\\Users\\KIIT\\AppData\\Local\\Temp\\ipykernel_8024\\733337414.py:19: FutureWarning: The frame.append method is deprecated and will be removed from pandas in a future version. Use pandas.concat instead.\n",
      "  x_right = x_right.append(x_data.loc[i], ignore_index=True)\n",
      "C:\\Users\\KIIT\\AppData\\Local\\Temp\\ipykernel_8024\\733337414.py:23: FutureWarning: The frame.append method is deprecated and will be removed from pandas in a future version. Use pandas.concat instead.\n",
      "  x_left = x_left.append(x_data.loc[i], ignore_index=True)\n",
      "C:\\Users\\KIIT\\AppData\\Local\\Temp\\ipykernel_8024\\733337414.py:23: FutureWarning: The frame.append method is deprecated and will be removed from pandas in a future version. Use pandas.concat instead.\n",
      "  x_left = x_left.append(x_data.loc[i], ignore_index=True)\n",
      "C:\\Users\\KIIT\\AppData\\Local\\Temp\\ipykernel_8024\\733337414.py:23: FutureWarning: The frame.append method is deprecated and will be removed from pandas in a future version. Use pandas.concat instead.\n",
      "  x_left = x_left.append(x_data.loc[i], ignore_index=True)\n"
     ]
    },
    {
     "name": "stdout",
     "output_type": "stream",
     "text": [
      "Level 5\n",
      "Count of versicolor = 22\n",
      "Count of virginica = 4\n",
      "Current entropy = 0.6193821946787638\n",
      "Splitting on Tree Features sepal length (cm) with information gain 0\n",
      "Max depth Reached\n",
      "\n",
      "\n",
      "Level 3\n",
      "Count of virginica = 1\n",
      "Current entropy = 0.0\n",
      "Reached leaf Node\n",
      "\n",
      "\n"
     ]
    },
    {
     "name": "stderr",
     "output_type": "stream",
     "text": [
      "C:\\Users\\KIIT\\AppData\\Local\\Temp\\ipykernel_8024\\733337414.py:19: FutureWarning: The frame.append method is deprecated and will be removed from pandas in a future version. Use pandas.concat instead.\n",
      "  x_right = x_right.append(x_data.loc[i], ignore_index=True)\n",
      "C:\\Users\\KIIT\\AppData\\Local\\Temp\\ipykernel_8024\\733337414.py:23: FutureWarning: The frame.append method is deprecated and will be removed from pandas in a future version. Use pandas.concat instead.\n",
      "  x_left = x_left.append(x_data.loc[i], ignore_index=True)\n",
      "C:\\Users\\KIIT\\AppData\\Local\\Temp\\ipykernel_8024\\733337414.py:23: FutureWarning: The frame.append method is deprecated and will be removed from pandas in a future version. Use pandas.concat instead.\n",
      "  x_left = x_left.append(x_data.loc[i], ignore_index=True)\n",
      "C:\\Users\\KIIT\\AppData\\Local\\Temp\\ipykernel_8024\\733337414.py:23: FutureWarning: The frame.append method is deprecated and will be removed from pandas in a future version. Use pandas.concat instead.\n",
      "  x_left = x_left.append(x_data.loc[i], ignore_index=True)\n",
      "C:\\Users\\KIIT\\AppData\\Local\\Temp\\ipykernel_8024\\733337414.py:23: FutureWarning: The frame.append method is deprecated and will be removed from pandas in a future version. Use pandas.concat instead.\n",
      "  x_left = x_left.append(x_data.loc[i], ignore_index=True)\n",
      "C:\\Users\\KIIT\\AppData\\Local\\Temp\\ipykernel_8024\\733337414.py:23: FutureWarning: The frame.append method is deprecated and will be removed from pandas in a future version. Use pandas.concat instead.\n",
      "  x_left = x_left.append(x_data.loc[i], ignore_index=True)\n",
      "C:\\Users\\KIIT\\AppData\\Local\\Temp\\ipykernel_8024\\733337414.py:23: FutureWarning: The frame.append method is deprecated and will be removed from pandas in a future version. Use pandas.concat instead.\n",
      "  x_left = x_left.append(x_data.loc[i], ignore_index=True)\n",
      "C:\\Users\\KIIT\\AppData\\Local\\Temp\\ipykernel_8024\\733337414.py:23: FutureWarning: The frame.append method is deprecated and will be removed from pandas in a future version. Use pandas.concat instead.\n",
      "  x_left = x_left.append(x_data.loc[i], ignore_index=True)\n",
      "C:\\Users\\KIIT\\AppData\\Local\\Temp\\ipykernel_8024\\733337414.py:19: FutureWarning: The frame.append method is deprecated and will be removed from pandas in a future version. Use pandas.concat instead.\n",
      "  x_right = x_right.append(x_data.loc[i], ignore_index=True)\n",
      "C:\\Users\\KIIT\\AppData\\Local\\Temp\\ipykernel_8024\\733337414.py:19: FutureWarning: The frame.append method is deprecated and will be removed from pandas in a future version. Use pandas.concat instead.\n",
      "  x_right = x_right.append(x_data.loc[i], ignore_index=True)\n",
      "C:\\Users\\KIIT\\AppData\\Local\\Temp\\ipykernel_8024\\733337414.py:23: FutureWarning: The frame.append method is deprecated and will be removed from pandas in a future version. Use pandas.concat instead.\n",
      "  x_left = x_left.append(x_data.loc[i], ignore_index=True)\n",
      "C:\\Users\\KIIT\\AppData\\Local\\Temp\\ipykernel_8024\\733337414.py:23: FutureWarning: The frame.append method is deprecated and will be removed from pandas in a future version. Use pandas.concat instead.\n",
      "  x_left = x_left.append(x_data.loc[i], ignore_index=True)\n",
      "C:\\Users\\KIIT\\AppData\\Local\\Temp\\ipykernel_8024\\733337414.py:19: FutureWarning: The frame.append method is deprecated and will be removed from pandas in a future version. Use pandas.concat instead.\n",
      "  x_right = x_right.append(x_data.loc[i], ignore_index=True)\n",
      "C:\\Users\\KIIT\\AppData\\Local\\Temp\\ipykernel_8024\\733337414.py:23: FutureWarning: The frame.append method is deprecated and will be removed from pandas in a future version. Use pandas.concat instead.\n",
      "  x_left = x_left.append(x_data.loc[i], ignore_index=True)\n",
      "C:\\Users\\KIIT\\AppData\\Local\\Temp\\ipykernel_8024\\733337414.py:19: FutureWarning: The frame.append method is deprecated and will be removed from pandas in a future version. Use pandas.concat instead.\n",
      "  x_right = x_right.append(x_data.loc[i], ignore_index=True)\n",
      "C:\\Users\\KIIT\\AppData\\Local\\Temp\\ipykernel_8024\\733337414.py:23: FutureWarning: The frame.append method is deprecated and will be removed from pandas in a future version. Use pandas.concat instead.\n",
      "  x_left = x_left.append(x_data.loc[i], ignore_index=True)\n",
      "C:\\Users\\KIIT\\AppData\\Local\\Temp\\ipykernel_8024\\733337414.py:19: FutureWarning: The frame.append method is deprecated and will be removed from pandas in a future version. Use pandas.concat instead.\n",
      "  x_right = x_right.append(x_data.loc[i], ignore_index=True)\n"
     ]
    },
    {
     "name": "stdout",
     "output_type": "stream",
     "text": [
      "Level 2\n",
      "Count of versicolor = 2\n",
      "Count of virginica = 44\n",
      "Current entropy = 0.2580186686648155\n",
      "Splitting on Tree Features petal width (cm) with information gain 3\n",
      "\n",
      "\n"
     ]
    },
    {
     "name": "stderr",
     "output_type": "stream",
     "text": [
      "C:\\Users\\KIIT\\AppData\\Local\\Temp\\ipykernel_8024\\733337414.py:23: FutureWarning: The frame.append method is deprecated and will be removed from pandas in a future version. Use pandas.concat instead.\n",
      "  x_left = x_left.append(x_data.loc[i], ignore_index=True)\n",
      "C:\\Users\\KIIT\\AppData\\Local\\Temp\\ipykernel_8024\\733337414.py:19: FutureWarning: The frame.append method is deprecated and will be removed from pandas in a future version. Use pandas.concat instead.\n",
      "  x_right = x_right.append(x_data.loc[i], ignore_index=True)\n",
      "C:\\Users\\KIIT\\AppData\\Local\\Temp\\ipykernel_8024\\733337414.py:19: FutureWarning: The frame.append method is deprecated and will be removed from pandas in a future version. Use pandas.concat instead.\n",
      "  x_right = x_right.append(x_data.loc[i], ignore_index=True)\n",
      "C:\\Users\\KIIT\\AppData\\Local\\Temp\\ipykernel_8024\\733337414.py:23: FutureWarning: The frame.append method is deprecated and will be removed from pandas in a future version. Use pandas.concat instead.\n",
      "  x_left = x_left.append(x_data.loc[i], ignore_index=True)\n",
      "C:\\Users\\KIIT\\AppData\\Local\\Temp\\ipykernel_8024\\733337414.py:23: FutureWarning: The frame.append method is deprecated and will be removed from pandas in a future version. Use pandas.concat instead.\n",
      "  x_left = x_left.append(x_data.loc[i], ignore_index=True)\n",
      "C:\\Users\\KIIT\\AppData\\Local\\Temp\\ipykernel_8024\\733337414.py:19: FutureWarning: The frame.append method is deprecated and will be removed from pandas in a future version. Use pandas.concat instead.\n",
      "  x_right = x_right.append(x_data.loc[i], ignore_index=True)\n",
      "C:\\Users\\KIIT\\AppData\\Local\\Temp\\ipykernel_8024\\733337414.py:23: FutureWarning: The frame.append method is deprecated and will be removed from pandas in a future version. Use pandas.concat instead.\n",
      "  x_left = x_left.append(x_data.loc[i], ignore_index=True)\n",
      "C:\\Users\\KIIT\\AppData\\Local\\Temp\\ipykernel_8024\\733337414.py:23: FutureWarning: The frame.append method is deprecated and will be removed from pandas in a future version. Use pandas.concat instead.\n",
      "  x_left = x_left.append(x_data.loc[i], ignore_index=True)\n"
     ]
    },
    {
     "name": "stdout",
     "output_type": "stream",
     "text": [
      "Level 3\n",
      "Count of versicolor = 2\n",
      "Count of virginica = 16\n",
      "Current entropy = 0.5032583347756457\n",
      "Splitting on Tree Features sepal length (cm) with information gain 0\n",
      "\n",
      "\n",
      "Level 4\n",
      "Count of versicolor = 2\n",
      "Count of virginica = 12\n",
      "Current entropy = 0.5916727785823275\n",
      "Splitting on Tree Features sepal length (cm) with information gain 0\n"
     ]
    },
    {
     "name": "stderr",
     "output_type": "stream",
     "text": [
      "C:\\Users\\KIIT\\AppData\\Local\\Temp\\ipykernel_8024\\733337414.py:19: FutureWarning: The frame.append method is deprecated and will be removed from pandas in a future version. Use pandas.concat instead.\n",
      "  x_right = x_right.append(x_data.loc[i], ignore_index=True)\n",
      "C:\\Users\\KIIT\\AppData\\Local\\Temp\\ipykernel_8024\\733337414.py:19: FutureWarning: The frame.append method is deprecated and will be removed from pandas in a future version. Use pandas.concat instead.\n",
      "  x_right = x_right.append(x_data.loc[i], ignore_index=True)\n",
      "C:\\Users\\KIIT\\AppData\\Local\\Temp\\ipykernel_8024\\733337414.py:23: FutureWarning: The frame.append method is deprecated and will be removed from pandas in a future version. Use pandas.concat instead.\n",
      "  x_left = x_left.append(x_data.loc[i], ignore_index=True)\n",
      "C:\\Users\\KIIT\\AppData\\Local\\Temp\\ipykernel_8024\\733337414.py:19: FutureWarning: The frame.append method is deprecated and will be removed from pandas in a future version. Use pandas.concat instead.\n",
      "  x_right = x_right.append(x_data.loc[i], ignore_index=True)\n",
      "C:\\Users\\KIIT\\AppData\\Local\\Temp\\ipykernel_8024\\733337414.py:23: FutureWarning: The frame.append method is deprecated and will be removed from pandas in a future version. Use pandas.concat instead.\n",
      "  x_left = x_left.append(x_data.loc[i], ignore_index=True)\n",
      "C:\\Users\\KIIT\\AppData\\Local\\Temp\\ipykernel_8024\\733337414.py:23: FutureWarning: The frame.append method is deprecated and will be removed from pandas in a future version. Use pandas.concat instead.\n",
      "  x_left = x_left.append(x_data.loc[i], ignore_index=True)\n",
      "C:\\Users\\KIIT\\AppData\\Local\\Temp\\ipykernel_8024\\733337414.py:23: FutureWarning: The frame.append method is deprecated and will be removed from pandas in a future version. Use pandas.concat instead.\n",
      "  x_left = x_left.append(x_data.loc[i], ignore_index=True)\n",
      "C:\\Users\\KIIT\\AppData\\Local\\Temp\\ipykernel_8024\\733337414.py:19: FutureWarning: The frame.append method is deprecated and will be removed from pandas in a future version. Use pandas.concat instead.\n",
      "  x_right = x_right.append(x_data.loc[i], ignore_index=True)\n",
      "C:\\Users\\KIIT\\AppData\\Local\\Temp\\ipykernel_8024\\733337414.py:23: FutureWarning: The frame.append method is deprecated and will be removed from pandas in a future version. Use pandas.concat instead.\n",
      "  x_left = x_left.append(x_data.loc[i], ignore_index=True)\n",
      "C:\\Users\\KIIT\\AppData\\Local\\Temp\\ipykernel_8024\\733337414.py:23: FutureWarning: The frame.append method is deprecated and will be removed from pandas in a future version. Use pandas.concat instead.\n",
      "  x_left = x_left.append(x_data.loc[i], ignore_index=True)\n",
      "C:\\Users\\KIIT\\AppData\\Local\\Temp\\ipykernel_8024\\733337414.py:23: FutureWarning: The frame.append method is deprecated and will be removed from pandas in a future version. Use pandas.concat instead.\n",
      "  x_left = x_left.append(x_data.loc[i], ignore_index=True)\n",
      "C:\\Users\\KIIT\\AppData\\Local\\Temp\\ipykernel_8024\\733337414.py:19: FutureWarning: The frame.append method is deprecated and will be removed from pandas in a future version. Use pandas.concat instead.\n",
      "  x_right = x_right.append(x_data.loc[i], ignore_index=True)\n",
      "C:\\Users\\KIIT\\AppData\\Local\\Temp\\ipykernel_8024\\733337414.py:23: FutureWarning: The frame.append method is deprecated and will be removed from pandas in a future version. Use pandas.concat instead.\n",
      "  x_left = x_left.append(x_data.loc[i], ignore_index=True)\n",
      "C:\\Users\\KIIT\\AppData\\Local\\Temp\\ipykernel_8024\\733337414.py:23: FutureWarning: The frame.append method is deprecated and will be removed from pandas in a future version. Use pandas.concat instead.\n",
      "  x_left = x_left.append(x_data.loc[i], ignore_index=True)\n",
      "C:\\Users\\KIIT\\AppData\\Local\\Temp\\ipykernel_8024\\733337414.py:23: FutureWarning: The frame.append method is deprecated and will be removed from pandas in a future version. Use pandas.concat instead.\n",
      "  x_left = x_left.append(x_data.loc[i], ignore_index=True)\n"
     ]
    },
    {
     "name": "stdout",
     "output_type": "stream",
     "text": [
      "\n",
      "\n",
      "Level 5\n",
      "Count of virginica = 3\n",
      "Current entropy = 0.0\n",
      "Reached leaf Node\n",
      "\n",
      "\n",
      "Level 5\n",
      "Count of versicolor = 2\n",
      "Count of virginica = 9\n",
      "Current entropy = 0.6840384356390417\n",
      "Splitting on Tree Features sepal width (cm) with information gain 1\n",
      "Max depth Reached\n",
      "\n",
      "\n",
      "Level 4\n",
      "Count of virginica = 4\n",
      "Current entropy = 0.0\n",
      "Reached leaf Node\n",
      "\n",
      "\n"
     ]
    },
    {
     "name": "stderr",
     "output_type": "stream",
     "text": [
      "C:\\Users\\KIIT\\AppData\\Local\\Temp\\ipykernel_8024\\733337414.py:19: FutureWarning: The frame.append method is deprecated and will be removed from pandas in a future version. Use pandas.concat instead.\n",
      "  x_right = x_right.append(x_data.loc[i], ignore_index=True)\n",
      "C:\\Users\\KIIT\\AppData\\Local\\Temp\\ipykernel_8024\\733337414.py:23: FutureWarning: The frame.append method is deprecated and will be removed from pandas in a future version. Use pandas.concat instead.\n",
      "  x_left = x_left.append(x_data.loc[i], ignore_index=True)\n",
      "C:\\Users\\KIIT\\AppData\\Local\\Temp\\ipykernel_8024\\733337414.py:19: FutureWarning: The frame.append method is deprecated and will be removed from pandas in a future version. Use pandas.concat instead.\n",
      "  x_right = x_right.append(x_data.loc[i], ignore_index=True)\n",
      "C:\\Users\\KIIT\\AppData\\Local\\Temp\\ipykernel_8024\\733337414.py:23: FutureWarning: The frame.append method is deprecated and will be removed from pandas in a future version. Use pandas.concat instead.\n",
      "  x_left = x_left.append(x_data.loc[i], ignore_index=True)\n",
      "C:\\Users\\KIIT\\AppData\\Local\\Temp\\ipykernel_8024\\733337414.py:23: FutureWarning: The frame.append method is deprecated and will be removed from pandas in a future version. Use pandas.concat instead.\n",
      "  x_left = x_left.append(x_data.loc[i], ignore_index=True)\n",
      "C:\\Users\\KIIT\\AppData\\Local\\Temp\\ipykernel_8024\\733337414.py:23: FutureWarning: The frame.append method is deprecated and will be removed from pandas in a future version. Use pandas.concat instead.\n",
      "  x_left = x_left.append(x_data.loc[i], ignore_index=True)\n",
      "C:\\Users\\KIIT\\AppData\\Local\\Temp\\ipykernel_8024\\733337414.py:19: FutureWarning: The frame.append method is deprecated and will be removed from pandas in a future version. Use pandas.concat instead.\n",
      "  x_right = x_right.append(x_data.loc[i], ignore_index=True)\n",
      "C:\\Users\\KIIT\\AppData\\Local\\Temp\\ipykernel_8024\\733337414.py:23: FutureWarning: The frame.append method is deprecated and will be removed from pandas in a future version. Use pandas.concat instead.\n",
      "  x_left = x_left.append(x_data.loc[i], ignore_index=True)\n",
      "C:\\Users\\KIIT\\AppData\\Local\\Temp\\ipykernel_8024\\733337414.py:23: FutureWarning: The frame.append method is deprecated and will be removed from pandas in a future version. Use pandas.concat instead.\n",
      "  x_left = x_left.append(x_data.loc[i], ignore_index=True)\n",
      "C:\\Users\\KIIT\\AppData\\Local\\Temp\\ipykernel_8024\\733337414.py:23: FutureWarning: The frame.append method is deprecated and will be removed from pandas in a future version. Use pandas.concat instead.\n",
      "  x_left = x_left.append(x_data.loc[i], ignore_index=True)\n",
      "C:\\Users\\KIIT\\AppData\\Local\\Temp\\ipykernel_8024\\733337414.py:19: FutureWarning: The frame.append method is deprecated and will be removed from pandas in a future version. Use pandas.concat instead.\n",
      "  x_right = x_right.append(x_data.loc[i], ignore_index=True)\n",
      "C:\\Users\\KIIT\\AppData\\Local\\Temp\\ipykernel_8024\\733337414.py:19: FutureWarning: The frame.append method is deprecated and will be removed from pandas in a future version. Use pandas.concat instead.\n",
      "  x_right = x_right.append(x_data.loc[i], ignore_index=True)\n",
      "C:\\Users\\KIIT\\AppData\\Local\\Temp\\ipykernel_8024\\733337414.py:23: FutureWarning: The frame.append method is deprecated and will be removed from pandas in a future version. Use pandas.concat instead.\n",
      "  x_left = x_left.append(x_data.loc[i], ignore_index=True)\n",
      "C:\\Users\\KIIT\\AppData\\Local\\Temp\\ipykernel_8024\\733337414.py:23: FutureWarning: The frame.append method is deprecated and will be removed from pandas in a future version. Use pandas.concat instead.\n",
      "  x_left = x_left.append(x_data.loc[i], ignore_index=True)\n",
      "C:\\Users\\KIIT\\AppData\\Local\\Temp\\ipykernel_8024\\733337414.py:23: FutureWarning: The frame.append method is deprecated and will be removed from pandas in a future version. Use pandas.concat instead.\n",
      "  x_left = x_left.append(x_data.loc[i], ignore_index=True)\n",
      "C:\\Users\\KIIT\\AppData\\Local\\Temp\\ipykernel_8024\\733337414.py:19: FutureWarning: The frame.append method is deprecated and will be removed from pandas in a future version. Use pandas.concat instead.\n",
      "  x_right = x_right.append(x_data.loc[i], ignore_index=True)\n",
      "C:\\Users\\KIIT\\AppData\\Local\\Temp\\ipykernel_8024\\733337414.py:23: FutureWarning: The frame.append method is deprecated and will be removed from pandas in a future version. Use pandas.concat instead.\n",
      "  x_left = x_left.append(x_data.loc[i], ignore_index=True)\n",
      "C:\\Users\\KIIT\\AppData\\Local\\Temp\\ipykernel_8024\\733337414.py:19: FutureWarning: The frame.append method is deprecated and will be removed from pandas in a future version. Use pandas.concat instead.\n",
      "  x_right = x_right.append(x_data.loc[i], ignore_index=True)\n",
      "C:\\Users\\KIIT\\AppData\\Local\\Temp\\ipykernel_8024\\733337414.py:19: FutureWarning: The frame.append method is deprecated and will be removed from pandas in a future version. Use pandas.concat instead.\n",
      "  x_right = x_right.append(x_data.loc[i], ignore_index=True)\n",
      "C:\\Users\\KIIT\\AppData\\Local\\Temp\\ipykernel_8024\\733337414.py:23: FutureWarning: The frame.append method is deprecated and will be removed from pandas in a future version. Use pandas.concat instead.\n",
      "  x_left = x_left.append(x_data.loc[i], ignore_index=True)\n"
     ]
    },
    {
     "name": "stdout",
     "output_type": "stream",
     "text": [
      "Level 3\n",
      "Count of virginica = 28\n",
      "Current entropy = 0.0\n",
      "Reached leaf Node\n",
      "\n",
      "\n"
     ]
    },
    {
     "name": "stderr",
     "output_type": "stream",
     "text": [
      "C:\\Users\\KIIT\\AppData\\Local\\Temp\\ipykernel_8024\\733337414.py:19: FutureWarning: The frame.append method is deprecated and will be removed from pandas in a future version. Use pandas.concat instead.\n",
      "  x_right = x_right.append(x_data.loc[i], ignore_index=True)\n",
      "C:\\Users\\KIIT\\AppData\\Local\\Temp\\ipykernel_8024\\733337414.py:23: FutureWarning: The frame.append method is deprecated and will be removed from pandas in a future version. Use pandas.concat instead.\n",
      "  x_left = x_left.append(x_data.loc[i], ignore_index=True)\n",
      "C:\\Users\\KIIT\\AppData\\Local\\Temp\\ipykernel_8024\\733337414.py:23: FutureWarning: The frame.append method is deprecated and will be removed from pandas in a future version. Use pandas.concat instead.\n",
      "  x_left = x_left.append(x_data.loc[i], ignore_index=True)\n",
      "C:\\Users\\KIIT\\AppData\\Local\\Temp\\ipykernel_8024\\733337414.py:23: FutureWarning: The frame.append method is deprecated and will be removed from pandas in a future version. Use pandas.concat instead.\n",
      "  x_left = x_left.append(x_data.loc[i], ignore_index=True)\n",
      "C:\\Users\\KIIT\\AppData\\Local\\Temp\\ipykernel_8024\\733337414.py:19: FutureWarning: The frame.append method is deprecated and will be removed from pandas in a future version. Use pandas.concat instead.\n",
      "  x_right = x_right.append(x_data.loc[i], ignore_index=True)\n"
     ]
    }
   ],
   "source": [
    "df.train(iris_df,names)"
   ]
  }
 ],
 "metadata": {
  "kernelspec": {
   "display_name": "Python 3 (ipykernel)",
   "language": "python",
   "name": "python3"
  },
  "language_info": {
   "codemirror_mode": {
    "name": "ipython",
    "version": 3
   },
   "file_extension": ".py",
   "mimetype": "text/x-python",
   "name": "python",
   "nbconvert_exporter": "python",
   "pygments_lexer": "ipython3",
   "version": "3.10.9"
  }
 },
 "nbformat": 4,
 "nbformat_minor": 5
}
