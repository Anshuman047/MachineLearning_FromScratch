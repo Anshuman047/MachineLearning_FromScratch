{
 "cells": [
  {
   "cell_type": "markdown",
   "id": "b912fb32-dbc9-40dc-ae62-e2132e8312b7",
   "metadata": {
    "tags": []
   },
   "source": [
    "## Loading the DataSets from Scikit-learn Module and study them"
   ]
  },
  {
   "cell_type": "code",
   "execution_count": null,
   "id": "090fd922-da22-48c3-84be-d5e7dc58d509",
   "metadata": {},
   "outputs": [],
   "source": [
    "# from sklearn import datasets #Imported the datasets from the scikit-learn\n",
    "from sklearn.datasets import fetch_openml\n",
    "#since the boston-dataset is deprived from the dataset, so we are using California-housingDataset"
   ]
  },
  {
   "cell_type": "code",
   "execution_count": 238,
   "id": "6d0511cb-abd9-4e60-b177-e29c7864177c",
   "metadata": {},
   "outputs": [
    {
     "data": {
      "text/plain": [
       "sklearn.utils._bunch.Bunch"
      ]
     },
     "execution_count": 238,
     "metadata": {},
     "output_type": "execute_result"
    }
   ],
   "source": [
    "# data = datasets.load_boston() #This function will load the boston-datasets into the dataset variable\n",
    "# type(data)\n",
    "housing = fetch_openml(name=\"house_prices\", as_frame=True)\n",
    "type(housing)    "
   ]
  },
  {
   "cell_type": "code",
   "execution_count": 227,
   "id": "22084603-e5a1-4cbb-9221-5eaba7a3ef85",
   "metadata": {},
   "outputs": [],
   "source": [
    "housing #run to see , what is in the housing variable\n",
    "X = housing.data # Input features\n",
    "Y = housing.target # Output Target\n",
    "Y_encoded = pd.get_dummies(Y)\n"
   ]
  },
  {
   "cell_type": "code",
   "execution_count": 97,
   "id": "283a11e8-d4a2-445e-a4e9-b43facfb0f1f",
   "metadata": {},
   "outputs": [
    {
     "data": {
      "text/plain": [
       "(1460, 80)"
      ]
     },
     "execution_count": 97,
     "metadata": {},
     "output_type": "execute_result"
    }
   ],
   "source": [
    "X # {training datasets- sets with labels}\n",
    "type(X) #pandas.core.frame.DataFrame\n",
    "X.shape #(1460,80)=Means it have 1460 data-points and each datapoints have 80 features\n",
    "# .shape gives the exact shape wrt to rows and coloumns , whereas size gives the total size means rowsxcoloumns"
   ]
  },
  {
   "cell_type": "code",
   "execution_count": 222,
   "id": "4b5fd630-0703-4231-badf-a4c13a4d1d9e",
   "metadata": {},
   "outputs": [],
   "source": [
    "import pandas as pd\n",
    "pd.DataFrame(X) #converted into data-frame\n",
    "#kabhi-kabhi dadatset, array(numpy) ke formate mai hota hai usko sets(inptu,output) mai krne ke liye hme yeh uper wala pandas waala code use krte hai\n",
    "#But yaha pr hmara X and Y already sets(input,output) ke form mai tha tho uper wala code krne per bhi no change\n",
    "#type(X) #pandas.core.frame.DataFrame, already pandas-implemented sets form mai hai yeh X, \n",
    "df=pd.DataFrame(X) #stored input-feature into a var\n",
    "print(housing.feature_names) #will print the 80 feature's name we have\n",
    "#In some cases they are not listed on the coloumn's names rather stored in array , instead numbers are printed obviously this would be take place when dataset comes (array)numpy form by-default, so you can change them by below process{But here they are already listed as coloumn's name}\n",
    "# df.coloumns = housing.feature_names\n",
    "df.describe() #This is used to describe all the specially(rows) and coloumns heading ek-saath \n",
    "X.describe() #Hence hmko dataset pandas implemented waala hi milatha so, waha colomnsby-default the, else numpy(array) waala milta jaha yeh headdings kisi array mai store hote and dono mai .describe use krne se rows heading aata hai\n",
    "# X # Yeh dega hmko total data-points and and unke features, but .describe krdendenge toh rows heading bhi aajega jisse headings ko satisfy krne waale data points ko hi likha jaega jisse essme kam data-points dikhte hai\n"
   ]
  },
  {
   "cell_type": "code",
   "execution_count": null,
   "id": "98bfbb56-5544-4f81-86ca-149a227901ac",
   "metadata": {},
   "outputs": [],
   "source": [
    "housing.DESCR #provide us the description, gives eaxh coloumns defination"
   ]
  },
  {
   "cell_type": "code",
   "execution_count": 85,
   "id": "0516e4ee-fed5-4177-afe1-0b2b80aae782",
   "metadata": {},
   "outputs": [
    {
     "data": {
      "text/plain": [
       "(1460,)"
      ]
     },
     "execution_count": 85,
     "metadata": {},
     "output_type": "execute_result"
    }
   ],
   "source": [
    "Y # {Examine dataset, set without labels which is to be find}\n",
    "type(Y) \n",
    "Y.shape # in X there are 1460 datapoints and 80 features, and corressponding to each data-points there would be 1 ouput target means in total 1460 outputs"
   ]
  },
  {
   "cell_type": "markdown",
   "id": "9dab3f08-1d9f-47f9-b617-04a159ac8d10",
   "metadata": {
    "tags": []
   },
   "source": [
    "## Now begin with train an LinearRegression algo from the above dataset"
   ]
  },
  {
   "cell_type": "markdown",
   "id": "0d735498-5f2c-4778-a34d-4ec12c66c19c",
   "metadata": {},
   "source": [
    "### We have label dataset as X whcih contains only correspoding datapoint's features and Y contains the corresponding datapoint's ouputs , which some bigger part used for training the algo, and some smaller part used for testing the algo, as it is providing us the correct label or not"
   ]
  },
  {
   "cell_type": "markdown",
   "id": "65211281-d8df-4e7d-bed5-e9f8d8c5f810",
   "metadata": {},
   "source": [
    "### We should split the datasets into test and train randomly , so that they should not have the anykind of relation in them"
   ]
  },
  {
   "cell_type": "code",
   "execution_count": 104,
   "id": "025e363c-9761-4eba-9b3d-178137da0915",
   "metadata": {},
   "outputs": [
    {
     "name": "stdout",
     "output_type": "stream",
     "text": [
      "(1460, 80)\n",
      "(1095, 80) (1095,)\n",
      "(365, 80) (365,)\n"
     ]
    }
   ],
   "source": [
    "#scikit-learn provides a module which bifurgate the dataset into test and train\n",
    "from sklearn import model_selection  #the module imported from scikit-learn\n",
    "X_train,X_test,Y_train,Y_test=model_selection.train_test_split(X,Y) #given the dataset which is needed to be divided would test and train daatsets\n",
    "#bydefault they are in the sequence listed as variavle above\n",
    "print(X.shape)\n",
    "print(X_train.shape,Y_train.shape)\n",
    "print(X_test.shape,Y_test.shape)"
   ]
  },
  {
   "cell_type": "markdown",
   "id": "2d4df6ba-6afb-41c4-a1c4-436891a1719e",
   "metadata": {},
   "source": [
    "## Now we successfully acquired the datasets, we go for the algo"
   ]
  },
  {
   "cell_type": "code",
   "execution_count": 237,
   "id": "71e4c4ae-c808-4a5e-bec5-2d6ee18e9322",
   "metadata": {},
   "outputs": [],
   "source": [
    "from sklearn.linear_model import LinearRegression #from scikitLearn imported the LinearRegression model\n",
    "alg01 = LinearRegression() # this var contains the algorithm-object or code, which is used to train and test"
   ]
  },
  {
   "cell_type": "markdown",
   "id": "982f1386-bfd4-4d53-8210-1c947fc5f9d9",
   "metadata": {
    "tags": []
   },
   "source": [
    "## Now we would train the algo"
   ]
  },
  {
   "cell_type": "code",
   "execution_count": 195,
   "id": "c997e526-de40-411b-8607-ef3221e1361f",
   "metadata": {},
   "outputs": [
    {
     "data": {
      "text/html": [
       "<style>#sk-container-id-4 {color: black;background-color: white;}#sk-container-id-4 pre{padding: 0;}#sk-container-id-4 div.sk-toggleable {background-color: white;}#sk-container-id-4 label.sk-toggleable__label {cursor: pointer;display: block;width: 100%;margin-bottom: 0;padding: 0.3em;box-sizing: border-box;text-align: center;}#sk-container-id-4 label.sk-toggleable__label-arrow:before {content: \"▸\";float: left;margin-right: 0.25em;color: #696969;}#sk-container-id-4 label.sk-toggleable__label-arrow:hover:before {color: black;}#sk-container-id-4 div.sk-estimator:hover label.sk-toggleable__label-arrow:before {color: black;}#sk-container-id-4 div.sk-toggleable__content {max-height: 0;max-width: 0;overflow: hidden;text-align: left;background-color: #f0f8ff;}#sk-container-id-4 div.sk-toggleable__content pre {margin: 0.2em;color: black;border-radius: 0.25em;background-color: #f0f8ff;}#sk-container-id-4 input.sk-toggleable__control:checked~div.sk-toggleable__content {max-height: 200px;max-width: 100%;overflow: auto;}#sk-container-id-4 input.sk-toggleable__control:checked~label.sk-toggleable__label-arrow:before {content: \"▾\";}#sk-container-id-4 div.sk-estimator input.sk-toggleable__control:checked~label.sk-toggleable__label {background-color: #d4ebff;}#sk-container-id-4 div.sk-label input.sk-toggleable__control:checked~label.sk-toggleable__label {background-color: #d4ebff;}#sk-container-id-4 input.sk-hidden--visually {border: 0;clip: rect(1px 1px 1px 1px);clip: rect(1px, 1px, 1px, 1px);height: 1px;margin: -1px;overflow: hidden;padding: 0;position: absolute;width: 1px;}#sk-container-id-4 div.sk-estimator {font-family: monospace;background-color: #f0f8ff;border: 1px dotted black;border-radius: 0.25em;box-sizing: border-box;margin-bottom: 0.5em;}#sk-container-id-4 div.sk-estimator:hover {background-color: #d4ebff;}#sk-container-id-4 div.sk-parallel-item::after {content: \"\";width: 100%;border-bottom: 1px solid gray;flex-grow: 1;}#sk-container-id-4 div.sk-label:hover label.sk-toggleable__label {background-color: #d4ebff;}#sk-container-id-4 div.sk-serial::before {content: \"\";position: absolute;border-left: 1px solid gray;box-sizing: border-box;top: 0;bottom: 0;left: 50%;z-index: 0;}#sk-container-id-4 div.sk-serial {display: flex;flex-direction: column;align-items: center;background-color: white;padding-right: 0.2em;padding-left: 0.2em;position: relative;}#sk-container-id-4 div.sk-item {position: relative;z-index: 1;}#sk-container-id-4 div.sk-parallel {display: flex;align-items: stretch;justify-content: center;background-color: white;position: relative;}#sk-container-id-4 div.sk-item::before, #sk-container-id-4 div.sk-parallel-item::before {content: \"\";position: absolute;border-left: 1px solid gray;box-sizing: border-box;top: 0;bottom: 0;left: 50%;z-index: -1;}#sk-container-id-4 div.sk-parallel-item {display: flex;flex-direction: column;z-index: 1;position: relative;background-color: white;}#sk-container-id-4 div.sk-parallel-item:first-child::after {align-self: flex-end;width: 50%;}#sk-container-id-4 div.sk-parallel-item:last-child::after {align-self: flex-start;width: 50%;}#sk-container-id-4 div.sk-parallel-item:only-child::after {width: 0;}#sk-container-id-4 div.sk-dashed-wrapped {border: 1px dashed gray;margin: 0 0.4em 0.5em 0.4em;box-sizing: border-box;padding-bottom: 0.4em;background-color: white;}#sk-container-id-4 div.sk-label label {font-family: monospace;font-weight: bold;display: inline-block;line-height: 1.2em;}#sk-container-id-4 div.sk-label-container {text-align: center;}#sk-container-id-4 div.sk-container {/* jupyter's `normalize.less` sets `[hidden] { display: none; }` but bootstrap.min.css set `[hidden] { display: none !important; }` so we also need the `!important` here to be able to override the default hidden behavior on the sphinx rendered scikit-learn.org. See: https://github.com/scikit-learn/scikit-learn/issues/21755 */display: inline-block !important;position: relative;}#sk-container-id-4 div.sk-text-repr-fallback {display: none;}</style><div id=\"sk-container-id-4\" class=\"sk-top-container\"><div class=\"sk-text-repr-fallback\"><pre>LinearRegression()</pre><b>In a Jupyter environment, please rerun this cell to show the HTML representation or trust the notebook. <br />On GitHub, the HTML representation is unable to render, please try loading this page with nbviewer.org.</b></div><div class=\"sk-container\" hidden><div class=\"sk-item\"><div class=\"sk-estimator sk-toggleable\"><input class=\"sk-toggleable__control sk-hidden--visually\" id=\"sk-estimator-id-4\" type=\"checkbox\" checked><label for=\"sk-estimator-id-4\" class=\"sk-toggleable__label sk-toggleable__label-arrow\">LinearRegression</label><div class=\"sk-toggleable__content\"><pre>LinearRegression()</pre></div></div></div></div></div>"
      ],
      "text/plain": [
       "LinearRegression()"
      ]
     },
     "execution_count": 195,
     "metadata": {},
     "output_type": "execute_result"
    }
   ],
   "source": [
    " # alg01.fit(X_train,Y_train) #Given train data to learn \n",
    "    \n",
    "from sklearn.impute import SimpleImputer\n",
    "\n",
    "# Identify non-numeric columns\n",
    "non_numeric_cols = X_train.select_dtypes(exclude='number').columns\n",
    "\n",
    "# Impute missing values in numeric columns with the mean\n",
    "numeric_imputer = SimpleImputer(strategy='mean')\n",
    "X_train_numeric = numeric_imputer.fit_transform(X_train.select_dtypes(include='number'))\n",
    "X_train_numeric = pd.DataFrame(X_train_numeric, columns=X_train.select_dtypes(include='number').columns)\n",
    "\n",
    "# Impute missing values in non-numeric columns with the most frequent value\n",
    "non_numeric_imputer = SimpleImputer(strategy='most_frequent')\n",
    "X_train_non_numeric = non_numeric_imputer.fit_transform(X_train[non_numeric_cols])\n",
    "X_train_non_numeric = pd.DataFrame(X_train_non_numeric, columns=non_numeric_cols)\n",
    "\n",
    "# Concatenate numeric and non-numeric columns\n",
    "X_train_imputed = pd.concat([X_train_numeric, X_train_non_numeric], axis=1)\n",
    "\n",
    "X_train_encoded = pd.get_dummies(X_train_imputed)\n",
    "Y_train_encoded = pd.get_dummies(Y_train)\n",
    "\n",
    "\n",
    "# The above code performs data preprocessing steps to handle missing values and categorical variables before fitting the LinearRegression model. Here's a breakdown of what each section of the code does:\n",
    "# Identify non-numeric columns: This step identifies the columns in the X_train dataset that contain non-numeric values.\n",
    "# Impute missing values in numeric columns: The code creates a SimpleImputer object with the strategy set to 'mean' and applies it to the numeric columns in X_train using the fit_transform method. This replaces any missing values in the numeric columns with the mean value of the available data.\n",
    "# Impute missing values in non-numeric columns: Similarly, a second SimpleImputer object is created with the strategy set to 'most_frequent'. It is applied to the non-numeric columns in X_train to replace any missing values with the most frequent value in each respective column.\n",
    "# Concatenate numeric and non-numeric columns: The imputed numeric and non-numeric columns are concatenated using the pd.concat function to create the X_train_imputed DataFrame. This DataFrame contains the imputed values for both numeric and non-numeric columns.\n",
    "# Encode categorical variables: The X_train_imputed DataFrame is then encoded using one-hot encoding with the pd.get_dummies function. This converts categorical variables into binary columns representing the presence or absence of each category.\n",
    "# Encode categorical target variable: The Y_train target variable is also encoded using one-hot encoding to handle categorical target variables, if applicable.\n",
    "# Fit the LinearRegression model: Finally, the LinearRegression model (alg01) is fitted using the encoded X_train_encoded and Y_train_encoded data.\n",
    "# The reason for the changes in the code is to handle missing values and categorical variables appropriately. The original code did not account for missing values and directly applied one-hot encoding to the original X_train and Y_train data, which can cause errors when there are missing values or non-numeric variables present. The updated code uses SimpleImputer to fill in missing values separately for numeric and non-numeric columns, and then encodes the categorical variables using one-hot encoding. This ensures that the data is properly prepared for the LinearRegression model.\n",
    "\n",
    "alg01.fit(X_train_encoded, Y_train_encoded)#Given train data to learn \n",
    "\n",
    "# So, seeing \"LinearRegression()\" as your output suggests that the LinearRegression model has been created and is ready to be used for further analysis or predictions.\n"
   ]
  },
  {
   "cell_type": "markdown",
   "id": "743b44e3-db38-4582-8240-603d256641ec",
   "metadata": {},
   "source": [
    "## Now we would get the predicted output"
   ]
  },
  {
   "cell_type": "code",
   "execution_count": 230,
   "id": "0e0a8dc3-0a64-4a05-a9e5-3dbd48c346f7",
   "metadata": {},
   "outputs": [
    {
     "name": "stdout",
     "output_type": "stream",
     "text": [
      "[[-0.04021459  0.11554643 -0.06060401 ... -0.03879334  0.03744006\n",
      "   0.00615364]\n",
      " [-0.04593088  0.07423977 -0.04341332 ... -0.01614517  0.05693974\n",
      "   0.03916784]\n",
      " [-0.01777743  0.07793074 -0.06604111 ... -0.0231284   0.05895232\n",
      "   0.00115908]\n",
      " ...\n",
      " [-0.03447082  0.07337448 -0.05091317 ...  0.02833532  0.0560954\n",
      "   0.05620907]\n",
      " [-0.05143111  0.1089604  -0.05248794 ... -0.01364095  0.03969202\n",
      "   0.02436829]\n",
      " [-0.03350273  0.10308987 -0.05464311 ... -0.02365568  0.05170466\n",
      "   0.01611846]]\n",
      "(365, 559)\n",
      "(365, 256)\n"
     ]
    },
    {
     "name": "stderr",
     "output_type": "stream",
     "text": [
      "C:\\Users\\KIIT\\anaconda3\\lib\\site-packages\\sklearn\\base.py:420: UserWarning: X does not have valid feature names, but LinearRegression was fitted with feature names\n",
      "  warnings.warn(\n"
     ]
    }
   ],
   "source": [
    "# alg01.predict(X_test)\n",
    "\n",
    "# Preprocess the test data\n",
    "X_test_imputed = X_test.fillna(X_train.mean())  # Impute missing values with mean\n",
    "X_test_reindexed = X_test_imputed.reindex(columns=X_train_encoded.columns, fill_value=0)  # Reindex columns\n",
    "X_test_encoded = pd.get_dummies(X_test_reindexed)  # Perform one-hot encoding\n",
    "\n",
    "# Encode the target variable\n",
    "Y_test_encoded = pd.get_dummies(Y_test)\n",
    "\n",
    "# Make predictions using the trained model\n",
    "Y_pred = alg01.predict(X_test_encoded.values)\n",
    "\n",
    "# Print the predicted values\n",
    "print(Y_pred)\n",
    "print(Y_pred.shape)\n",
    "print(Y_test_encoded.shape)\n",
    "\n",
    "\n",
    "# The above code snippet addresses the issue of column mismatch between the training data (X_train_encoded) and the test data (X_test). It performs the necessary preprocessing steps to ensure that the test data is compatible with the trained model.\n",
    "\n",
    "# Here's a step-by-step explanation of the code:\n",
    "\n",
    "# X_test_imputed = X_test.fillna(X_train.mean()): This line fills any missing values in the test data (X_test) with the mean values from the training data (X_train). It ensures that both datasets have the same imputation for missing values.\n",
    "\n",
    "# X_test_reindexed = X_test_imputed.reindex(columns=X_train_encoded.columns, fill_value=0): This line reindexes the columns of the imputed test data (X_test_imputed) to match the columns of the encoded training data (X_train_encoded). The reindex function aligns the columns, and any missing columns in the test data are filled with zeros (fill_value=0).\n",
    "\n",
    "# X_test_encoded = pd.get_dummies(X_test_reindexed): This line performs one-hot encoding on the reindexed test data (X_test_reindexed). It converts categorical variables into binary columns, allowing them to be used as input for the trained model. The get_dummies function from Pandas is used for this purpose.\n",
    "\n",
    "# predictions = alg01.predict(X_test_encoded): This line uses the trained model (alg01) to make predictions on the encoded test data (X_test_encoded). The predict method applies the trained model to the input data and returns the predicted values.\n",
    "\n",
    "# print(predictions): This line prints the predictions obtained from the model. The output will be a list or array containing the predicted values for each sample in the test data.\n",
    "\n",
    "# By following these steps, you ensure that the test data undergoes the same preprocessing steps as the training data, enabling the model to make accurate predictions. The required output after executing the above code would be the predicted values for each sample in the test data.\n",
    "\n",
    "# Make predictions using the trained model\n",
    "# predictions = alg01.predict(X_test_encoded)\n",
    "\n",
    "# View the predictions\n",
    "# print(predictions)\n",
    "\n",
    "#Now we would compare Ypred with Y_test, how good our algo training\n",
    "\n"
   ]
  },
  {
   "cell_type": "markdown",
   "id": "f3a22adf-9ab3-42e7-8fe7-15c2299233c5",
   "metadata": {},
   "source": [
    "## Now we plot the graph, by using Matplotlib and compare the predicted output and test output"
   ]
  },
  {
   "cell_type": "code",
   "execution_count": 236,
   "id": "fa5fa04e-9c1b-47e6-8736-7e5cb54c5f53",
   "metadata": {},
   "outputs": [
    {
     "data": {
      "image/png": "[encoded data removed]",
      "text/plain": [
       "<Figure size 640x480 with 1 Axes>"
      ]
     },
     "metadata": {},
     "output_type": "display_data"
    }
   ],
   "source": [
    "import matplotlib.pyplot as plt\n",
    "\n",
    "# Plot the scatter plot\n",
    "plt.scatter(Y_pred_reshaped, Y_test_encoded)\n",
    "plt.show()\n"
   ]
  }
 ],
 "metadata": {
  "kernelspec": {
   "display_name": "Python 3 (ipykernel)",
   "language": "python",
   "name": "python3"
  },
  "language_info": {
   "codemirror_mode": {
    "name": "ipython",
    "version": 3
   },
   "file_extension": ".py",
   "mimetype": "text/x-python",
   "name": "python",
   "nbconvert_exporter": "python",
   "pygments_lexer": "ipython3",
   "version": "3.10.9"
  }
 },
 "nbformat": 4,
 "nbformat_minor": 5
}
