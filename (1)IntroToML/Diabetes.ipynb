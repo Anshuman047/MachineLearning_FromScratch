{
 "cells": [
  {
   "cell_type": "code",
   "execution_count": 2,
   "id": "024ecba9-bd1a-4dce-a04f-f8fc0a299aa5",
   "metadata": {},
   "outputs": [],
   "source": [
    "# The above code is an example of using linear regression to model the relationship between a single feature and a target variable. It specifically applies linear regression to the diabetes dataset, which is a commonly used dataset in machine learning.\n",
    "\n",
    "# The diabetes dataset contains information about diabetes patients, including various features such as age, body mass index (BMI), blood pressure, etc. In this code, only one feature (column) is selected from the dataset for simplicity.\n",
    "\n",
    "# The code uses a portion of the data for training and the remaining portion for testing. Specifically, it splits the dataset into training and testing sets using an 80/20 split. The training set consists of all but the last 20 samples, while the testing set contains the last 20 samples.\n",
    "\n",
    "# The training data, diabetes_X_train, is the selected feature values for the training samples, and diabetes_y_train is the corresponding target variable (diabetes disease progression) for those samples.\n",
    "\n",
    "# The testing data, diabetes_X_test, is the selected feature values for the testing samples, and diabetes_y_test is the corresponding target variable (actual diabetes disease progression) for those samples.\n",
    "\n",
    "# The linear regression model is trained on the training data (diabetes_X_train and diabetes_y_train) to learn the relationship between the selected feature and the target variable. Then, the model is used to predict the target variable values (diabetes_y_pred) for the testing data (diabetes_X_test). Finally, the predicted values are compared to the actual values (diabetes_y_test) to evaluate the performance of the model."
   ]
  },
  {
   "cell_type": "code",
   "execution_count": 3,
   "id": "05ff0360-d439-4d6c-a607-9da2125d3df6",
   "metadata": {},
   "outputs": [],
   "source": [
    "# Importing the necessary libraries: The code begins by importing the required libraries, including matplotlib.pyplot, numpy, sklearn.datasets, sklearn.linear_model, and sklearn.metrics. These libraries are commonly used for data visualization, numerical operations, loading datasets, implementing machine learning models, and evaluating model performance.\n",
    "import matplotlib.pyplot as plt\n",
    "import numpy as np\n",
    "from sklearn import datasets, linear_model\n",
    "from sklearn.metrics import mean_squared_error, r2_score"
   ]
  },
  {
   "cell_type": "code",
   "execution_count": 4,
   "id": "05cf06a9-40c7-4e55-aaa5-d36049a5c611",
   "metadata": {},
   "outputs": [],
   "source": [
    "# Loading the diabetes dataset: The code uses the datasets.load_diabetes() function from scikit-learn to load the diabetes dataset. By passing return_X_y=True, it separates the features (diabetes_X) and the target variable (diabetes_y) into two separate arrays.\n",
    "#Load the diabestes dataset\n",
    "diabetes_X, diabetes_y = datasets.load_diabetes(return_X_y=True)"
   ]
  },
  {
   "cell_type": "code",
   "execution_count": 5,
   "id": "1a3303b2-82f8-4292-9ec7-3ff23ba12e07",
   "metadata": {},
   "outputs": [],
   "source": [
    "# Selecting a single feature: To simplify the example, the code selects only one feature from the diabetes dataset. It uses the NumPy function np.newaxis to add a new axis to the feature array (diabetes_X), effectively converting it from a 1D array to a 2D array.\n",
    "# Use only one feature\n",
    "diabetes_X = diabetes_X[:, np.newaxis, 2]\n"
   ]
  },
  {
   "cell_type": "code",
   "execution_count": 6,
   "id": "9876f6d7-b241-432d-89a7-8490a87f3bcb",
   "metadata": {},
   "outputs": [
    {
     "data": {
      "text/plain": [
       "(442, 1)"
      ]
     },
     "execution_count": 6,
     "metadata": {},
     "output_type": "execute_result"
    }
   ],
   "source": [
    "diabetes_X.shape"
   ]
  },
  {
   "cell_type": "code",
   "execution_count": 7,
   "id": "88383519-105f-4b28-b81f-1d748ab09529",
   "metadata": {},
   "outputs": [
    {
     "name": "stdout",
     "output_type": "stream",
     "text": [
      "(422, 1)\n",
      "(20, 1)\n"
     ]
    }
   ],
   "source": [
    "# Splitting the data into training/testing sets: The code splits the feature array (diabetes_X) and the target variable array (diabetes_y) into separate training and testing sets. The training sets (diabetes_X_train and diabetes_y_train) contain all but the last 20 samples, while the testing sets (diabetes_X_test and diabetes_y_test) contain the last 20 samples.\n",
    "# Split the data into training/testing sets\n",
    "diabetes_X_train = diabetes_X[:-20]\n",
    "diabetes_X_test = diabetes_X[-20:]\n",
    "print(diabetes_X_train.shape)\n",
    "print(diabetes_X_test.shape)"
   ]
  },
  {
   "cell_type": "code",
   "execution_count": 8,
   "id": "a75b384e-a447-44b8-9e66-36d969c960d1",
   "metadata": {},
   "outputs": [
    {
     "name": "stdout",
     "output_type": "stream",
     "text": [
      "(422,)\n",
      "(20,)\n"
     ]
    }
   ],
   "source": [
    "# Splitting the data into training/testing sets: The code splits the feature array (diabetes_X) and the target variable array (diabetes_y) into separate training and testing sets. The training sets (diabetes_X_train and diabetes_y_train) contain all but the last 20 samples, while the testing sets (diabetes_X_test and diabetes_y_test) contain the last 20 samples.\n",
    "# Split the targets into training/testing sets\n",
    "diabetes_y_train = diabetes_y[:-20]\n",
    "diabetes_y_test = diabetes_y[-20:]\n",
    "print(diabetes_y_train.shape)\n",
    "print(diabetes_y_test.shape)"
   ]
  },
  {
   "cell_type": "code",
   "execution_count": 9,
   "id": "0c639e01-37b1-4761-89ce-4b1aeb4d2d41",
   "metadata": {},
   "outputs": [],
   "source": [
    "# Creating a linear regression object: An instance of the linear_model.LinearRegression() class is created and assigned to the variable regr. This object represents a linear regression model.\n",
    "# Create linear regression object\n",
    "regr = linear_model.LinearRegression()\n"
   ]
  },
  {
   "cell_type": "code",
   "execution_count": 10,
   "id": "1ebea882-6f60-45da-8853-22b591339674",
   "metadata": {},
   "outputs": [
    {
     "data": {
      "text/html": [
       "<style>#sk-container-id-1 {color: black;background-color: white;}#sk-container-id-1 pre{padding: 0;}#sk-container-id-1 div.sk-toggleable {background-color: white;}#sk-container-id-1 label.sk-toggleable__label {cursor: pointer;display: block;width: 100%;margin-bottom: 0;padding: 0.3em;box-sizing: border-box;text-align: center;}#sk-container-id-1 label.sk-toggleable__label-arrow:before {content: \"▸\";float: left;margin-right: 0.25em;color: #696969;}#sk-container-id-1 label.sk-toggleable__label-arrow:hover:before {color: black;}#sk-container-id-1 div.sk-estimator:hover label.sk-toggleable__label-arrow:before {color: black;}#sk-container-id-1 div.sk-toggleable__content {max-height: 0;max-width: 0;overflow: hidden;text-align: left;background-color: #f0f8ff;}#sk-container-id-1 div.sk-toggleable__content pre {margin: 0.2em;color: black;border-radius: 0.25em;background-color: #f0f8ff;}#sk-container-id-1 input.sk-toggleable__control:checked~div.sk-toggleable__content {max-height: 200px;max-width: 100%;overflow: auto;}#sk-container-id-1 input.sk-toggleable__control:checked~label.sk-toggleable__label-arrow:before {content: \"▾\";}#sk-container-id-1 div.sk-estimator input.sk-toggleable__control:checked~label.sk-toggleable__label {background-color: #d4ebff;}#sk-container-id-1 div.sk-label input.sk-toggleable__control:checked~label.sk-toggleable__label {background-color: #d4ebff;}#sk-container-id-1 input.sk-hidden--visually {border: 0;clip: rect(1px 1px 1px 1px);clip: rect(1px, 1px, 1px, 1px);height: 1px;margin: -1px;overflow: hidden;padding: 0;position: absolute;width: 1px;}#sk-container-id-1 div.sk-estimator {font-family: monospace;background-color: #f0f8ff;border: 1px dotted black;border-radius: 0.25em;box-sizing: border-box;margin-bottom: 0.5em;}#sk-container-id-1 div.sk-estimator:hover {background-color: #d4ebff;}#sk-container-id-1 div.sk-parallel-item::after {content: \"\";width: 100%;border-bottom: 1px solid gray;flex-grow: 1;}#sk-container-id-1 div.sk-label:hover label.sk-toggleable__label {background-color: #d4ebff;}#sk-container-id-1 div.sk-serial::before {content: \"\";position: absolute;border-left: 1px solid gray;box-sizing: border-box;top: 0;bottom: 0;left: 50%;z-index: 0;}#sk-container-id-1 div.sk-serial {display: flex;flex-direction: column;align-items: center;background-color: white;padding-right: 0.2em;padding-left: 0.2em;position: relative;}#sk-container-id-1 div.sk-item {position: relative;z-index: 1;}#sk-container-id-1 div.sk-parallel {display: flex;align-items: stretch;justify-content: center;background-color: white;position: relative;}#sk-container-id-1 div.sk-item::before, #sk-container-id-1 div.sk-parallel-item::before {content: \"\";position: absolute;border-left: 1px solid gray;box-sizing: border-box;top: 0;bottom: 0;left: 50%;z-index: -1;}#sk-container-id-1 div.sk-parallel-item {display: flex;flex-direction: column;z-index: 1;position: relative;background-color: white;}#sk-container-id-1 div.sk-parallel-item:first-child::after {align-self: flex-end;width: 50%;}#sk-container-id-1 div.sk-parallel-item:last-child::after {align-self: flex-start;width: 50%;}#sk-container-id-1 div.sk-parallel-item:only-child::after {width: 0;}#sk-container-id-1 div.sk-dashed-wrapped {border: 1px dashed gray;margin: 0 0.4em 0.5em 0.4em;box-sizing: border-box;padding-bottom: 0.4em;background-color: white;}#sk-container-id-1 div.sk-label label {font-family: monospace;font-weight: bold;display: inline-block;line-height: 1.2em;}#sk-container-id-1 div.sk-label-container {text-align: center;}#sk-container-id-1 div.sk-container {/* jupyter's `normalize.less` sets `[hidden] { display: none; }` but bootstrap.min.css set `[hidden] { display: none !important; }` so we also need the `!important` here to be able to override the default hidden behavior on the sphinx rendered scikit-learn.org. See: https://github.com/scikit-learn/scikit-learn/issues/21755 */display: inline-block !important;position: relative;}#sk-container-id-1 div.sk-text-repr-fallback {display: none;}</style><div id=\"sk-container-id-1\" class=\"sk-top-container\"><div class=\"sk-text-repr-fallback\"><pre>LinearRegression()</pre><b>In a Jupyter environment, please rerun this cell to show the HTML representation or trust the notebook. <br />On GitHub, the HTML representation is unable to render, please try loading this page with nbviewer.org.</b></div><div class=\"sk-container\" hidden><div class=\"sk-item\"><div class=\"sk-estimator sk-toggleable\"><input class=\"sk-toggleable__control sk-hidden--visually\" id=\"sk-estimator-id-1\" type=\"checkbox\" checked><label for=\"sk-estimator-id-1\" class=\"sk-toggleable__label sk-toggleable__label-arrow\">LinearRegression</label><div class=\"sk-toggleable__content\"><pre>LinearRegression()</pre></div></div></div></div></div>"
      ],
      "text/plain": [
       "LinearRegression()"
      ]
     },
     "execution_count": 10,
     "metadata": {},
     "output_type": "execute_result"
    }
   ],
   "source": [
    "# Training the model: The linear regression model is trained using the fit() method, which takes the training feature array (diabetes_X_train) and the corresponding target variable array (diabetes_y_train) as input. The model learns the relationship between the feature and the target variable during this step.\n",
    "# Train the model using the training sets\n",
    "regr.fit(diabetes_X_train, diabetes_y_train)\n"
   ]
  },
  {
   "cell_type": "code",
   "execution_count": 11,
   "id": "f3afc652-2a23-4b9f-9da2-32db86efa7ce",
   "metadata": {},
   "outputs": [],
   "source": [
    "# Making predictions: The trained model is used to make predictions on the testing feature array (diabetes_X_test) using the predict() method. The predicted target variable values are stored in the diabetes_y_pred array.\n",
    "# Make predictions using the testing set\n",
    "diabetes_y_pred = regr.predict(diabetes_X_test)\n"
   ]
  },
  {
   "cell_type": "code",
   "execution_count": 12,
   "id": "9811f265-37b3-4bc0-832d-c0cd996ecaff",
   "metadata": {},
   "outputs": [
    {
     "name": "stdout",
     "output_type": "stream",
     "text": [
      "Coefficients: \n",
      " [938.23786125]\n"
     ]
    }
   ],
   "source": [
    "# Printing the coefficients: The code prints the coefficients of the linear regression model using the coef_ attribute of the regr object. These coefficients represent the weights assigned to each feature by the model.\n",
    "# The coefficients\n",
    "print(\"Coefficients: \\n\", regr.coef_)\n"
   ]
  },
  {
   "cell_type": "code",
   "execution_count": 15,
   "id": "2a4c756f-ac99-4512-9454-0a11f7ca3acf",
   "metadata": {},
   "outputs": [
    {
     "name": "stdout",
     "output_type": "stream",
     "text": [
      "Mean squared error: 2548.07\n",
      "Coefficient of determination: 0.47\n"
     ]
    },
    {
     "data": {
      "image/png": "[encoded data removed]",
      "text/plain": [
       "<Figure size 640x480 with 1 Axes>"
      ]
     },
     "metadata": {},
     "output_type": "display_data"
    }
   ],
   "source": [
    "\n",
    "# Calculating mean squared error: The mean squared error (MSE) between the predicted target variable values (diabetes_y_pred) and the true target variable values (diabetes_y_test) is calculated using the mean_squared_error() function. MSE measures the average squared difference between the predicted and actual values, giving an indication of how well the model fits the data.\n",
    "# The mean squared error\n",
    "print(\"Mean squared error: %.2f\" % mean_squared_error(diabetes_y_test, diabetes_y_pred))\n",
    "\n",
    "# Calculating the coefficient of determination: The coefficient of determination, also known as R-squared, is calculated using the r2_score() function. It provides a measure of how well the linear regression model explains the variation in the target variable. A value of 1 indicates a perfect prediction.\n",
    "# The coefficient of determination: 1 is perfect prediction\n",
    "print(\"Coefficient of determination: %.2f\" % r2_score(diabetes_y_test, diabetes_y_pred))\n",
    "\n",
    "# Plotting the outputs: The code visualizes the actual testing feature values (diabetes_X_test) and their corresponding true target variable values (diabetes_y_test) as scatter points in black. It also plots the predicted target variable values (diabetes_y_pred) as a blue line using the plot() function. The resulting plot shows the linear regression line fit to the data.\n",
    "# Plot outputs\n",
    "plt.scatter(diabetes_X_test, diabetes_y_test, color=\"red\")\n",
    "plt.plot(diabetes_X_test, diabetes_y_pred, color=\"blue\", linewidth=3)\n",
    "\n",
    "# Customizing the plot: The code includes additional statements to customize the plot appearance, such as removing the tick labels on the x-axis and y-axis using xticks(()) and yticks(()) functions.\n",
    "# plt.xticks(())\n",
    "# plt.yticks(())\n",
    "\n",
    "plt.show()"
   ]
  }
 ],
 "metadata": {
  "kernelspec": {
   "display_name": "Python 3 (ipykernel)",
   "language": "python",
   "name": "python3"
  },
  "language_info": {
   "codemirror_mode": {
    "name": "ipython",
    "version": 3
   },
   "file_extension": ".py",
   "mimetype": "text/x-python",
   "name": "python",
   "nbconvert_exporter": "python",
   "pygments_lexer": "ipython3",
   "version": "3.10.9"
  }
 },
 "nbformat": 4,
 "nbformat_minor": 5
}
