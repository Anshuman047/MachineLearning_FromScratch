{
 "cells": [
  {
   "cell_type": "markdown",
   "id": "510ee71e-e9b9-40e6-a906-b2c97de2d662",
   "metadata": {},
   "source": [
    "# Implimentation of GradientDescent on Multiple_Dimension on BostonDatasets"
   ]
  },
  {
   "cell_type": "code",
   "execution_count": 1,
   "id": "67578d61-507e-4a44-9781-b26c45231308",
   "metadata": {},
   "outputs": [],
   "source": [
    "import numpy as np\n",
    "import pandas as pd\n",
    "from sklearn import datasets #imported Boston datasets as it have multidimensional input featured"
   ]
  },
  {
   "cell_type": "code",
   "execution_count": 2,
   "id": "88ec233f-8337-4c8d-8d5c-014ff2b72ae3",
   "metadata": {},
   "outputs": [
    {
     "name": "stdout",
     "output_type": "stream",
     "text": [
      "<class 'sklearn.utils._bunch.Bunch'>\n"
     ]
    },
    {
     "name": "stderr",
     "output_type": "stream",
     "text": [
      "C:\\Users\\KIIT\\anaconda3\\lib\\site-packages\\sklearn\\utils\\deprecation.py:87: FutureWarning: Function load_boston is deprecated; `load_boston` is deprecated in 1.0 and will be removed in 1.2.\n",
      "\n",
      "    The Boston housing prices dataset has an ethical problem. You can refer to\n",
      "    the documentation of this function for further details.\n",
      "\n",
      "    The scikit-learn maintainers therefore strongly discourage the use of this\n",
      "    dataset unless the purpose of the code is to study and educate about\n",
      "    ethical issues in data science and machine learning.\n",
      "\n",
      "    In this special case, you can fetch the dataset from the original\n",
      "    source::\n",
      "\n",
      "        import pandas as pd\n",
      "        import numpy as np\n",
      "\n",
      "        data_url = \"http://lib.stat.cmu.edu/datasets/boston\"\n",
      "        raw_df = pd.read_csv(data_url, sep=\"\\s+\", skiprows=22, header=None)\n",
      "        data = np.hstack([raw_df.values[::2, :], raw_df.values[1::2, :2]])\n",
      "        target = raw_df.values[1::2, 2]\n",
      "\n",
      "    Alternative datasets include the California housing dataset (i.e.\n",
      "    :func:`~sklearn.datasets.fetch_california_housing`) and the Ames housing\n",
      "    dataset. You can load the datasets as follows::\n",
      "\n",
      "        from sklearn.datasets import fetch_california_housing\n",
      "        housing = fetch_california_housing()\n",
      "\n",
      "    for the California housing dataset and::\n",
      "\n",
      "        from sklearn.datasets import fetch_openml\n",
      "        housing = fetch_openml(name=\"house_prices\", as_frame=True)\n",
      "\n",
      "    for the Ames housing dataset.\n",
      "  warnings.warn(msg, category=FutureWarning)\n"
     ]
    }
   ],
   "source": [
    "boston=datasets.load_boston()\n",
    "print(type(boston))"
   ]
  },
  {
   "cell_type": "code",
   "execution_count": 3,
   "id": "461e99d2-2020-43a5-b14a-f94b49fdf70e",
   "metadata": {},
   "outputs": [
    {
     "data": {
      "text/plain": [
       "\".. _boston_dataset:\\n\\nBoston house prices dataset\\n---------------------------\\n\\n**Data Set Characteristics:**  \\n\\n    :Number of Instances: 506 \\n\\n    :Number of Attributes: 13 numeric/categorical predictive. Median Value (attribute 14) is usually the target.\\n\\n    :Attribute Information (in order):\\n        - CRIM     per capita crime rate by town\\n        - ZN       proportion of residential land zoned for lots over 25,000 sq.ft.\\n        - INDUS    proportion of non-retail business acres per town\\n        - CHAS     Charles River dummy variable (= 1 if tract bounds river; 0 otherwise)\\n        - NOX      nitric oxides concentration (parts per 10 million)\\n        - RM       average number of rooms per dwelling\\n        - AGE      proportion of owner-occupied units built prior to 1940\\n        - DIS      weighted distances to five Boston employment centres\\n        - RAD      index of accessibility to radial highways\\n        - TAX      full-value property-tax rate per $10,000\\n        - PTRATIO  pupil-teacher ratio by town\\n        - B        1000(Bk - 0.63)^2 where Bk is the proportion of black people by town\\n        - LSTAT    % lower status of the population\\n        - MEDV     Median value of owner-occupied homes in $1000's\\n\\n    :Missing Attribute Values: None\\n\\n    :Creator: Harrison, D. and Rubinfeld, D.L.\\n\\nThis is a copy of UCI ML housing dataset.\\nhttps://archive.ics.uci.edu/ml/machine-learning-databases/housing/\\n\\n\\nThis dataset was taken from the StatLib library which is maintained at Carnegie Mellon University.\\n\\nThe Boston house-price data of Harrison, D. and Rubinfeld, D.L. 'Hedonic\\nprices and the demand for clean air', J. Environ. Economics & Management,\\nvol.5, 81-102, 1978.   Used in Belsley, Kuh & Welsch, 'Regression diagnostics\\n...', Wiley, 1980.   N.B. Various transformations are used in the table on\\npages 244-261 of the latter.\\n\\nThe Boston house-price data has been used in many machine learning papers that address regression\\nproblems.   \\n     \\n.. topic:: References\\n\\n   - Belsley, Kuh & Welsch, 'Regression diagnostics: Identifying Influential Data and Sources of Collinearity', Wiley, 1980. 244-261.\\n   - Quinlan,R. (1993). Combining Instance-Based and Model-Based Learning. In Proceedings on the Tenth International Conference of Machine Learning, 236-243, University of Massachusetts, Amherst. Morgan Kaufmann.\\n\""
      ]
     },
     "execution_count": 3,
     "metadata": {},
     "output_type": "execute_result"
    }
   ],
   "source": [
    "boston.DESCR"
   ]
  },
  {
   "cell_type": "code",
   "execution_count": 34,
   "id": "f84219ec-b3fe-4440-8311-f30d0e28fb44",
   "metadata": {},
   "outputs": [
    {
     "name": "stdout",
     "output_type": "stream",
     "text": [
      "<class 'numpy.ndarray'>\n",
      "<class 'numpy.ndarray'>\n",
      "(506, 13) (506,)\n"
     ]
    }
   ],
   "source": [
    "X=boston.data\n",
    "Y=boston.target\n",
    "print(type(X))\n",
    "print(type(Y))\n",
    "print(X.shape,Y.shape)"
   ]
  },
  {
   "cell_type": "code",
   "execution_count": 35,
   "id": "a0f8aa05-54e7-47c7-84e2-5ccfe87b6377",
   "metadata": {},
   "outputs": [
    {
     "name": "stdout",
     "output_type": "stream",
     "text": [
      "['CRIM' 'ZN' 'INDUS' 'CHAS' 'NOX' 'RM' 'AGE' 'DIS' 'RAD' 'TAX' 'PTRATIO'\n",
      " 'B' 'LSTAT']\n",
      "             CRIM          ZN       INDUS        CHAS         NOX          RM  \\\n",
      "count  506.000000  506.000000  506.000000  506.000000  506.000000  506.000000   \n",
      "mean     3.613524   11.363636   11.136779    0.069170    0.554695    6.284634   \n",
      "std      8.601545   23.322453    6.860353    0.253994    0.115878    0.702617   \n",
      "min      0.006320    0.000000    0.460000    0.000000    0.385000    3.561000   \n",
      "25%      0.082045    0.000000    5.190000    0.000000    0.449000    5.885500   \n",
      "50%      0.256510    0.000000    9.690000    0.000000    0.538000    6.208500   \n",
      "75%      3.677083   12.500000   18.100000    0.000000    0.624000    6.623500   \n",
      "max     88.976200  100.000000   27.740000    1.000000    0.871000    8.780000   \n",
      "\n",
      "              AGE         DIS         RAD         TAX     PTRATIO           B  \\\n",
      "count  506.000000  506.000000  506.000000  506.000000  506.000000  506.000000   \n",
      "mean    68.574901    3.795043    9.549407  408.237154   18.455534  356.674032   \n",
      "std     28.148861    2.105710    8.707259  168.537116    2.164946   91.294864   \n",
      "min      2.900000    1.129600    1.000000  187.000000   12.600000    0.320000   \n",
      "25%     45.025000    2.100175    4.000000  279.000000   17.400000  375.377500   \n",
      "50%     77.500000    3.207450    5.000000  330.000000   19.050000  391.440000   \n",
      "75%     94.075000    5.188425   24.000000  666.000000   20.200000  396.225000   \n",
      "max    100.000000   12.126500   24.000000  711.000000   22.000000  396.900000   \n",
      "\n",
      "            LSTAT  \n",
      "count  506.000000  \n",
      "mean    12.653063  \n",
      "std      7.141062  \n",
      "min      1.730000  \n",
      "25%      6.950000  \n",
      "50%     11.360000  \n",
      "75%     16.955000  \n",
      "max     37.970000  \n",
      "        CRIM    ZN  INDUS  CHAS    NOX     RM   AGE     DIS  RAD    TAX  \\\n",
      "0    0.00632  18.0   2.31   0.0  0.538  6.575  65.2  4.0900  1.0  296.0   \n",
      "1    0.02731   0.0   7.07   0.0  0.469  6.421  78.9  4.9671  2.0  242.0   \n",
      "2    0.02729   0.0   7.07   0.0  0.469  7.185  61.1  4.9671  2.0  242.0   \n",
      "3    0.03237   0.0   2.18   0.0  0.458  6.998  45.8  6.0622  3.0  222.0   \n",
      "4    0.06905   0.0   2.18   0.0  0.458  7.147  54.2  6.0622  3.0  222.0   \n",
      "..       ...   ...    ...   ...    ...    ...   ...     ...  ...    ...   \n",
      "501  0.06263   0.0  11.93   0.0  0.573  6.593  69.1  2.4786  1.0  273.0   \n",
      "502  0.04527   0.0  11.93   0.0  0.573  6.120  76.7  2.2875  1.0  273.0   \n",
      "503  0.06076   0.0  11.93   0.0  0.573  6.976  91.0  2.1675  1.0  273.0   \n",
      "504  0.10959   0.0  11.93   0.0  0.573  6.794  89.3  2.3889  1.0  273.0   \n",
      "505  0.04741   0.0  11.93   0.0  0.573  6.030  80.8  2.5050  1.0  273.0   \n",
      "\n",
      "     PTRATIO       B  LSTAT  \n",
      "0       15.3  396.90   4.98  \n",
      "1       17.8  396.90   9.14  \n",
      "2       17.8  392.83   4.03  \n",
      "3       18.7  394.63   2.94  \n",
      "4       18.7  396.90   5.33  \n",
      "..       ...     ...    ...  \n",
      "501     21.0  391.99   9.67  \n",
      "502     21.0  396.90   9.08  \n",
      "503     21.0  396.90   5.64  \n",
      "504     21.0  393.45   6.48  \n",
      "505     21.0  396.90   7.88  \n",
      "\n",
      "[506 rows x 13 columns]\n"
     ]
    }
   ],
   "source": [
    "df=pd.DataFrame(X)#It would create 2Dtable: (Rows,Coloumn),in which X was form of numpyArray and as you know from oandas if there is no coloumn headings the by-deafult first-row becomes that \n",
    "print(boston.feature_names)#Now this would be pur coloumnHeader,repreents different types of input(features of input)\n",
    "df.columns=boston.feature_names#Now those feeaureNames are columnHeaders\n",
    "print(df.describe())#Describes dataRepresentation Heavily\n",
    "print(df)"
   ]
  },
  {
   "cell_type": "code",
   "execution_count": 36,
   "id": "676eedde-f020-4b88-8c3d-17b5231472c5",
   "metadata": {},
   "outputs": [
    {
     "data": {
      "text/plain": [
       "RangeIndex(start=0, stop=506, step=1)"
      ]
     },
     "execution_count": 36,
     "metadata": {},
     "output_type": "execute_result"
    }
   ],
   "source": [
    "df.isnull().sum()\n",
    "df.index"
   ]
  },
  {
   "cell_type": "code",
   "execution_count": 37,
   "id": "bd792a42-c5e1-4ec6-9490-30e48969014d",
   "metadata": {},
   "outputs": [
    {
     "name": "stdout",
     "output_type": "stream",
     "text": [
      "(379, 13)\n",
      "(379,)\n",
      "(127, 13)\n",
      "(127,)\n"
     ]
    }
   ],
   "source": [
    "from sklearn import model_selection\n",
    "\n",
    "X_train,X_test,Y_train,Y_test=model_selection.train_test_split(X,Y)\n",
    "\n",
    "#Sizes\n",
    "print(X_train.shape)\n",
    "print(Y_train.shape)\n",
    "print(X_test.shape)\n",
    "print(Y_test.shape)"
   ]
  },
  {
   "cell_type": "code",
   "execution_count": 38,
   "id": "7c721f6e-518f-40f9-8705-f017cc734a91",
   "metadata": {},
   "outputs": [
    {
     "name": "stdout",
     "output_type": "stream",
     "text": [
      "379\n",
      "(13,)\n",
      "[[1.0008e-01 0.0000e+00 2.4600e+00 ... 1.7800e+01 3.9690e+02 5.6800e+00]\n",
      " [5.4970e-02 0.0000e+00 5.1900e+00 ... 2.0200e+01 3.9690e+02 9.7400e+00]\n",
      " [1.0574e-01 0.0000e+00 2.7740e+01 ... 2.0100e+01 3.9011e+02 1.8070e+01]\n",
      " ...\n",
      " [1.9802e-01 0.0000e+00 1.0590e+01 ... 1.8600e+01 3.9363e+02 9.4700e+00]\n",
      " [6.4660e-02 7.0000e+01 2.2400e+00 ... 1.4800e+01 3.6824e+02 4.9700e+00]\n",
      " [1.5445e-01 2.5000e+01 5.1300e+00 ... 1.9700e+01 3.9068e+02 6.8600e+00]]\n"
     ]
    }
   ],
   "source": [
    "print(len(X_train))\n",
    "print(X_train[0][:].shape)\n",
    "print(X_train)"
   ]
  },
  {
   "cell_type": "markdown",
   "id": "9534cf09-3c0a-4cfa-b93f-7556e5b35307",
   "metadata": {},
   "source": [
    "# GradientDescent-Parameters:\n",
    "### 1)Data-TrainingData & TestingData\n",
    "### 2)Learning_Rate(alpha)\n",
    "### 3)Number_Of_Iterations\n",
    "### 4)INstead of m and c ,Passed m-array for m in each row including c at last"
   ]
  },
  {
   "cell_type": "code",
   "execution_count": 39,
   "id": "eee1c04e-0359-4c60-b140-05b598094d41",
   "metadata": {},
   "outputs": [],
   "source": [
    "# Here in multi-variable , we would pass the all m in array-formate including c inside it at last  \n",
    "\n",
    "#Defining function which would calculate new m and c for a single step\n",
    "def step_gradient(X_train,Y_train,learning_rate,m,c):\n",
    "    # m=np.array([0 for i in range(13)])\n",
    "    m_slope=[0 for i in range(13)]\n",
    "    c_slope=0\n",
    "    M=len(X_train)\n",
    "    # x=np.array([1 for i in range(13)])\n",
    "    # print(x.shape, m.shape,X_train[0][:].shape)\n",
    "\n",
    "    for i in range(M):\n",
    "        y=Y_train[i]\n",
    "        # it will copy all 13 element from X_train and also put 1 at the end that is at 14th element\n",
    "        # x=np.appened(X_train[i][:],1)\n",
    "        x = X_train[i][:] \n",
    "        # print(x.shape)\n",
    "        for j in range(13):\n",
    "            m_slope[j]+=(-2/M)*(y-np.dot(m,x)-c)*x[j]\n",
    "        c_slope+=(-2/M)*(y-np.dot(m,x)-c)\n",
    "\n",
    "    new_m=[m[i]-learning_rate*m_slope[i] for i in range(13)]\n",
    "    new_c=c-learning_rate*c_slope\n",
    "    return (new_m,new_c)"
   ]
  },
  {
   "cell_type": "code",
   "execution_count": 40,
   "id": "e95ca3b3-bd33-4319-9f08-e3f5aa8f9be3",
   "metadata": {},
   "outputs": [],
   "source": [
    "#Defining GradientDescent-function as gd\n",
    "def gd(X_train,Y_train,learning_rate,num_iterations):      \n",
    "    #At first we should have random values of m and c\n",
    "    m=[0 for i in range(13)]\n",
    "    c=0\n",
    "    for i in range(num_iterations):#We should update these m,c values for number iteration times\n",
    "        m,c=step_gradient(X_train,Y_train,learning_rate,m,c) #Another function made which would calculate sinleStep-GradientDescent\n",
    "        current_cost = cost(X_train, Y_train, m, c)  # Calculate cost for current parameters\n",
    "        print(f\"Iteration {i+1}, Cost: {current_cost}\")\n",
    "    return (m,c)"
   ]
  },
  {
   "cell_type": "code",
   "execution_count": 41,
   "id": "3b91b1b6-6f80-448a-9209-ea9036f2b9d0",
   "metadata": {},
   "outputs": [],
   "source": [
    "#Defining costFunction which could return the instantenousCost function\n",
    "def cost(X_train,Y_train,m,c):\n",
    "    total_cost=0\n",
    "    cost=0\n",
    "    M=len(X_train)\n",
    "    for i in range(M):\n",
    "        y=Y_train[i]\n",
    "        x=X_train[i][:]\n",
    "        cost+=((y-m*x-c)**2)\n",
    "    total_cost=1/M*(np.sum(cost))\n",
    "    return total_cost"
   ]
  },
  {
   "cell_type": "code",
   "execution_count": 42,
   "id": "33c97205-3763-4092-9c59-5dabdcf514a8",
   "metadata": {},
   "outputs": [],
   "source": [
    "#Defined a function where the resepctive parameters are passed and called GradoentFunction as \"gd\" \n",
    "def run():\n",
    "    learning_rate=0.00001\n",
    "    num_iterations=100\n",
    "    m,c=gd(X_train,Y_train,learning_rate,num_iterations)\n",
    "    print(m,c)\n",
    "    return m,c\n"
   ]
  },
  {
   "cell_type": "code",
   "execution_count": 43,
   "id": "19653b50-caea-4f69-94bc-aa52e8ca54d5",
   "metadata": {},
   "outputs": [
    {
     "name": "stdout",
     "output_type": "stream",
     "text": [
      "Iteration 1, Cost: 11107.3719325161\n",
      "Iteration 2, Cost: 205083.59206123117\n",
      "Iteration 3, Cost: 5059310.3485364355\n",
      "Iteration 4, Cost: 142738598.32183084\n",
      "Iteration 5, Cost: 3950564431.6569023\n",
      "Iteration 6, Cost: 109773255092.84193\n",
      "Iteration 7, Cost: 3047961828294.636\n",
      "Iteration 8, Cost: 84641712668279.39\n",
      "Iteration 9, Cost: 2350431455331855.0\n",
      "Iteration 10, Cost: 6.526990411437506e+16\n",
      "Iteration 11, Cost: 1.8124996622409907e+18\n",
      "Iteration 12, Cost: 5.033185937214918e+19\n",
      "Iteration 13, Cost: 1.3976808004084263e+21\n",
      "Iteration 14, Cost: 3.8812625983852075e+22\n",
      "Iteration 15, Cost: 1.0777996903242514e+24\n",
      "Iteration 16, Cost: 2.99297494899174e+25\n",
      "Iteration 17, Cost: 8.311283743446015e+26\n",
      "Iteration 18, Cost: 2.3079858215298094e+28\n",
      "Iteration 19, Cost: 6.409116469612058e+29\n",
      "Iteration 20, Cost: 1.7797671691864284e+31\n",
      "Iteration 21, Cost: 4.942289926438846e+32\n",
      "Iteration 22, Cost: 1.3724396168148709e+34\n",
      "Iteration 23, Cost: 3.8111695789570304e+35\n",
      "Iteration 24, Cost: 1.0583353454395915e+37\n",
      "Iteration 25, Cost: 2.9389238138106277e+38\n",
      "Iteration 26, Cost: 8.161187491848883e+39\n",
      "Iteration 27, Cost: 2.2663051340126574e+41\n",
      "Iteration 28, Cost: 6.293372092703339e+42\n",
      "Iteration 29, Cost: 1.747625758897303e+44\n",
      "Iteration 30, Cost: 4.8530354604369605e+45\n",
      "Iteration 31, Cost: 1.3476542709646911e+47\n",
      "Iteration 32, Cost: 3.742342393446765e+48\n",
      "Iteration 33, Cost: 1.0392225136320496e+50\n",
      "Iteration 34, Cost: 2.885848806167171e+51\n",
      "Iteration 35, Cost: 8.013801878627464e+52\n",
      "Iteration 36, Cost: 2.2253771719658407e+54\n",
      "Iteration 37, Cost: 6.179717982190585e+55\n",
      "Iteration 38, Cost: 1.716064801081549e+57\n",
      "Iteration 39, Cost: 4.7653928706745815e+58\n",
      "Iteration 40, Cost: 1.3233165319610144e+60\n",
      "Iteration 41, Cost: 3.6747581810887384e+61\n",
      "Iteration 42, Cost: 1.0204548468435848e+63\n",
      "Iteration 43, Cost: 2.8337322978298483e+64\n",
      "Iteration 44, Cost: 7.869077951466556e+65\n",
      "Iteration 45, Cost: 2.185188341667946e+67\n",
      "Iteration 46, Cost: 6.068116389254468e+68\n",
      "Iteration 47, Cost: 1.6850738131539073e+70\n",
      "Iteration 48, Cost: 4.679333047739882e+71\n",
      "Iteration 49, Cost: 1.299418316322187e+73\n",
      "Iteration 50, Cost: 3.608394494615284e+74\n",
      "Iteration 51, Cost: 1.0020261116237373e+76\n",
      "Iteration 52, Cost: 2.7825569789392917e+77\n",
      "Iteration 53, Cost: 7.726967642087884e+78\n",
      "Iteration 54, Cost: 2.1457252948916448e+80\n",
      "Iteration 55, Cost: 5.958530246793876e+81\n",
      "Iteration 56, Cost: 1.6546425018376092e+83\n",
      "Iteration 57, Cost: 4.594827407917558e+84\n",
      "Iteration 58, Cost: 1.2759516865488116e+86\n",
      "Iteration 59, Cost: 3.5432292921413915e+87\n",
      "Iteration 60, Cost: 9.839301870939967e+88\n",
      "Iteration 61, Cost: 2.732305852240604e+90\n",
      "Iteration 62, Cost: 7.587423750294057e+91\n",
      "Iteration 63, Cost: 2.1069749244696584e+93\n",
      "Iteration 64, Cost: 5.850923157114881e+94\n",
      "Iteration 65, Cost: 1.624760759745643e+96\n",
      "Iteration 66, Cost: 4.511847883695249e+97\n",
      "Iteration 67, Cost: 1.2529088484874632e+99\n",
      "Iteration 68, Cost: 3.4792409298438414e+100\n",
      "Iteration 69, Cost: 9.66161062914848e+101\n",
      "Iteration 70, Cost: 2.6829622274380503e+103\n",
      "Iteration 71, Cost: 7.450399928292049e+104\n",
      "Iteration 72, Cost: 2.0689243599414753e+106\n",
      "Iteration 73, Cost: 5.7452593798417864e+107\n",
      "Iteration 74, Cost: 1.5954186620236613e+109\n",
      "Iteration 75, Cost: 4.43036691444114e+110\n",
      "Iteration 76, Cost: 1.2302821487419523e+112\n",
      "Iteration 77, Cost: 3.416408154772533e+113\n",
      "Iteration 78, Cost: 9.487128372895201e+114\n",
      "Iteration 79, Cost: 2.6345097156515178e+116\n",
      "Iteration 80, Cost: 7.315850665299017e+117\n",
      "Iteration 81, Cost: 2.031560963278514e+119\n",
      "Iteration 82, Cost: 5.641503820046104e+120\n",
      "Iteration 83, Cost: 1.5666064630535772e+122\n",
      "Iteration 84, Cost: 4.3503574372501025e+123\n",
      "Iteration 85, Cost: 1.2080640721313042e+125\n",
      "Iteration 86, Cost: 3.354710097791379e+126\n",
      "Iteration 87, Cost: 9.315797150037418e+127\n",
      "Iteration 88, Cost: 2.586932223973133e+129\n",
      "Iteration 89, Cost: 7.18373127242651e+130\n",
      "Iteration 90, Cost: 1.9948723246865608e+132\n",
      "Iteration 91, Cost: 5.539622016590508e+133\n",
      "Iteration 92, Cost: 1.5383145932166805e+135\n",
      "Iteration 93, Cost: 4.2717928779550125e+136\n",
      "Iteration 94, Cost: 1.1862472391937315e+138\n",
      "Iteration 95, Cost: 3.294126266647073e+139\n",
      "Iteration 96, Cost: 9.147560055009725e+140\n",
      "Iteration 97, Cost: 2.5402139501222396e+142\n",
      "Iteration 98, Cost: 7.053997867837746e+143\n",
      "Iteration 99, Cost: 1.958846258484051e+145\n",
      "Iteration 100, Cost: 5.439580130682883e+146\n",
      "[-4.3033149379416507e+68, -9.905293104606098e+68, -1.1871275319033658e+69, -7.11824915392459e+66, -5.653661965179636e+67, -6.159947676877954e+68, -7.05492212616189e+69, -3.5534891821389815e+68, -1.10153532040972e+69, -4.375124395954499e+70, -1.8495995491179683e+69, -3.55369405839322e+70, -1.322083525488561e+69] -9.928369191372186e+67\n"
     ]
    }
   ],
   "source": [
    "m,c=run()"
   ]
  }
 ],
 "metadata": {
  "kernelspec": {
   "display_name": "Python 3 (ipykernel)",
   "language": "python",
   "name": "python3"
  },
  "language_info": {
   "codemirror_mode": {
    "name": "ipython",
    "version": 3
   },
   "file_extension": ".py",
   "mimetype": "text/x-python",
   "name": "python",
   "nbconvert_exporter": "python",
   "pygments_lexer": "ipython3",
   "version": "3.10.9"
  }
 },
 "nbformat": 4,
 "nbformat_minor": 5
}
