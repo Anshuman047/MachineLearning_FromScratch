{
 "cells": [
  {
   "cell_type": "markdown",
   "id": "01ffa21b-02c1-4c27-b05b-cd187b76089f",
   "metadata": {},
   "source": [
    "# Implementing Multi-variable in it and checking the result"
   ]
  },
  {
   "cell_type": "markdown",
   "id": "79776768-c993-4bcb-8f0b-ba05b071a26b",
   "metadata": {},
   "source": [
    "## Loading Boston_datasets from sklearn modele datasets\n",
    "* For using boston_dataets , I had to degrade scikit-learn version to 1.1.3"
   ]
  },
  {
   "cell_type": "code",
   "execution_count": 3,
   "id": "f51c6512-c81a-432c-91f4-07b33e6d3432",
   "metadata": {},
   "outputs": [],
   "source": [
    "from sklearn import datasets\n",
    "#imported datasets from sklearn module"
   ]
  },
  {
   "cell_type": "code",
   "execution_count": 4,
   "id": "a39762b1-54b8-4e1b-82cd-f3933b48bec5",
   "metadata": {},
   "outputs": [
    {
     "name": "stdout",
     "output_type": "stream",
     "text": [
      "<class 'sklearn.utils._bunch.Bunch'>\n",
      "{'data': array([[6.3200e-03, 1.8000e+01, 2.3100e+00, ..., 1.5300e+01, 3.9690e+02,\n",
      "        4.9800e+00],\n",
      "       [2.7310e-02, 0.0000e+00, 7.0700e+00, ..., 1.7800e+01, 3.9690e+02,\n",
      "        9.1400e+00],\n",
      "       [2.7290e-02, 0.0000e+00, 7.0700e+00, ..., 1.7800e+01, 3.9283e+02,\n",
      "        4.0300e+00],\n",
      "       ...,\n",
      "       [6.0760e-02, 0.0000e+00, 1.1930e+01, ..., 2.1000e+01, 3.9690e+02,\n",
      "        5.6400e+00],\n",
      "       [1.0959e-01, 0.0000e+00, 1.1930e+01, ..., 2.1000e+01, 3.9345e+02,\n",
      "        6.4800e+00],\n",
      "       [4.7410e-02, 0.0000e+00, 1.1930e+01, ..., 2.1000e+01, 3.9690e+02,\n",
      "        7.8800e+00]]), 'target': array([24. , 21.6, 34.7, 33.4, 36.2, 28.7, 22.9, 27.1, 16.5, 18.9, 15. ,\n",
      "       18.9, 21.7, 20.4, 18.2, 19.9, 23.1, 17.5, 20.2, 18.2, 13.6, 19.6,\n",
      "       15.2, 14.5, 15.6, 13.9, 16.6, 14.8, 18.4, 21. , 12.7, 14.5, 13.2,\n",
      "       13.1, 13.5, 18.9, 20. , 21. , 24.7, 30.8, 34.9, 26.6, 25.3, 24.7,\n",
      "       21.2, 19.3, 20. , 16.6, 14.4, 19.4, 19.7, 20.5, 25. , 23.4, 18.9,\n",
      "       35.4, 24.7, 31.6, 23.3, 19.6, 18.7, 16. , 22.2, 25. , 33. , 23.5,\n",
      "       19.4, 22. , 17.4, 20.9, 24.2, 21.7, 22.8, 23.4, 24.1, 21.4, 20. ,\n",
      "       20.8, 21.2, 20.3, 28. , 23.9, 24.8, 22.9, 23.9, 26.6, 22.5, 22.2,\n",
      "       23.6, 28.7, 22.6, 22. , 22.9, 25. , 20.6, 28.4, 21.4, 38.7, 43.8,\n",
      "       33.2, 27.5, 26.5, 18.6, 19.3, 20.1, 19.5, 19.5, 20.4, 19.8, 19.4,\n",
      "       21.7, 22.8, 18.8, 18.7, 18.5, 18.3, 21.2, 19.2, 20.4, 19.3, 22. ,\n",
      "       20.3, 20.5, 17.3, 18.8, 21.4, 15.7, 16.2, 18. , 14.3, 19.2, 19.6,\n",
      "       23. , 18.4, 15.6, 18.1, 17.4, 17.1, 13.3, 17.8, 14. , 14.4, 13.4,\n",
      "       15.6, 11.8, 13.8, 15.6, 14.6, 17.8, 15.4, 21.5, 19.6, 15.3, 19.4,\n",
      "       17. , 15.6, 13.1, 41.3, 24.3, 23.3, 27. , 50. , 50. , 50. , 22.7,\n",
      "       25. , 50. , 23.8, 23.8, 22.3, 17.4, 19.1, 23.1, 23.6, 22.6, 29.4,\n",
      "       23.2, 24.6, 29.9, 37.2, 39.8, 36.2, 37.9, 32.5, 26.4, 29.6, 50. ,\n",
      "       32. , 29.8, 34.9, 37. , 30.5, 36.4, 31.1, 29.1, 50. , 33.3, 30.3,\n",
      "       34.6, 34.9, 32.9, 24.1, 42.3, 48.5, 50. , 22.6, 24.4, 22.5, 24.4,\n",
      "       20. , 21.7, 19.3, 22.4, 28.1, 23.7, 25. , 23.3, 28.7, 21.5, 23. ,\n",
      "       26.7, 21.7, 27.5, 30.1, 44.8, 50. , 37.6, 31.6, 46.7, 31.5, 24.3,\n",
      "       31.7, 41.7, 48.3, 29. , 24. , 25.1, 31.5, 23.7, 23.3, 22. , 20.1,\n",
      "       22.2, 23.7, 17.6, 18.5, 24.3, 20.5, 24.5, 26.2, 24.4, 24.8, 29.6,\n",
      "       42.8, 21.9, 20.9, 44. , 50. , 36. , 30.1, 33.8, 43.1, 48.8, 31. ,\n",
      "       36.5, 22.8, 30.7, 50. , 43.5, 20.7, 21.1, 25.2, 24.4, 35.2, 32.4,\n",
      "       32. , 33.2, 33.1, 29.1, 35.1, 45.4, 35.4, 46. , 50. , 32.2, 22. ,\n",
      "       20.1, 23.2, 22.3, 24.8, 28.5, 37.3, 27.9, 23.9, 21.7, 28.6, 27.1,\n",
      "       20.3, 22.5, 29. , 24.8, 22. , 26.4, 33.1, 36.1, 28.4, 33.4, 28.2,\n",
      "       22.8, 20.3, 16.1, 22.1, 19.4, 21.6, 23.8, 16.2, 17.8, 19.8, 23.1,\n",
      "       21. , 23.8, 23.1, 20.4, 18.5, 25. , 24.6, 23. , 22.2, 19.3, 22.6,\n",
      "       19.8, 17.1, 19.4, 22.2, 20.7, 21.1, 19.5, 18.5, 20.6, 19. , 18.7,\n",
      "       32.7, 16.5, 23.9, 31.2, 17.5, 17.2, 23.1, 24.5, 26.6, 22.9, 24.1,\n",
      "       18.6, 30.1, 18.2, 20.6, 17.8, 21.7, 22.7, 22.6, 25. , 19.9, 20.8,\n",
      "       16.8, 21.9, 27.5, 21.9, 23.1, 50. , 50. , 50. , 50. , 50. , 13.8,\n",
      "       13.8, 15. , 13.9, 13.3, 13.1, 10.2, 10.4, 10.9, 11.3, 12.3,  8.8,\n",
      "        7.2, 10.5,  7.4, 10.2, 11.5, 15.1, 23.2,  9.7, 13.8, 12.7, 13.1,\n",
      "       12.5,  8.5,  5. ,  6.3,  5.6,  7.2, 12.1,  8.3,  8.5,  5. , 11.9,\n",
      "       27.9, 17.2, 27.5, 15. , 17.2, 17.9, 16.3,  7. ,  7.2,  7.5, 10.4,\n",
      "        8.8,  8.4, 16.7, 14.2, 20.8, 13.4, 11.7,  8.3, 10.2, 10.9, 11. ,\n",
      "        9.5, 14.5, 14.1, 16.1, 14.3, 11.7, 13.4,  9.6,  8.7,  8.4, 12.8,\n",
      "       10.5, 17.1, 18.4, 15.4, 10.8, 11.8, 14.9, 12.6, 14.1, 13. , 13.4,\n",
      "       15.2, 16.1, 17.8, 14.9, 14.1, 12.7, 13.5, 14.9, 20. , 16.4, 17.7,\n",
      "       19.5, 20.2, 21.4, 19.9, 19. , 19.1, 19.1, 20.1, 19.9, 19.6, 23.2,\n",
      "       29.8, 13.8, 13.3, 16.7, 12. , 14.6, 21.4, 23. , 23.7, 25. , 21.8,\n",
      "       20.6, 21.2, 19.1, 20.6, 15.2,  7. ,  8.1, 13.6, 20.1, 21.8, 24.5,\n",
      "       23.1, 19.7, 18.3, 21.2, 17.5, 16.8, 22.4, 20.6, 23.9, 22. , 11.9]), 'feature_names': array(['CRIM', 'ZN', 'INDUS', 'CHAS', 'NOX', 'RM', 'AGE', 'DIS', 'RAD',\n",
      "       'TAX', 'PTRATIO', 'B', 'LSTAT'], dtype='<U7'), 'DESCR': \".. _boston_dataset:\\n\\nBoston house prices dataset\\n---------------------------\\n\\n**Data Set Characteristics:**  \\n\\n    :Number of Instances: 506 \\n\\n    :Number of Attributes: 13 numeric/categorical predictive. Median Value (attribute 14) is usually the target.\\n\\n    :Attribute Information (in order):\\n        - CRIM     per capita crime rate by town\\n        - ZN       proportion of residential land zoned for lots over 25,000 sq.ft.\\n        - INDUS    proportion of non-retail business acres per town\\n        - CHAS     Charles River dummy variable (= 1 if tract bounds river; 0 otherwise)\\n        - NOX      nitric oxides concentration (parts per 10 million)\\n        - RM       average number of rooms per dwelling\\n        - AGE      proportion of owner-occupied units built prior to 1940\\n        - DIS      weighted distances to five Boston employment centres\\n        - RAD      index of accessibility to radial highways\\n        - TAX      full-value property-tax rate per $10,000\\n        - PTRATIO  pupil-teacher ratio by town\\n        - B        1000(Bk - 0.63)^2 where Bk is the proportion of black people by town\\n        - LSTAT    % lower status of the population\\n        - MEDV     Median value of owner-occupied homes in $1000's\\n\\n    :Missing Attribute Values: None\\n\\n    :Creator: Harrison, D. and Rubinfeld, D.L.\\n\\nThis is a copy of UCI ML housing dataset.\\nhttps://archive.ics.uci.edu/ml/machine-learning-databases/housing/\\n\\n\\nThis dataset was taken from the StatLib library which is maintained at Carnegie Mellon University.\\n\\nThe Boston house-price data of Harrison, D. and Rubinfeld, D.L. 'Hedonic\\nprices and the demand for clean air', J. Environ. Economics & Management,\\nvol.5, 81-102, 1978.   Used in Belsley, Kuh & Welsch, 'Regression diagnostics\\n...', Wiley, 1980.   N.B. Various transformations are used in the table on\\npages 244-261 of the latter.\\n\\nThe Boston house-price data has been used in many machine learning papers that address regression\\nproblems.   \\n     \\n.. topic:: References\\n\\n   - Belsley, Kuh & Welsch, 'Regression diagnostics: Identifying Influential Data and Sources of Collinearity', Wiley, 1980. 244-261.\\n   - Quinlan,R. (1993). Combining Instance-Based and Model-Based Learning. In Proceedings on the Tenth International Conference of Machine Learning, 236-243, University of Massachusetts, Amherst. Morgan Kaufmann.\\n\", 'filename': 'boston_house_prices.csv', 'data_module': 'sklearn.datasets.data'}\n"
     ]
    },
    {
     "name": "stderr",
     "output_type": "stream",
     "text": [
      "C:\\Users\\KIIT\\anaconda3\\lib\\site-packages\\sklearn\\utils\\deprecation.py:87: FutureWarning: Function load_boston is deprecated; `load_boston` is deprecated in 1.0 and will be removed in 1.2.\n",
      "\n",
      "    The Boston housing prices dataset has an ethical problem. You can refer to\n",
      "    the documentation of this function for further details.\n",
      "\n",
      "    The scikit-learn maintainers therefore strongly discourage the use of this\n",
      "    dataset unless the purpose of the code is to study and educate about\n",
      "    ethical issues in data science and machine learning.\n",
      "\n",
      "    In this special case, you can fetch the dataset from the original\n",
      "    source::\n",
      "\n",
      "        import pandas as pd\n",
      "        import numpy as np\n",
      "\n",
      "        data_url = \"http://lib.stat.cmu.edu/datasets/boston\"\n",
      "        raw_df = pd.read_csv(data_url, sep=\"\\s+\", skiprows=22, header=None)\n",
      "        data = np.hstack([raw_df.values[::2, :], raw_df.values[1::2, :2]])\n",
      "        target = raw_df.values[1::2, 2]\n",
      "\n",
      "    Alternative datasets include the California housing dataset (i.e.\n",
      "    :func:`~sklearn.datasets.fetch_california_housing`) and the Ames housing\n",
      "    dataset. You can load the datasets as follows::\n",
      "\n",
      "        from sklearn.datasets import fetch_california_housing\n",
      "        housing = fetch_california_housing()\n",
      "\n",
      "    for the California housing dataset and::\n",
      "\n",
      "        from sklearn.datasets import fetch_openml\n",
      "        housing = fetch_openml(name=\"house_prices\", as_frame=True)\n",
      "\n",
      "    for the Ames housing dataset.\n",
      "  warnings.warn(msg, category=FutureWarning)\n"
     ]
    }
   ],
   "source": [
    "#Then from that datasets, loaded boston datasets to data var\n",
    "boston=datasets.load_boston()\n",
    "print(type(boston))\n",
    "print(boston)#It has featurName,data,target(output),Description releated to Boston_housing_Datasets\n"
   ]
  },
  {
   "cell_type": "code",
   "execution_count": 5,
   "id": "96bc3ad0-a5f6-410e-9eac-952d93e69e83",
   "metadata": {},
   "outputs": [
    {
     "name": "stdout",
     "output_type": "stream",
     "text": [
      "<class 'numpy.ndarray'>\n",
      "(506, 13)\n",
      "<class 'numpy.ndarray'>\n",
      "(506,)\n"
     ]
    }
   ],
   "source": [
    "X=boston.data\n",
    "Y=boston.target\n",
    "print(type(X))#It is in numpyArray formate\n",
    "print(X.shape)#It has 506 are dataPoints and each dataPoints has 13 features\n",
    "print(type(Y))#It is in numpyArray formate\n",
    "print(Y.shape)#And it has the outputs of those 506 dataPoints"
   ]
  },
  {
   "cell_type": "code",
   "execution_count": 36,
   "id": "44391688-42b4-439d-9294-25d430d42952",
   "metadata": {},
   "outputs": [
    {
     "name": "stdout",
     "output_type": "stream",
     "text": [
      "['CRIM' 'ZN' 'INDUS' 'CHAS' 'NOX' 'RM' 'AGE' 'DIS' 'RAD' 'TAX' 'PTRATIO'\n",
      " 'B' 'LSTAT']\n",
      "             CRIM          ZN       INDUS        CHAS         NOX          RM  \\\n",
      "count  506.000000  506.000000  506.000000  506.000000  506.000000  506.000000   \n",
      "mean     3.613524   11.363636   11.136779    0.069170    0.554695    6.284634   \n",
      "std      8.601545   23.322453    6.860353    0.253994    0.115878    0.702617   \n",
      "min      0.006320    0.000000    0.460000    0.000000    0.385000    3.561000   \n",
      "25%      0.082045    0.000000    5.190000    0.000000    0.449000    5.885500   \n",
      "50%      0.256510    0.000000    9.690000    0.000000    0.538000    6.208500   \n",
      "75%      3.677083   12.500000   18.100000    0.000000    0.624000    6.623500   \n",
      "max     88.976200  100.000000   27.740000    1.000000    0.871000    8.780000   \n",
      "\n",
      "              AGE         DIS         RAD         TAX     PTRATIO           B  \\\n",
      "count  506.000000  506.000000  506.000000  506.000000  506.000000  506.000000   \n",
      "mean    68.574901    3.795043    9.549407  408.237154   18.455534  356.674032   \n",
      "std     28.148861    2.105710    8.707259  168.537116    2.164946   91.294864   \n",
      "min      2.900000    1.129600    1.000000  187.000000   12.600000    0.320000   \n",
      "25%     45.025000    2.100175    4.000000  279.000000   17.400000  375.377500   \n",
      "50%     77.500000    3.207450    5.000000  330.000000   19.050000  391.440000   \n",
      "75%     94.075000    5.188425   24.000000  666.000000   20.200000  396.225000   \n",
      "max    100.000000   12.126500   24.000000  711.000000   22.000000  396.900000   \n",
      "\n",
      "            LSTAT       AGE_AGE  \n",
      "count  506.000000    506.000000  \n",
      "mean    12.653063   5493.309545  \n",
      "std      7.141062   3449.600164  \n",
      "min      1.730000      8.410000  \n",
      "25%      6.950000   2027.252500  \n",
      "50%     11.360000   6006.290000  \n",
      "75%     16.955000   8850.107500  \n",
      "max     37.970000  10000.000000  \n",
      "(506, 13)\n",
      "(506, 14)\n"
     ]
    }
   ],
   "source": [
    "import pandas as pd\n",
    "df=pd.DataFrame(X)#It would create 2Dtable: (Rows,Coloumn),in which X was form of numpyArray and as you know from oandas if there is no coloumn headings the by-deafult first-row becomes that \n",
    "print(boston.feature_names)#Now this would be pur coloumnHeader,repreents different types of input(features of input)\n",
    "df.columns=boston.feature_names#Now those feeaureNames are columnHeaders\n",
    "df[\"AGE_AGE\"]=df.AGE**2 ## Added new coloumn in dataframe for checking the multi_variabeliability\n",
    "print(df.describe())#Describes dataRepresentation Heavily\n",
    "\n",
    "## But the original featureDataset-X doesnot has the added AGE_AGE-feature in it ,which would be used in training as dataframe doesnot use in training and testing, so lets add a new feature-daatset:\n",
    "X2=df.values\n",
    "type(X2) ## The values of updated-dataframe transferred to X2, in which the values by-default are in numpy-array\n",
    "print(X.shape)\n",
    "print(X2.shape) ## Has one extra colounm as bcz we added one extra-feature\n"
   ]
  },
  {
   "cell_type": "code",
   "execution_count": 8,
   "id": "c8f7747e-1783-44f7-a307-009a0bc1cb20",
   "metadata": {},
   "outputs": [
    {
     "data": {
      "text/plain": [
       "\".. _boston_dataset:\\n\\nBoston house prices dataset\\n---------------------------\\n\\n**Data Set Characteristics:**  \\n\\n    :Number of Instances: 506 \\n\\n    :Number of Attributes: 13 numeric/categorical predictive. Median Value (attribute 14) is usually the target.\\n\\n    :Attribute Information (in order):\\n        - CRIM     per capita crime rate by town\\n        - ZN       proportion of residential land zoned for lots over 25,000 sq.ft.\\n        - INDUS    proportion of non-retail business acres per town\\n        - CHAS     Charles River dummy variable (= 1 if tract bounds river; 0 otherwise)\\n        - NOX      nitric oxides concentration (parts per 10 million)\\n        - RM       average number of rooms per dwelling\\n        - AGE      proportion of owner-occupied units built prior to 1940\\n        - DIS      weighted distances to five Boston employment centres\\n        - RAD      index of accessibility to radial highways\\n        - TAX      full-value property-tax rate per $10,000\\n        - PTRATIO  pupil-teacher ratio by town\\n        - B        1000(Bk - 0.63)^2 where Bk is the proportion of black people by town\\n        - LSTAT    % lower status of the population\\n        - MEDV     Median value of owner-occupied homes in $1000's\\n\\n    :Missing Attribute Values: None\\n\\n    :Creator: Harrison, D. and Rubinfeld, D.L.\\n\\nThis is a copy of UCI ML housing dataset.\\nhttps://archive.ics.uci.edu/ml/machine-learning-databases/housing/\\n\\n\\nThis dataset was taken from the StatLib library which is maintained at Carnegie Mellon University.\\n\\nThe Boston house-price data of Harrison, D. and Rubinfeld, D.L. 'Hedonic\\nprices and the demand for clean air', J. Environ. Economics & Management,\\nvol.5, 81-102, 1978.   Used in Belsley, Kuh & Welsch, 'Regression diagnostics\\n...', Wiley, 1980.   N.B. Various transformations are used in the table on\\npages 244-261 of the latter.\\n\\nThe Boston house-price data has been used in many machine learning papers that address regression\\nproblems.   \\n     \\n.. topic:: References\\n\\n   - Belsley, Kuh & Welsch, 'Regression diagnostics: Identifying Influential Data and Sources of Collinearity', Wiley, 1980. 244-261.\\n   - Quinlan,R. (1993). Combining Instance-Based and Model-Based Learning. In Proceedings on the Tenth International Conference of Machine Learning, 236-243, University of Massachusetts, Amherst. Morgan Kaufmann.\\n\""
      ]
     },
     "execution_count": 8,
     "metadata": {},
     "output_type": "execute_result"
    }
   ],
   "source": [
    "boston.DESCR#It is in datasets and it describes all the feaureNames and impInfo\n",
    "#Spent time on this data and research if the how important those columnHeader are,what they needs to have etc...\n",
    "\n"
   ]
  },
  {
   "cell_type": "markdown",
   "id": "0aede613-73b3-4905-83b9-27cf3981e12a",
   "metadata": {},
   "source": [
    "## Now we have to get our training and testing data(X,Y), for that we have take some portion as Testing and rest would be for training \n",
    "## But make sure that testing data would be picked from random portion so that the model couldnot able to find the relation between the testingData and trainingData"
   ]
  },
  {
   "cell_type": "code",
   "execution_count": 41,
   "id": "65d7b984-2dda-4a5a-9c34-f125561ddb54",
   "metadata": {},
   "outputs": [
    {
     "name": "stdout",
     "output_type": "stream",
     "text": [
      "(379, 13)\n",
      "(379,)\n",
      "(127, 13)\n",
      "(127,)\n",
      "\n",
      "(379, 14)\n",
      "(379,)\n",
      "(127, 14)\n",
      "(127,)\n"
     ]
    }
   ],
   "source": [
    "# For random selection,sklearn provides a function using which we split the data into 2parts\n",
    "# For that we have to import that module\n",
    "from sklearn import model_selection\n",
    "\n",
    "## Here we need to split the data for X and X2 in same way for better understanding of multivariable as when multivariable is there what happend\n",
    "## and not there what happened on the same splitted data ,as model selecetion always split randomly\n",
    "## therefore in model_selection we could pass thirdArgument that is \"random_state=digit\"\n",
    "## It denotes a digit to that respective split took place and that split can be used further as we have digit denoting that split\n",
    "\n",
    "##From module , we got that function,which will make 25% for test, you can change the persentage passing some argumnet\n",
    "X_train,X_test,Y_train,Y_test=model_selection.train_test_split(X,Y,random_state=0) #Passed our numpyArray-Data \n",
    "#By default we will get the data in above sequence\n",
    "\n",
    "\n",
    "print()\n",
    "\n",
    "## Lets split the updated X2 feature datasets:\n",
    "X2_train,X2_test,Y2_train,Y2_test=model_selection.train_test_split(X2,Y,random_state=0)#Here we are using the same split used in above splitting for getting same datasets so we could see the effect of mutivariable \n",
    "#Sizes\n",
    "print(X2_train.shape)\n",
    "print(Y2_train.shape)\n",
    "print(X2_test.shape)\n",
    "print(Y2_test.shape)\n"
   ]
  },
  {
   "cell_type": "markdown",
   "id": "ffc72cd9-c89d-42e2-92f3-43a548eb0408",
   "metadata": {},
   "source": [
    "## Now we have to import the algorithm from sklearn"
   ]
  },
  {
   "cell_type": "code",
   "execution_count": 42,
   "id": "d048e383-0663-49b8-91d5-3084fbce0a57",
   "metadata": {},
   "outputs": [],
   "source": [
    "from sklearn.linear_model import LinearRegression\n",
    "alg1=LinearRegression() #Now we got our Linearregression algorithm\n",
    "alg2=LinearRegression()"
   ]
  },
  {
   "cell_type": "code",
   "execution_count": 43,
   "id": "4d7f66a6-a420-4770-b9df-0c7b19b7ce97",
   "metadata": {},
   "outputs": [
    {
     "data": {
      "text/html": [
       "<style>#sk-container-id-1 {color: black;background-color: white;}#sk-container-id-1 pre{padding: 0;}#sk-container-id-1 div.sk-toggleable {background-color: white;}#sk-container-id-1 label.sk-toggleable__label {cursor: pointer;display: block;width: 100%;margin-bottom: 0;padding: 0.3em;box-sizing: border-box;text-align: center;}#sk-container-id-1 label.sk-toggleable__label-arrow:before {content: \"▸\";float: left;margin-right: 0.25em;color: #696969;}#sk-container-id-1 label.sk-toggleable__label-arrow:hover:before {color: black;}#sk-container-id-1 div.sk-estimator:hover label.sk-toggleable__label-arrow:before {color: black;}#sk-container-id-1 div.sk-toggleable__content {max-height: 0;max-width: 0;overflow: hidden;text-align: left;background-color: #f0f8ff;}#sk-container-id-1 div.sk-toggleable__content pre {margin: 0.2em;color: black;border-radius: 0.25em;background-color: #f0f8ff;}#sk-container-id-1 input.sk-toggleable__control:checked~div.sk-toggleable__content {max-height: 200px;max-width: 100%;overflow: auto;}#sk-container-id-1 input.sk-toggleable__control:checked~label.sk-toggleable__label-arrow:before {content: \"▾\";}#sk-container-id-1 div.sk-estimator input.sk-toggleable__control:checked~label.sk-toggleable__label {background-color: #d4ebff;}#sk-container-id-1 div.sk-label input.sk-toggleable__control:checked~label.sk-toggleable__label {background-color: #d4ebff;}#sk-container-id-1 input.sk-hidden--visually {border: 0;clip: rect(1px 1px 1px 1px);clip: rect(1px, 1px, 1px, 1px);height: 1px;margin: -1px;overflow: hidden;padding: 0;position: absolute;width: 1px;}#sk-container-id-1 div.sk-estimator {font-family: monospace;background-color: #f0f8ff;border: 1px dotted black;border-radius: 0.25em;box-sizing: border-box;margin-bottom: 0.5em;}#sk-container-id-1 div.sk-estimator:hover {background-color: #d4ebff;}#sk-container-id-1 div.sk-parallel-item::after {content: \"\";width: 100%;border-bottom: 1px solid gray;flex-grow: 1;}#sk-container-id-1 div.sk-label:hover label.sk-toggleable__label {background-color: #d4ebff;}#sk-container-id-1 div.sk-serial::before {content: \"\";position: absolute;border-left: 1px solid gray;box-sizing: border-box;top: 0;bottom: 0;left: 50%;z-index: 0;}#sk-container-id-1 div.sk-serial {display: flex;flex-direction: column;align-items: center;background-color: white;padding-right: 0.2em;padding-left: 0.2em;position: relative;}#sk-container-id-1 div.sk-item {position: relative;z-index: 1;}#sk-container-id-1 div.sk-parallel {display: flex;align-items: stretch;justify-content: center;background-color: white;position: relative;}#sk-container-id-1 div.sk-item::before, #sk-container-id-1 div.sk-parallel-item::before {content: \"\";position: absolute;border-left: 1px solid gray;box-sizing: border-box;top: 0;bottom: 0;left: 50%;z-index: -1;}#sk-container-id-1 div.sk-parallel-item {display: flex;flex-direction: column;z-index: 1;position: relative;background-color: white;}#sk-container-id-1 div.sk-parallel-item:first-child::after {align-self: flex-end;width: 50%;}#sk-container-id-1 div.sk-parallel-item:last-child::after {align-self: flex-start;width: 50%;}#sk-container-id-1 div.sk-parallel-item:only-child::after {width: 0;}#sk-container-id-1 div.sk-dashed-wrapped {border: 1px dashed gray;margin: 0 0.4em 0.5em 0.4em;box-sizing: border-box;padding-bottom: 0.4em;background-color: white;}#sk-container-id-1 div.sk-label label {font-family: monospace;font-weight: bold;display: inline-block;line-height: 1.2em;}#sk-container-id-1 div.sk-label-container {text-align: center;}#sk-container-id-1 div.sk-container {/* jupyter's `normalize.less` sets `[hidden] { display: none; }` but bootstrap.min.css set `[hidden] { display: none !important; }` so we also need the `!important` here to be able to override the default hidden behavior on the sphinx rendered scikit-learn.org. See: https://github.com/scikit-learn/scikit-learn/issues/21755 */display: inline-block !important;position: relative;}#sk-container-id-1 div.sk-text-repr-fallback {display: none;}</style><div id=\"sk-container-id-1\" class=\"sk-top-container\"><div class=\"sk-text-repr-fallback\"><pre>LinearRegression()</pre><b>In a Jupyter environment, please rerun this cell to show the HTML representation or trust the notebook. <br />On GitHub, the HTML representation is unable to render, please try loading this page with nbviewer.org.</b></div><div class=\"sk-container\" hidden><div class=\"sk-item\"><div class=\"sk-estimator sk-toggleable\"><input class=\"sk-toggleable__control sk-hidden--visually\" id=\"sk-estimator-id-1\" type=\"checkbox\" checked><label for=\"sk-estimator-id-1\" class=\"sk-toggleable__label sk-toggleable__label-arrow\">LinearRegression</label><div class=\"sk-toggleable__content\"><pre>LinearRegression()</pre></div></div></div></div></div>"
      ],
      "text/plain": [
       "LinearRegression()"
      ]
     },
     "execution_count": 43,
     "metadata": {},
     "output_type": "execute_result"
    }
   ],
   "source": [
    "#Once we got the algo, now we could make it learn by providing te training data\n",
    "alg1.fit(X_train,Y_train)\n",
    "alg2.fit(X2_train,Y2_train)"
   ]
  },
  {
   "cell_type": "code",
   "execution_count": 56,
   "id": "21422f7f-2066-4cd7-a12d-c2ef9bf36ca3",
   "metadata": {},
   "outputs": [
    {
     "name": "stdout",
     "output_type": "stream",
     "text": [
      "Train Score:  0.7697699488741149\n",
      "Test Score:  0.6354638433202122\n",
      "\n",
      "Train2 Score:  0.770724544991109\n",
      "Test2 Score:  0.6433109272342963\n"
     ]
    }
   ],
   "source": [
    "#After training it, we can ask to predict the output of testing data and get the score-CoD\n",
    "Y_pred=alg1.predict(X_test) #Got the Y_pred\n",
    "train_score=alg1.score(X_train,Y_train)\n",
    "test_score=alg1.score(X_test,Y_test)\n",
    "print(\"Train Score: \", train_score)\n",
    "print(\"Test Score: \", test_score)\n",
    "print()\n",
    "Y2_pred=alg2.predict(X2_test)\n",
    "train_score2=alg2.score(X2_train,Y2_train)\n",
    "test_score2=alg2.score(X2_test,Y2_test)\n",
    "print(\"Train2 Score: \", train_score2)\n",
    "print(\"Test2 Score: \", test_score2)"
   ]
  },
  {
   "cell_type": "markdown",
   "id": "55db417e-2aa1-4a99-97b1-3df31ad13cbd",
   "metadata": {},
   "source": [
    "### Hence as we could see in above the score increased for training dat but you should always concentrate on testing daat's score as it should also be increased wih training data's score"
   ]
  },
  {
   "cell_type": "code",
   "execution_count": 49,
   "id": "bad36000-2295-4a69-a5a8-46119e2d2715",
   "metadata": {},
   "outputs": [
    {
     "name": "stdout",
     "output_type": "stream",
     "text": [
      "[-1.17735289e-01  4.40174969e-02 -5.76814314e-03  2.39341594e+00\n",
      " -1.55894211e+01  3.76896770e+00 -7.03517828e-03 -1.43495641e+00\n",
      "  2.40081086e-01 -1.12972810e-02 -9.85546732e-01  8.44443453e-03\n",
      " -4.99116797e-01]\n",
      "36.93325545711977\n"
     ]
    }
   ],
   "source": [
    "#As we have only one feature,means lineEquation would be y=mx+c :\n",
    "print(alg1.coef_)#By-default all-coeff are passed in a single array\n",
    "m=alg1.coef_\n",
    "#m, as here is only one feature so only oneCoeff is there, that's why here is an array with one item ,\n",
    "print(alg1.intercept_) #c\n",
    "c=alg1.intercept_"
   ]
  },
  {
   "cell_type": "code",
   "execution_count": 50,
   "id": "c42da5ff-e86e-4340-87b8-6fdc508a9930",
   "metadata": {},
   "outputs": [
    {
     "name": "stdout",
     "output_type": "stream",
     "text": [
      "[-1.21579185e-01  4.15672024e-02 -1.88136506e-02  2.43746328e+00\n",
      " -1.63669086e+01  3.72912309e+00 -6.10244801e-02 -1.44016886e+00\n",
      "  2.50778806e-01 -1.16918234e-02 -9.89970126e-01  8.15794890e-03\n",
      " -5.10778502e-01  4.88614460e-04]\n",
      "39.224612201938584\n"
     ]
    }
   ],
   "source": [
    "print(alg2.coef_)\n",
    "m2=alg2.coef_\n",
    "print(alg2.intercept_) \n",
    "c2=alg2.intercept_"
   ]
  },
  {
   "cell_type": "markdown",
   "id": "d45062e3-28ab-47c5-859d-3b04658d3545",
   "metadata": {},
   "source": [
    "## How good is the algo after training,for this, we have to compare Y_pred and Y_test by GRAPH"
   ]
  },
  {
   "cell_type": "code",
   "execution_count": 14,
   "id": "1cca1667-031a-4696-9367-edd5ceabefbf",
   "metadata": {},
   "outputs": [
    {
     "data": {
      "image/png": "[encoded data removed]",
      "text/plain": [
       "<Figure size 640x480 with 1 Axes>"
      ]
     },
     "metadata": {},
     "output_type": "display_data"
    }
   ],
   "source": [
    "import matplotlib.pyplot as plt\n",
    "import numpy as np\n",
    "\n",
    "plt.axis([0,40,0,40])#Rearranging the axis\n",
    "plt.scatter(Y_test,Y_pred)#Plotting Y_test vs Y_train\n",
    "plt.ylabel('Y_pred')\n",
    "plt.xlabel('Y_test')\n",
    "\n",
    "#PLotting of y=x line\n",
    "x=np.arange(1,40)\n",
    "y=x\n",
    "plt.plot(x,y,c='r')\n",
    "\n",
    "plt.show()\n",
    "#As line(y=x) shows Y_pred=Y_test, means we have to measure how much the points are far from the line\n",
    "#Now model is accurate, there always be some error, our aim is to minimize those error\n",
    "#As here the error refers to the distance between the points and the line"
   ]
  },
  {
   "cell_type": "code",
   "execution_count": 51,
   "id": "9a2386ed-fe2c-4268-9233-346524ab41c7",
   "metadata": {},
   "outputs": [
    {
     "data": {
      "image/png": "[encoded data removed]",
      "text/plain": [
       "<Figure size 640x480 with 1 Axes>"
      ]
     },
     "metadata": {},
     "output_type": "display_data"
    }
   ],
   "source": [
    "import matplotlib.pyplot as plt\n",
    "import numpy as np\n",
    "\n",
    "plt.axis([0,40,0,40])#Rearranging the axis\n",
    "plt.scatter(Y2_test,Y2_pred)#Plotting Y_test vs Y_train\n",
    "plt.ylabel('Y2_pred')\n",
    "plt.xlabel('Y2_test')\n",
    "\n",
    "#PLotting of y=x line\n",
    "x=np.arange(1,40)\n",
    "y=x\n",
    "plt.plot(x,y,c='r')\n",
    "\n",
    "plt.show()\n",
    "#As line(y=x) shows Y_pred=Y_test, means we have to measure how much the points are far from the line\n",
    "#Now model is accurate, there always be some error, our aim is to minimize those error\n",
    "#As here the error refers to the distance between the points and the line"
   ]
  }
 ],
 "metadata": {
  "kernelspec": {
   "display_name": "Python 3 (ipykernel)",
   "language": "python",
   "name": "python3"
  },
  "language_info": {
   "codemirror_mode": {
    "name": "ipython",
    "version": 3
   },
   "file_extension": ".py",
   "mimetype": "text/x-python",
   "name": "python",
   "nbconvert_exporter": "python",
   "pygments_lexer": "ipython3",
   "version": "3.10.9"
  }
 },
 "nbformat": 4,
 "nbformat_minor": 5
}
