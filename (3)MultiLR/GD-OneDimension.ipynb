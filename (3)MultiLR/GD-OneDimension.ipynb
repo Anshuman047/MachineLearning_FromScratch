{
 "cells": [
  {
   "cell_type": "markdown",
   "id": "510ee71e-e9b9-40e6-a906-b2c97de2d662",
   "metadata": {},
   "source": [
    "# Implimentation of GradientDescent on ONE Dimension"
   ]
  },
  {
   "cell_type": "code",
   "execution_count": 4,
   "id": "67578d61-507e-4a44-9781-b26c45231308",
   "metadata": {},
   "outputs": [],
   "source": [
    "import numpy as np"
   ]
  },
  {
   "cell_type": "code",
   "execution_count": 5,
   "id": "f84219ec-b3fe-4440-8311-f30d0e28fb44",
   "metadata": {},
   "outputs": [],
   "source": [
    "data=np.loadtxt(\"data.csv\",delimiter=\",\")"
   ]
  },
  {
   "cell_type": "code",
   "execution_count": 6,
   "id": "144151ee-3900-42b2-b7f2-42c49684746c",
   "metadata": {},
   "outputs": [],
   "source": [
    "X=data[:,0]\n",
    "Y=data[:,1]"
   ]
  },
  {
   "cell_type": "code",
   "execution_count": 7,
   "id": "bd792a42-c5e1-4ec6-9490-30e48969014d",
   "metadata": {},
   "outputs": [
    {
     "name": "stdout",
     "output_type": "stream",
     "text": [
      "(75, 1)\n",
      "(75,)\n",
      "(25, 1)\n",
      "(25,)\n"
     ]
    }
   ],
   "source": [
    "from sklearn import model_selection\n",
    "\n",
    "X_train,X_test,Y_train,Y_test=model_selection.train_test_split(X,Y)\n",
    "\n",
    "#Sizes\n",
    "X_train=X_train.reshape(-1,1)\n",
    "X_test=X_test.reshape(-1,1)\n",
    "print(X_train.shape)\n",
    "print(Y_train.shape)\n",
    "print(X_test.shape)\n",
    "print(Y_test.shape)\n"
   ]
  },
  {
   "cell_type": "markdown",
   "id": "2688344f-b2e7-4167-8147-aa68980cb9b1",
   "metadata": {},
   "source": [
    "# GradientDescent-Parameters:\n",
    "### 1)Data-TrainingData & TestingData\n",
    "### 2)Learning_Rate(alpha)\n",
    "### 3)Number_Of_Iterations"
   ]
  },
  {
   "cell_type": "code",
   "execution_count": 8,
   "id": "eee1c04e-0359-4c60-b140-05b598094d41",
   "metadata": {},
   "outputs": [],
   "source": [
    "#defining function which would calculate new m and c for a single step\n",
    "def step_gradient(X_train,Y_train,learning_rate,m,c):\n",
    "    m_slope=0\n",
    "    c_slope=0\n",
    "    N=len(X_train)\n",
    "    for i in range(N):\n",
    "        x=X_train[i]\n",
    "        y=Y_train[i]\n",
    "        m_slope+=(-2/N)*(y-m*x-c)*x\n",
    "        c_slope+=(-2/N)*(y-m*x-c)\n",
    "    new_m=m-learning_rate*m_slope\n",
    "    new_c=c-learning_rate*c_slope\n",
    "    return (new_m,new_c)"
   ]
  },
  {
   "cell_type": "code",
   "execution_count": 9,
   "id": "e95ca3b3-bd33-4319-9f08-e3f5aa8f9be3",
   "metadata": {},
   "outputs": [],
   "source": [
    "#Defining GradientDescent-function as gd\n",
    "def gd(X_train,Y_train,learning_rate,num_iterations):      \n",
    "    #At first we should have random values of m and c\n",
    "    m=0\n",
    "    c=0\n",
    "    for i in range(num_iterations):#We should update these m,c values for number iteration times\n",
    "        m,c=step_gradient(X_train,Y_train,learning_rate,m,c) #Another function made which would calculate sinleStep-GradientDescent\n",
    "        print(i,\"Cost: \",cost(X_train,Y_train,m,c))\n",
    "    return m,c        "
   ]
  },
  {
   "cell_type": "code",
   "execution_count": 10,
   "id": "3b91b1b6-6f80-448a-9209-ea9036f2b9d0",
   "metadata": {},
   "outputs": [],
   "source": [
    "#Defining costFunction which could return the instantenousCost function\n",
    "def cost(X_train,Y_train,m,c):\n",
    "    total_cost=0\n",
    "    N=len(X_train)\n",
    "    x=X_train\n",
    "    y=Y_train\n",
    "    for i in range(N):\n",
    "        x=X_train[i]\n",
    "        y=Y_train[i]\n",
    "        total_cost+=(1/N)*((y-m*x-c)**2)\n",
    "    return total_cost"
   ]
  },
  {
   "cell_type": "code",
   "execution_count": 30,
   "id": "33c97205-3763-4092-9c59-5dabdcf514a8",
   "metadata": {},
   "outputs": [],
   "source": [
    "#Defined a function where the resepctive parameters are passed and called GradoentFunction as \"gd\" \n",
    "def run():\n",
    "    learning_rate=0.0001\n",
    "    num_iterations=10\n",
    "    m,c=gd(X_train,Y_train,learning_rate,num_iterations)\n",
    "    print(m,c)"
   ]
  },
  {
   "cell_type": "code",
   "execution_count": 31,
   "id": "19653b50-caea-4f69-94bc-aa52e8ca54d5",
   "metadata": {},
   "outputs": [
    {
     "name": "stdout",
     "output_type": "stream",
     "text": [
      "0 Cost:  [1563.72220462]\n",
      "1 Cost:  [505.22534958]\n",
      "2 Cost:  [218.12408071]\n",
      "3 Cost:  [140.25219048]\n",
      "4 Cost:  [119.13060276]\n",
      "5 Cost:  [113.40167577]\n",
      "6 Cost:  [111.84777504]\n",
      "7 Cost:  [111.42628701]\n",
      "8 Cost:  [111.31194878]\n",
      "9 Cost:  [111.28092029]\n",
      "[1.49247985] [0.03027314]\n"
     ]
    }
   ],
   "source": [
    "run()"
   ]
  },
  {
   "cell_type": "code",
   "execution_count": null,
   "id": "1483525a-d6a6-4bdf-b338-6931cb7bedc5",
   "metadata": {},
   "outputs": [],
   "source": []
  }
 ],
 "metadata": {
  "kernelspec": {
   "display_name": "Python 3 (ipykernel)",
   "language": "python",
   "name": "python3"
  },
  "language_info": {
   "codemirror_mode": {
    "name": "ipython",
    "version": 3
   },
   "file_extension": ".py",
   "mimetype": "text/x-python",
   "name": "python",
   "nbconvert_exporter": "python",
   "pygments_lexer": "ipython3",
   "version": "3.10.9"
  }
 },
 "nbformat": 4,
 "nbformat_minor": 5
}
